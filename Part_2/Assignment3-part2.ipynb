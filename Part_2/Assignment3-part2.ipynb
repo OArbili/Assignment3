{
 "cells": [
  {
   "cell_type": "code",
   "execution_count": 10,
   "id": "c4bfaead-963b-4a3e-9463-30bf8e61b5e4",
   "metadata": {},
   "outputs": [],
   "source": [
    "import glob\n",
    "import cv2\n",
    "import random\n",
    "import warnings\n",
    "import PIL.Image\n",
    "import subprocess\n",
    "import seaborn as sns\n",
    "from PIL import Image\n",
    "import matplotlib.pyplot as plt\n",
    "\n",
    "import preprocess\n",
    "import model\n",
    "import config\n",
    "\n",
    "import importlib\n",
    "\n",
    "importlib.reload(preprocess)\n",
    "importlib.reload(model)\n",
    "importlib.reload(config)\n",
    "\n",
    "%matplotlib inline\n",
    "warnings.simplefilter('ignore')"
   ]
  },
  {
   "cell_type": "code",
   "execution_count": 11,
   "id": "412e3dc4-07c6-409a-8343-15d87b765c5e",
   "metadata": {},
   "outputs": [
    {
     "name": "stdout",
     "output_type": "stream",
     "text": [
      "Sun Jul 17 21:37:14 2022 Epoch: 1\n"
     ]
    },
    {
     "data": {
      "application/vnd.jupyter.widget-view+json": {
       "model_id": "877c620d62084562899e1c0a4ff0fa7f",
       "version_major": 2,
       "version_minor": 0
      },
      "text/plain": [
       "  0%|          | 0/64 [00:00<?, ?it/s]"
      ]
     },
     "metadata": {},
     "output_type": "display_data"
    },
    {
     "data": {
      "application/vnd.jupyter.widget-view+json": {
       "model_id": "8cf23aaa4cba4945a0db24624d3acc79",
       "version_major": 2,
       "version_minor": 0
      },
      "text/plain": [
       "  0%|          | 0/32 [00:00<?, ?it/s]"
      ]
     },
     "metadata": {},
     "output_type": "display_data"
    },
    {
     "name": "stdout",
     "output_type": "stream",
     "text": [
      "Sun Jul 17 21:37:38 2022 Fold 0 Epoch 1, lr: 0.0003000, train loss: 4.4417, valid loss: 4.1867, train_acc: 0.0457, valid_acc: 0.0645.\n",
      "acc increased (0.000000 --> 0.064453).  Saving model ...\n",
      "Sun Jul 17 21:37:39 2022 Epoch: 2\n"
     ]
    },
    {
     "data": {
      "application/vnd.jupyter.widget-view+json": {
       "model_id": "0c074ee360204587ae32c0b5dd6abb24",
       "version_major": 2,
       "version_minor": 0
      },
      "text/plain": [
       "  0%|          | 0/64 [00:00<?, ?it/s]"
      ]
     },
     "metadata": {},
     "output_type": "display_data"
    },
    {
     "data": {
      "application/vnd.jupyter.widget-view+json": {
       "model_id": "62344da5ed244aed9a0e286fc14a6d91",
       "version_major": 2,
       "version_minor": 0
      },
      "text/plain": [
       "  0%|          | 0/32 [00:00<?, ?it/s]"
      ]
     },
     "metadata": {},
     "output_type": "display_data"
    },
    {
     "name": "stdout",
     "output_type": "stream",
     "text": [
      "Sun Jul 17 21:38:02 2022 Fold 0 Epoch 2, lr: 0.0009000, train loss: 2.7284, valid loss: 1.3761, train_acc: 0.3681, valid_acc: 0.6162.\n",
      "acc increased (0.064453 --> 0.616211).  Saving model ...\n",
      "Sun Jul 17 21:38:03 2022 Epoch: 3\n"
     ]
    },
    {
     "data": {
      "application/vnd.jupyter.widget-view+json": {
       "model_id": "c95dad16b5464ba786a2239f7120518c",
       "version_major": 2,
       "version_minor": 0
      },
      "text/plain": [
       "  0%|          | 0/64 [00:00<?, ?it/s]"
      ]
     },
     "metadata": {},
     "output_type": "display_data"
    },
    {
     "data": {
      "application/vnd.jupyter.widget-view+json": {
       "model_id": "9741dcef08c647ebbe0daf76f9d06f97",
       "version_major": 2,
       "version_minor": 0
      },
      "text/plain": [
       "  0%|          | 0/32 [00:00<?, ?it/s]"
      ]
     },
     "metadata": {},
     "output_type": "display_data"
    },
    {
     "name": "stdout",
     "output_type": "stream",
     "text": [
      "Sun Jul 17 21:38:26 2022 Fold 0 Epoch 3, lr: 0.0009000, train loss: 1.0236, valid loss: 0.5806, train_acc: 0.7286, valid_acc: 0.8530.\n",
      "acc increased (0.616211 --> 0.853027).  Saving model ...\n",
      "Sun Jul 17 21:38:27 2022 Epoch: 4\n"
     ]
    },
    {
     "data": {
      "application/vnd.jupyter.widget-view+json": {
       "model_id": "51027540aadc4355962bec351da8a5f0",
       "version_major": 2,
       "version_minor": 0
      },
      "text/plain": [
       "  0%|          | 0/64 [00:00<?, ?it/s]"
      ]
     },
     "metadata": {},
     "output_type": "display_data"
    },
    {
     "data": {
      "application/vnd.jupyter.widget-view+json": {
       "model_id": "c3582f33618049de8c52fbb878bbdbdd",
       "version_major": 2,
       "version_minor": 0
      },
      "text/plain": [
       "  0%|          | 0/32 [00:00<?, ?it/s]"
      ]
     },
     "metadata": {},
     "output_type": "display_data"
    },
    {
     "name": "stdout",
     "output_type": "stream",
     "text": [
      "Sun Jul 17 21:38:51 2022 Fold 0 Epoch 4, lr: 0.0008756, train loss: 0.6286, valid loss: 0.5081, train_acc: 0.8305, valid_acc: 0.8643.\n",
      "acc increased (0.853027 --> 0.864258).  Saving model ...\n",
      "Sun Jul 17 21:38:51 2022 Epoch: 5\n"
     ]
    },
    {
     "data": {
      "application/vnd.jupyter.widget-view+json": {
       "model_id": "fcdfcc1fd9cd4a6e934c70b0e83c28f7",
       "version_major": 2,
       "version_minor": 0
      },
      "text/plain": [
       "  0%|          | 0/64 [00:00<?, ?it/s]"
      ]
     },
     "metadata": {},
     "output_type": "display_data"
    },
    {
     "data": {
      "application/vnd.jupyter.widget-view+json": {
       "model_id": "20ed8cecb3ae4bd29b7ef0803f237ef2",
       "version_major": 2,
       "version_minor": 0
      },
      "text/plain": [
       "  0%|          | 0/32 [00:00<?, ?it/s]"
      ]
     },
     "metadata": {},
     "output_type": "display_data"
    },
    {
     "name": "stdout",
     "output_type": "stream",
     "text": [
      "Sun Jul 17 21:39:15 2022 Fold 0 Epoch 5, lr: 0.0008458, train loss: 0.4549, valid loss: 0.4787, train_acc: 0.8742, valid_acc: 0.8677.\n",
      "acc increased (0.864258 --> 0.867676).  Saving model ...\n",
      "Sun Jul 17 21:39:16 2022 Epoch: 6\n"
     ]
    },
    {
     "data": {
      "application/vnd.jupyter.widget-view+json": {
       "model_id": "eb5516ff466a4404affe22881884a64d",
       "version_major": 2,
       "version_minor": 0
      },
      "text/plain": [
       "  0%|          | 0/64 [00:00<?, ?it/s]"
      ]
     },
     "metadata": {},
     "output_type": "display_data"
    },
    {
     "data": {
      "application/vnd.jupyter.widget-view+json": {
       "model_id": "9de569f31fbf44c1923478ad77049ba2",
       "version_major": 2,
       "version_minor": 0
      },
      "text/plain": [
       "  0%|          | 0/32 [00:00<?, ?it/s]"
      ]
     },
     "metadata": {},
     "output_type": "display_data"
    },
    {
     "name": "stdout",
     "output_type": "stream",
     "text": [
      "Sun Jul 17 21:39:39 2022 Fold 0 Epoch 6, lr: 0.0008051, train loss: 0.3873, valid loss: 0.3159, train_acc: 0.8933, valid_acc: 0.9102.\n",
      "acc increased (0.867676 --> 0.910156).  Saving model ...\n",
      "Sun Jul 17 21:39:40 2022 Epoch: 7\n"
     ]
    },
    {
     "data": {
      "application/vnd.jupyter.widget-view+json": {
       "model_id": "b54e083e5b6e442386f97527d97aa8b0",
       "version_major": 2,
       "version_minor": 0
      },
      "text/plain": [
       "  0%|          | 0/64 [00:00<?, ?it/s]"
      ]
     },
     "metadata": {},
     "output_type": "display_data"
    },
    {
     "data": {
      "application/vnd.jupyter.widget-view+json": {
       "model_id": "51d77b72ef6f47cc9301d71ca6ec1096",
       "version_major": 2,
       "version_minor": 0
      },
      "text/plain": [
       "  0%|          | 0/32 [00:00<?, ?it/s]"
      ]
     },
     "metadata": {},
     "output_type": "display_data"
    },
    {
     "name": "stdout",
     "output_type": "stream",
     "text": [
      "Sun Jul 17 21:40:04 2022 Fold 0 Epoch 7, lr: 0.0007548, train loss: 0.3214, valid loss: 0.3246, train_acc: 0.9086, valid_acc: 0.9111.\n",
      "acc increased (0.910156 --> 0.911133).  Saving model ...\n",
      "Sun Jul 17 21:40:04 2022 Epoch: 8\n"
     ]
    },
    {
     "data": {
      "application/vnd.jupyter.widget-view+json": {
       "model_id": "07e5b555ea184ee6b339c4a81b2b5e27",
       "version_major": 2,
       "version_minor": 0
      },
      "text/plain": [
       "  0%|          | 0/64 [00:00<?, ?it/s]"
      ]
     },
     "metadata": {},
     "output_type": "display_data"
    },
    {
     "data": {
      "application/vnd.jupyter.widget-view+json": {
       "model_id": "6360840ca6b14c7784f867ad1820b5be",
       "version_major": 2,
       "version_minor": 0
      },
      "text/plain": [
       "  0%|          | 0/32 [00:00<?, ?it/s]"
      ]
     },
     "metadata": {},
     "output_type": "display_data"
    },
    {
     "name": "stdout",
     "output_type": "stream",
     "text": [
      "Sun Jul 17 21:40:28 2022 Fold 0 Epoch 8, lr: 0.0006961, train loss: 0.2646, valid loss: 0.2700, train_acc: 0.9262, valid_acc: 0.9233.\n",
      "acc increased (0.911133 --> 0.923340).  Saving model ...\n",
      "Sun Jul 17 21:40:29 2022 Epoch: 9\n"
     ]
    },
    {
     "data": {
      "application/vnd.jupyter.widget-view+json": {
       "model_id": "dea3e7fce02740fa98b7dc04676d0200",
       "version_major": 2,
       "version_minor": 0
      },
      "text/plain": [
       "  0%|          | 0/64 [00:00<?, ?it/s]"
      ]
     },
     "metadata": {},
     "output_type": "display_data"
    },
    {
     "data": {
      "application/vnd.jupyter.widget-view+json": {
       "model_id": "178aea9dfa19441f9105a0a8a0bfc803",
       "version_major": 2,
       "version_minor": 0
      },
      "text/plain": [
       "  0%|          | 0/32 [00:00<?, ?it/s]"
      ]
     },
     "metadata": {},
     "output_type": "display_data"
    },
    {
     "name": "stdout",
     "output_type": "stream",
     "text": [
      "Sun Jul 17 21:40:52 2022 Fold 0 Epoch 9, lr: 0.0006308, train loss: 0.2087, valid loss: 0.2587, train_acc: 0.9428, valid_acc: 0.9351.\n",
      "acc increased (0.923340 --> 0.935059).  Saving model ...\n",
      "Sun Jul 17 21:40:53 2022 Epoch: 10\n"
     ]
    },
    {
     "data": {
      "application/vnd.jupyter.widget-view+json": {
       "model_id": "183c1475ce5b4ab4b8901df36cf0f7be",
       "version_major": 2,
       "version_minor": 0
      },
      "text/plain": [
       "  0%|          | 0/64 [00:00<?, ?it/s]"
      ]
     },
     "metadata": {},
     "output_type": "display_data"
    },
    {
     "data": {
      "application/vnd.jupyter.widget-view+json": {
       "model_id": "e03c2fda2b3148888b6af04c8d7f8ad9",
       "version_major": 2,
       "version_minor": 0
      },
      "text/plain": [
       "  0%|          | 0/32 [00:00<?, ?it/s]"
      ]
     },
     "metadata": {},
     "output_type": "display_data"
    },
    {
     "name": "stdout",
     "output_type": "stream",
     "text": [
      "Sun Jul 17 21:41:17 2022 Fold 0 Epoch 10, lr: 0.0005605, train loss: 0.2191, valid loss: 0.2350, train_acc: 0.9392, valid_acc: 0.9414.\n",
      "acc increased (0.935059 --> 0.941406).  Saving model ...\n",
      "Sun Jul 17 21:41:17 2022 Epoch: 11\n"
     ]
    },
    {
     "data": {
      "application/vnd.jupyter.widget-view+json": {
       "model_id": "de55c39dc37a4300a7a5345ab23eb735",
       "version_major": 2,
       "version_minor": 0
      },
      "text/plain": [
       "  0%|          | 0/64 [00:00<?, ?it/s]"
      ]
     },
     "metadata": {},
     "output_type": "display_data"
    },
    {
     "data": {
      "application/vnd.jupyter.widget-view+json": {
       "model_id": "2f62d152cc2b4af9aa51767b79ac3f1f",
       "version_major": 2,
       "version_minor": 0
      },
      "text/plain": [
       "  0%|          | 0/32 [00:00<?, ?it/s]"
      ]
     },
     "metadata": {},
     "output_type": "display_data"
    },
    {
     "name": "stdout",
     "output_type": "stream",
     "text": [
      "Sun Jul 17 21:41:41 2022 Fold 0 Epoch 11, lr: 0.0004872, train loss: 0.1901, valid loss: 0.2159, train_acc: 0.9480, valid_acc: 0.9458.\n",
      "acc increased (0.941406 --> 0.945801).  Saving model ...\n",
      "Sun Jul 17 21:41:42 2022 Epoch: 12\n"
     ]
    },
    {
     "data": {
      "application/vnd.jupyter.widget-view+json": {
       "model_id": "0b56afcc4e3c46c8916a07cb8856761a",
       "version_major": 2,
       "version_minor": 0
      },
      "text/plain": [
       "  0%|          | 0/64 [00:00<?, ?it/s]"
      ]
     },
     "metadata": {},
     "output_type": "display_data"
    },
    {
     "data": {
      "application/vnd.jupyter.widget-view+json": {
       "model_id": "a4319e1e544041deb18c4c5129854860",
       "version_major": 2,
       "version_minor": 0
      },
      "text/plain": [
       "  0%|          | 0/32 [00:00<?, ?it/s]"
      ]
     },
     "metadata": {},
     "output_type": "display_data"
    },
    {
     "name": "stdout",
     "output_type": "stream",
     "text": [
      "Sun Jul 17 21:42:05 2022 Fold 0 Epoch 12, lr: 0.0004128, train loss: 0.1647, valid loss: 0.2381, train_acc: 0.9558, valid_acc: 0.9434.\n",
      "Sun Jul 17 21:42:05 2022 Epoch: 13\n"
     ]
    },
    {
     "data": {
      "application/vnd.jupyter.widget-view+json": {
       "model_id": "31af0338be4c4bb6a8eae4a396b62b6f",
       "version_major": 2,
       "version_minor": 0
      },
      "text/plain": [
       "  0%|          | 0/64 [00:00<?, ?it/s]"
      ]
     },
     "metadata": {},
     "output_type": "display_data"
    },
    {
     "data": {
      "application/vnd.jupyter.widget-view+json": {
       "model_id": "50d1636f2a3549c883dc5c21f8034a41",
       "version_major": 2,
       "version_minor": 0
      },
      "text/plain": [
       "  0%|          | 0/32 [00:00<?, ?it/s]"
      ]
     },
     "metadata": {},
     "output_type": "display_data"
    },
    {
     "name": "stdout",
     "output_type": "stream",
     "text": [
      "Sun Jul 17 21:42:29 2022 Fold 0 Epoch 13, lr: 0.0003395, train loss: 0.1570, valid loss: 0.2540, train_acc: 0.9587, valid_acc: 0.9473.\n",
      "acc increased (0.945801 --> 0.947266).  Saving model ...\n",
      "Sun Jul 17 21:42:30 2022 Epoch: 14\n"
     ]
    },
    {
     "data": {
      "application/vnd.jupyter.widget-view+json": {
       "model_id": "6801169b234e44d29ba9ec9fb6d7e04d",
       "version_major": 2,
       "version_minor": 0
      },
      "text/plain": [
       "  0%|          | 0/64 [00:00<?, ?it/s]"
      ]
     },
     "metadata": {},
     "output_type": "display_data"
    },
    {
     "data": {
      "application/vnd.jupyter.widget-view+json": {
       "model_id": "6fe44bafb64246a7b807784d4e81199f",
       "version_major": 2,
       "version_minor": 0
      },
      "text/plain": [
       "  0%|          | 0/32 [00:00<?, ?it/s]"
      ]
     },
     "metadata": {},
     "output_type": "display_data"
    },
    {
     "name": "stdout",
     "output_type": "stream",
     "text": [
      "Sun Jul 17 21:42:54 2022 Fold 0 Epoch 14, lr: 0.0002692, train loss: 0.1497, valid loss: 0.1928, train_acc: 0.9612, valid_acc: 0.9507.\n",
      "acc increased (0.947266 --> 0.950684).  Saving model ...\n",
      "Sun Jul 17 21:42:55 2022 Epoch: 15\n"
     ]
    },
    {
     "data": {
      "application/vnd.jupyter.widget-view+json": {
       "model_id": "e028ad7b6c1041b9b0f8baf7104f0f92",
       "version_major": 2,
       "version_minor": 0
      },
      "text/plain": [
       "  0%|          | 0/64 [00:00<?, ?it/s]"
      ]
     },
     "metadata": {},
     "output_type": "display_data"
    },
    {
     "data": {
      "application/vnd.jupyter.widget-view+json": {
       "model_id": "5e15e523919845918654f61e6333db51",
       "version_major": 2,
       "version_minor": 0
      },
      "text/plain": [
       "  0%|          | 0/32 [00:00<?, ?it/s]"
      ]
     },
     "metadata": {},
     "output_type": "display_data"
    },
    {
     "name": "stdout",
     "output_type": "stream",
     "text": [
      "Sun Jul 17 21:43:19 2022 Fold 0 Epoch 15, lr: 0.0002039, train loss: 0.1483, valid loss: 0.1840, train_acc: 0.9604, valid_acc: 0.9531.\n",
      "acc increased (0.950684 --> 0.953125).  Saving model ...\n",
      "Sun Jul 17 21:43:20 2022 Epoch: 16\n"
     ]
    },
    {
     "data": {
      "application/vnd.jupyter.widget-view+json": {
       "model_id": "7e9ee4eb29ac48009e8a941f666205dd",
       "version_major": 2,
       "version_minor": 0
      },
      "text/plain": [
       "  0%|          | 0/64 [00:00<?, ?it/s]"
      ]
     },
     "metadata": {},
     "output_type": "display_data"
    },
    {
     "data": {
      "application/vnd.jupyter.widget-view+json": {
       "model_id": "5c92362bc75b4b999daea1a6ac7f616a",
       "version_major": 2,
       "version_minor": 0
      },
      "text/plain": [
       "  0%|          | 0/32 [00:00<?, ?it/s]"
      ]
     },
     "metadata": {},
     "output_type": "display_data"
    },
    {
     "name": "stdout",
     "output_type": "stream",
     "text": [
      "Sun Jul 17 21:43:43 2022 Fold 0 Epoch 16, lr: 0.0001452, train loss: 0.1143, valid loss: 0.1804, train_acc: 0.9687, valid_acc: 0.9541.\n",
      "acc increased (0.953125 --> 0.954102).  Saving model ...\n",
      "Sun Jul 17 21:43:44 2022 Epoch: 17\n"
     ]
    },
    {
     "data": {
      "application/vnd.jupyter.widget-view+json": {
       "model_id": "ad05f0acb4f34061aca50e1f94c79c71",
       "version_major": 2,
       "version_minor": 0
      },
      "text/plain": [
       "  0%|          | 0/64 [00:00<?, ?it/s]"
      ]
     },
     "metadata": {},
     "output_type": "display_data"
    },
    {
     "data": {
      "application/vnd.jupyter.widget-view+json": {
       "model_id": "f5175f6641f84247a62d4d30f4fba972",
       "version_major": 2,
       "version_minor": 0
      },
      "text/plain": [
       "  0%|          | 0/32 [00:00<?, ?it/s]"
      ]
     },
     "metadata": {},
     "output_type": "display_data"
    },
    {
     "name": "stdout",
     "output_type": "stream",
     "text": [
      "Sun Jul 17 21:44:08 2022 Fold 0 Epoch 17, lr: 0.0000949, train loss: 0.1184, valid loss: 0.1544, train_acc: 0.9678, valid_acc: 0.9575.\n",
      "acc increased (0.954102 --> 0.957520).  Saving model ...\n",
      "Sun Jul 17 21:44:08 2022 Epoch: 18\n"
     ]
    },
    {
     "data": {
      "application/vnd.jupyter.widget-view+json": {
       "model_id": "42ba659c95b541688e550e5aae0e9ab9",
       "version_major": 2,
       "version_minor": 0
      },
      "text/plain": [
       "  0%|          | 0/64 [00:00<?, ?it/s]"
      ]
     },
     "metadata": {},
     "output_type": "display_data"
    },
    {
     "data": {
      "application/vnd.jupyter.widget-view+json": {
       "model_id": "f2ef3fc99cec4d049896cc2e92715088",
       "version_major": 2,
       "version_minor": 0
      },
      "text/plain": [
       "  0%|          | 0/32 [00:00<?, ?it/s]"
      ]
     },
     "metadata": {},
     "output_type": "display_data"
    },
    {
     "name": "stdout",
     "output_type": "stream",
     "text": [
      "Sun Jul 17 21:44:32 2022 Fold 0 Epoch 18, lr: 0.0000542, train loss: 0.0998, valid loss: 0.1604, train_acc: 0.9734, valid_acc: 0.9585.\n",
      "acc increased (0.957520 --> 0.958496).  Saving model ...\n",
      "Sun Jul 17 21:44:33 2022 Epoch: 19\n"
     ]
    },
    {
     "data": {
      "application/vnd.jupyter.widget-view+json": {
       "model_id": "ad54d14b47ab47edb308e57c2d9b77fc",
       "version_major": 2,
       "version_minor": 0
      },
      "text/plain": [
       "  0%|          | 0/64 [00:00<?, ?it/s]"
      ]
     },
     "metadata": {},
     "output_type": "display_data"
    },
    {
     "data": {
      "application/vnd.jupyter.widget-view+json": {
       "model_id": "a172bceec72e46e1aeed33cb23c4f9a1",
       "version_major": 2,
       "version_minor": 0
      },
      "text/plain": [
       "  0%|          | 0/32 [00:00<?, ?it/s]"
      ]
     },
     "metadata": {},
     "output_type": "display_data"
    },
    {
     "name": "stdout",
     "output_type": "stream",
     "text": [
      "Sun Jul 17 21:44:56 2022 Fold 0 Epoch 19, lr: 0.0000244, train loss: 0.0930, valid loss: 0.1603, train_acc: 0.9744, valid_acc: 0.9590.\n",
      "acc increased (0.958496 --> 0.958984).  Saving model ...\n",
      "Sun Jul 17 21:44:57 2022 Epoch: 20\n"
     ]
    },
    {
     "data": {
      "application/vnd.jupyter.widget-view+json": {
       "model_id": "008295dc8ef2409cb215712e29818ae7",
       "version_major": 2,
       "version_minor": 0
      },
      "text/plain": [
       "  0%|          | 0/64 [00:00<?, ?it/s]"
      ]
     },
     "metadata": {},
     "output_type": "display_data"
    },
    {
     "data": {
      "application/vnd.jupyter.widget-view+json": {
       "model_id": "da19a0c388cb42eeb28f90602de62341",
       "version_major": 2,
       "version_minor": 0
      },
      "text/plain": [
       "  0%|          | 0/32 [00:00<?, ?it/s]"
      ]
     },
     "metadata": {},
     "output_type": "display_data"
    },
    {
     "name": "stdout",
     "output_type": "stream",
     "text": [
      "Sun Jul 17 21:45:21 2022 Fold 0 Epoch 20, lr: 0.0000061, train loss: 0.1036, valid loss: 0.1623, train_acc: 0.9724, valid_acc: 0.9585.\n"
     ]
    },
    {
     "data": {
      "application/vnd.jupyter.widget-view+json": {
       "model_id": "f333791e26dd4f78885d21fd36ae7585",
       "version_major": 2,
       "version_minor": 0
      },
      "text/plain": [
       "  0%|          | 0/32 [00:00<?, ?it/s]"
      ]
     },
     "metadata": {},
     "output_type": "display_data"
    },
    {
     "name": "stdout",
     "output_type": "stream",
     "text": [
      "test loss 0.12435816804645583 score 0.9648265754763068\n"
     ]
    }
   ],
   "source": [
    "part_2 = model.part_2_cnn('resnet101')\n",
    "part_2.train_test_img_transformation()\n",
    "part_2.load_data()\n",
    "part_2.build_model()"
   ]
  },
  {
   "cell_type": "code",
   "execution_count": 2,
   "id": "5e744a13-12f6-4297-88d5-dd2a8281d81c",
   "metadata": {},
   "outputs": [
    {
     "name": "stdout",
     "output_type": "stream",
     "text": [
      "Sun Jul 17 20:13:31 2022 Epoch: 1\n"
     ]
    },
    {
     "data": {
      "application/vnd.jupyter.widget-view+json": {
       "model_id": "665484c64ac94ea2b47b099b303a4f0f",
       "version_major": 2,
       "version_minor": 0
      },
      "text/plain": [
       "  0%|          | 0/64 [00:00<?, ?it/s]"
      ]
     },
     "metadata": {},
     "output_type": "display_data"
    },
    {
     "data": {
      "application/vnd.jupyter.widget-view+json": {
       "model_id": "aacd0dfe62c245f6a67f6ca34bbf4a64",
       "version_major": 2,
       "version_minor": 0
      },
      "text/plain": [
       "  0%|          | 0/32 [00:00<?, ?it/s]"
      ]
     },
     "metadata": {},
     "output_type": "display_data"
    },
    {
     "name": "stdout",
     "output_type": "stream",
     "text": [
      "Sun Jul 17 20:13:53 2022 Fold 0 Epoch 1, lr: 0.0003000, train loss: 2.9896, valid loss: 1.0136, train_acc: 0.3796, valid_acc: 0.7739.\n",
      "acc increased (0.000000 --> 0.773926).  Saving model ...\n",
      "Sun Jul 17 20:13:53 2022 Epoch: 2\n"
     ]
    },
    {
     "data": {
      "application/vnd.jupyter.widget-view+json": {
       "model_id": "4bf2389f12c342eebe24634e7afed625",
       "version_major": 2,
       "version_minor": 0
      },
      "text/plain": [
       "  0%|          | 0/64 [00:00<?, ?it/s]"
      ]
     },
     "metadata": {},
     "output_type": "display_data"
    },
    {
     "data": {
      "application/vnd.jupyter.widget-view+json": {
       "model_id": "bf19eab2db804813a99892d476122083",
       "version_major": 2,
       "version_minor": 0
      },
      "text/plain": [
       "  0%|          | 0/32 [00:00<?, ?it/s]"
      ]
     },
     "metadata": {},
     "output_type": "display_data"
    },
    {
     "name": "stdout",
     "output_type": "stream",
     "text": [
      "Sun Jul 17 20:14:15 2022 Fold 0 Epoch 2, lr: 0.0009000, train loss: 0.7165, valid loss: 0.4243, train_acc: 0.8117, valid_acc: 0.8774.\n",
      "acc increased (0.773926 --> 0.877441).  Saving model ...\n",
      "Sun Jul 17 20:14:15 2022 Epoch: 3\n"
     ]
    },
    {
     "data": {
      "application/vnd.jupyter.widget-view+json": {
       "model_id": "923543a453ee4a76a7c1f8195b6c12c3",
       "version_major": 2,
       "version_minor": 0
      },
      "text/plain": [
       "  0%|          | 0/64 [00:00<?, ?it/s]"
      ]
     },
     "metadata": {},
     "output_type": "display_data"
    },
    {
     "data": {
      "application/vnd.jupyter.widget-view+json": {
       "model_id": "f5682a90bcc844789931c061356a8556",
       "version_major": 2,
       "version_minor": 0
      },
      "text/plain": [
       "  0%|          | 0/32 [00:00<?, ?it/s]"
      ]
     },
     "metadata": {},
     "output_type": "display_data"
    },
    {
     "name": "stdout",
     "output_type": "stream",
     "text": [
      "Sun Jul 17 20:14:37 2022 Fold 0 Epoch 3, lr: 0.0009000, train loss: 0.4226, valid loss: 0.3205, train_acc: 0.8830, valid_acc: 0.9160.\n",
      "acc increased (0.877441 --> 0.916016).  Saving model ...\n",
      "Sun Jul 17 20:14:38 2022 Epoch: 4\n"
     ]
    },
    {
     "data": {
      "application/vnd.jupyter.widget-view+json": {
       "model_id": "356b1e35a59247668306bc3922da0e0f",
       "version_major": 2,
       "version_minor": 0
      },
      "text/plain": [
       "  0%|          | 0/64 [00:00<?, ?it/s]"
      ]
     },
     "metadata": {},
     "output_type": "display_data"
    },
    {
     "data": {
      "application/vnd.jupyter.widget-view+json": {
       "model_id": "6e09bfca7b844e909cde7d11b9656e0b",
       "version_major": 2,
       "version_minor": 0
      },
      "text/plain": [
       "  0%|          | 0/32 [00:00<?, ?it/s]"
      ]
     },
     "metadata": {},
     "output_type": "display_data"
    },
    {
     "name": "stdout",
     "output_type": "stream",
     "text": [
      "Sun Jul 17 20:14:59 2022 Fold 0 Epoch 4, lr: 0.0008756, train loss: 0.3345, valid loss: 0.3253, train_acc: 0.9060, valid_acc: 0.9111.\n",
      "Sun Jul 17 20:14:59 2022 Epoch: 5\n"
     ]
    },
    {
     "data": {
      "application/vnd.jupyter.widget-view+json": {
       "model_id": "90b6f16bc0434d79bd60668de5bc2645",
       "version_major": 2,
       "version_minor": 0
      },
      "text/plain": [
       "  0%|          | 0/64 [00:00<?, ?it/s]"
      ]
     },
     "metadata": {},
     "output_type": "display_data"
    },
    {
     "data": {
      "application/vnd.jupyter.widget-view+json": {
       "model_id": "7ef3a3638dae4329842f4d4a821baba2",
       "version_major": 2,
       "version_minor": 0
      },
      "text/plain": [
       "  0%|          | 0/32 [00:00<?, ?it/s]"
      ]
     },
     "metadata": {},
     "output_type": "display_data"
    },
    {
     "name": "stdout",
     "output_type": "stream",
     "text": [
      "Sun Jul 17 20:15:21 2022 Fold 0 Epoch 5, lr: 0.0008458, train loss: 0.2323, valid loss: 0.2097, train_acc: 0.9321, valid_acc: 0.9370.\n",
      "acc increased (0.916016 --> 0.937012).  Saving model ...\n",
      "Sun Jul 17 20:15:21 2022 Epoch: 6\n"
     ]
    },
    {
     "data": {
      "application/vnd.jupyter.widget-view+json": {
       "model_id": "b1821dec2c8e4515bd1c0bcdd9455a16",
       "version_major": 2,
       "version_minor": 0
      },
      "text/plain": [
       "  0%|          | 0/64 [00:00<?, ?it/s]"
      ]
     },
     "metadata": {},
     "output_type": "display_data"
    },
    {
     "data": {
      "application/vnd.jupyter.widget-view+json": {
       "model_id": "c7cd5d28a1fe4cc4aa75c4fd8000c9bc",
       "version_major": 2,
       "version_minor": 0
      },
      "text/plain": [
       "  0%|          | 0/32 [00:00<?, ?it/s]"
      ]
     },
     "metadata": {},
     "output_type": "display_data"
    },
    {
     "name": "stdout",
     "output_type": "stream",
     "text": [
      "Sun Jul 17 20:15:43 2022 Fold 0 Epoch 6, lr: 0.0008051, train loss: 0.2128, valid loss: 0.2381, train_acc: 0.9436, valid_acc: 0.9390.\n",
      "acc increased (0.937012 --> 0.938965).  Saving model ...\n",
      "Sun Jul 17 20:15:43 2022 Epoch: 7\n"
     ]
    },
    {
     "data": {
      "application/vnd.jupyter.widget-view+json": {
       "model_id": "f1decaa4f6904f02aab3ebcf80f142e8",
       "version_major": 2,
       "version_minor": 0
      },
      "text/plain": [
       "  0%|          | 0/64 [00:00<?, ?it/s]"
      ]
     },
     "metadata": {},
     "output_type": "display_data"
    },
    {
     "data": {
      "application/vnd.jupyter.widget-view+json": {
       "model_id": "1cd3139a966a45819c43716d8e785cdd",
       "version_major": 2,
       "version_minor": 0
      },
      "text/plain": [
       "  0%|          | 0/32 [00:00<?, ?it/s]"
      ]
     },
     "metadata": {},
     "output_type": "display_data"
    },
    {
     "name": "stdout",
     "output_type": "stream",
     "text": [
      "Sun Jul 17 20:16:05 2022 Fold 0 Epoch 7, lr: 0.0007548, train loss: 0.1895, valid loss: 0.1999, train_acc: 0.9477, valid_acc: 0.9380.\n",
      "Sun Jul 17 20:16:05 2022 Epoch: 8\n"
     ]
    },
    {
     "data": {
      "application/vnd.jupyter.widget-view+json": {
       "model_id": "c4c28a13ba10415ead11c9cdb3698af4",
       "version_major": 2,
       "version_minor": 0
      },
      "text/plain": [
       "  0%|          | 0/64 [00:00<?, ?it/s]"
      ]
     },
     "metadata": {},
     "output_type": "display_data"
    },
    {
     "data": {
      "application/vnd.jupyter.widget-view+json": {
       "model_id": "319b6728196b4f99af6461a202a4a736",
       "version_major": 2,
       "version_minor": 0
      },
      "text/plain": [
       "  0%|          | 0/32 [00:00<?, ?it/s]"
      ]
     },
     "metadata": {},
     "output_type": "display_data"
    },
    {
     "name": "stdout",
     "output_type": "stream",
     "text": [
      "Sun Jul 17 20:16:27 2022 Fold 0 Epoch 8, lr: 0.0006961, train loss: 0.2015, valid loss: 0.1945, train_acc: 0.9492, valid_acc: 0.9502.\n",
      "acc increased (0.938965 --> 0.950195).  Saving model ...\n",
      "Sun Jul 17 20:16:28 2022 Epoch: 9\n"
     ]
    },
    {
     "data": {
      "application/vnd.jupyter.widget-view+json": {
       "model_id": "441b168d1fb9429c9ba10eca14a17f5e",
       "version_major": 2,
       "version_minor": 0
      },
      "text/plain": [
       "  0%|          | 0/64 [00:00<?, ?it/s]"
      ]
     },
     "metadata": {},
     "output_type": "display_data"
    },
    {
     "data": {
      "application/vnd.jupyter.widget-view+json": {
       "model_id": "769bbaa1c33a48cfa38c227ac9d76192",
       "version_major": 2,
       "version_minor": 0
      },
      "text/plain": [
       "  0%|          | 0/32 [00:00<?, ?it/s]"
      ]
     },
     "metadata": {},
     "output_type": "display_data"
    },
    {
     "name": "stdout",
     "output_type": "stream",
     "text": [
      "Sun Jul 17 20:16:50 2022 Fold 0 Epoch 9, lr: 0.0006308, train loss: 0.1365, valid loss: 0.1485, train_acc: 0.9629, valid_acc: 0.9604.\n",
      "acc increased (0.950195 --> 0.960449).  Saving model ...\n",
      "Sun Jul 17 20:16:50 2022 Epoch: 10\n"
     ]
    },
    {
     "data": {
      "application/vnd.jupyter.widget-view+json": {
       "model_id": "c94becb60c7a411fb2079a24c959db5b",
       "version_major": 2,
       "version_minor": 0
      },
      "text/plain": [
       "  0%|          | 0/64 [00:00<?, ?it/s]"
      ]
     },
     "metadata": {},
     "output_type": "display_data"
    },
    {
     "data": {
      "application/vnd.jupyter.widget-view+json": {
       "model_id": "e618033e82b14e16ac8f1ff41f6d14e1",
       "version_major": 2,
       "version_minor": 0
      },
      "text/plain": [
       "  0%|          | 0/32 [00:00<?, ?it/s]"
      ]
     },
     "metadata": {},
     "output_type": "display_data"
    },
    {
     "name": "stdout",
     "output_type": "stream",
     "text": [
      "Sun Jul 17 20:17:12 2022 Fold 0 Epoch 10, lr: 0.0005605, train loss: 0.1474, valid loss: 0.1615, train_acc: 0.9590, valid_acc: 0.9546.\n",
      "Sun Jul 17 20:17:12 2022 Epoch: 11\n"
     ]
    },
    {
     "data": {
      "application/vnd.jupyter.widget-view+json": {
       "model_id": "906ce3a7a9214cf393ee0911d14dfb5c",
       "version_major": 2,
       "version_minor": 0
      },
      "text/plain": [
       "  0%|          | 0/64 [00:00<?, ?it/s]"
      ]
     },
     "metadata": {},
     "output_type": "display_data"
    },
    {
     "data": {
      "application/vnd.jupyter.widget-view+json": {
       "model_id": "daf32f3da86c478bb67aeafd5c3baf95",
       "version_major": 2,
       "version_minor": 0
      },
      "text/plain": [
       "  0%|          | 0/32 [00:00<?, ?it/s]"
      ]
     },
     "metadata": {},
     "output_type": "display_data"
    },
    {
     "name": "stdout",
     "output_type": "stream",
     "text": [
      "Sun Jul 17 20:17:34 2022 Fold 0 Epoch 11, lr: 0.0004872, train loss: 0.1233, valid loss: 0.1361, train_acc: 0.9673, valid_acc: 0.9639.\n",
      "acc increased (0.960449 --> 0.963867).  Saving model ...\n",
      "Sun Jul 17 20:17:34 2022 Epoch: 12\n"
     ]
    },
    {
     "data": {
      "application/vnd.jupyter.widget-view+json": {
       "model_id": "1306d5bf72754264882d19f49df69e0b",
       "version_major": 2,
       "version_minor": 0
      },
      "text/plain": [
       "  0%|          | 0/64 [00:00<?, ?it/s]"
      ]
     },
     "metadata": {},
     "output_type": "display_data"
    },
    {
     "data": {
      "application/vnd.jupyter.widget-view+json": {
       "model_id": "44096e297e2041c0a1ce86d888fe1fc6",
       "version_major": 2,
       "version_minor": 0
      },
      "text/plain": [
       "  0%|          | 0/32 [00:00<?, ?it/s]"
      ]
     },
     "metadata": {},
     "output_type": "display_data"
    },
    {
     "name": "stdout",
     "output_type": "stream",
     "text": [
      "Sun Jul 17 20:17:56 2022 Fold 0 Epoch 12, lr: 0.0004128, train loss: 0.0907, valid loss: 0.1166, train_acc: 0.9748, valid_acc: 0.9678.\n",
      "acc increased (0.963867 --> 0.967773).  Saving model ...\n",
      "Sun Jul 17 20:17:56 2022 Epoch: 13\n"
     ]
    },
    {
     "data": {
      "application/vnd.jupyter.widget-view+json": {
       "model_id": "1966c4eb2da644a08ac82cbfe943fbba",
       "version_major": 2,
       "version_minor": 0
      },
      "text/plain": [
       "  0%|          | 0/64 [00:00<?, ?it/s]"
      ]
     },
     "metadata": {},
     "output_type": "display_data"
    },
    {
     "data": {
      "application/vnd.jupyter.widget-view+json": {
       "model_id": "72086577f7f14ad48dbe0dd022492c4f",
       "version_major": 2,
       "version_minor": 0
      },
      "text/plain": [
       "  0%|          | 0/32 [00:00<?, ?it/s]"
      ]
     },
     "metadata": {},
     "output_type": "display_data"
    },
    {
     "name": "stdout",
     "output_type": "stream",
     "text": [
      "Sun Jul 17 20:18:18 2022 Fold 0 Epoch 13, lr: 0.0003395, train loss: 0.1026, valid loss: 0.1030, train_acc: 0.9746, valid_acc: 0.9751.\n",
      "acc increased (0.967773 --> 0.975098).  Saving model ...\n",
      "Sun Jul 17 20:18:18 2022 Epoch: 14\n"
     ]
    },
    {
     "data": {
      "application/vnd.jupyter.widget-view+json": {
       "model_id": "c4f9f72ad32143e89d12bb58677f5a64",
       "version_major": 2,
       "version_minor": 0
      },
      "text/plain": [
       "  0%|          | 0/64 [00:00<?, ?it/s]"
      ]
     },
     "metadata": {},
     "output_type": "display_data"
    },
    {
     "data": {
      "application/vnd.jupyter.widget-view+json": {
       "model_id": "4abb75a0461d40cda0d520c9eb47294d",
       "version_major": 2,
       "version_minor": 0
      },
      "text/plain": [
       "  0%|          | 0/32 [00:00<?, ?it/s]"
      ]
     },
     "metadata": {},
     "output_type": "display_data"
    },
    {
     "name": "stdout",
     "output_type": "stream",
     "text": [
      "Sun Jul 17 20:18:40 2022 Fold 0 Epoch 14, lr: 0.0002692, train loss: 0.0957, valid loss: 0.1222, train_acc: 0.9756, valid_acc: 0.9717.\n",
      "Sun Jul 17 20:18:40 2022 Epoch: 15\n"
     ]
    },
    {
     "data": {
      "application/vnd.jupyter.widget-view+json": {
       "model_id": "0682651eaad7453fb9359ad3f31ab3b4",
       "version_major": 2,
       "version_minor": 0
      },
      "text/plain": [
       "  0%|          | 0/64 [00:00<?, ?it/s]"
      ]
     },
     "metadata": {},
     "output_type": "display_data"
    },
    {
     "data": {
      "application/vnd.jupyter.widget-view+json": {
       "model_id": "fa59540c9f99478ea58df795dafdb54e",
       "version_major": 2,
       "version_minor": 0
      },
      "text/plain": [
       "  0%|          | 0/32 [00:00<?, ?it/s]"
      ]
     },
     "metadata": {},
     "output_type": "display_data"
    },
    {
     "name": "stdout",
     "output_type": "stream",
     "text": [
      "Sun Jul 17 20:19:02 2022 Fold 0 Epoch 15, lr: 0.0002039, train loss: 0.0757, valid loss: 0.1206, train_acc: 0.9822, valid_acc: 0.9712.\n",
      "Sun Jul 17 20:19:02 2022 Epoch: 16\n"
     ]
    },
    {
     "data": {
      "application/vnd.jupyter.widget-view+json": {
       "model_id": "bc64697b278a4e96bcd2ed498ce905d4",
       "version_major": 2,
       "version_minor": 0
      },
      "text/plain": [
       "  0%|          | 0/64 [00:00<?, ?it/s]"
      ]
     },
     "metadata": {},
     "output_type": "display_data"
    },
    {
     "data": {
      "application/vnd.jupyter.widget-view+json": {
       "model_id": "f341f82931d64701ab269776c1bced73",
       "version_major": 2,
       "version_minor": 0
      },
      "text/plain": [
       "  0%|          | 0/32 [00:00<?, ?it/s]"
      ]
     },
     "metadata": {},
     "output_type": "display_data"
    },
    {
     "name": "stdout",
     "output_type": "stream",
     "text": [
      "Sun Jul 17 20:19:24 2022 Fold 0 Epoch 16, lr: 0.0001452, train loss: 0.0617, valid loss: 0.1209, train_acc: 0.9846, valid_acc: 0.9683.\n",
      "Sun Jul 17 20:19:24 2022 Epoch: 17\n"
     ]
    },
    {
     "data": {
      "application/vnd.jupyter.widget-view+json": {
       "model_id": "fe2afb9c6e93484fb23d4f408791f7d8",
       "version_major": 2,
       "version_minor": 0
      },
      "text/plain": [
       "  0%|          | 0/64 [00:00<?, ?it/s]"
      ]
     },
     "metadata": {},
     "output_type": "display_data"
    },
    {
     "data": {
      "application/vnd.jupyter.widget-view+json": {
       "model_id": "f55af2029d764745836235bf9e5c5901",
       "version_major": 2,
       "version_minor": 0
      },
      "text/plain": [
       "  0%|          | 0/32 [00:00<?, ?it/s]"
      ]
     },
     "metadata": {},
     "output_type": "display_data"
    },
    {
     "name": "stdout",
     "output_type": "stream",
     "text": [
      "Sun Jul 17 20:19:46 2022 Fold 0 Epoch 17, lr: 0.0000949, train loss: 0.0677, valid loss: 0.1102, train_acc: 0.9824, valid_acc: 0.9712.\n",
      "Sun Jul 17 20:19:46 2022 Epoch: 18\n"
     ]
    },
    {
     "data": {
      "application/vnd.jupyter.widget-view+json": {
       "model_id": "8b65e5d2e98d436bb3ba38cec2535e87",
       "version_major": 2,
       "version_minor": 0
      },
      "text/plain": [
       "  0%|          | 0/64 [00:00<?, ?it/s]"
      ]
     },
     "metadata": {},
     "output_type": "display_data"
    },
    {
     "data": {
      "application/vnd.jupyter.widget-view+json": {
       "model_id": "cd8004e5784a4558a77057b41db12033",
       "version_major": 2,
       "version_minor": 0
      },
      "text/plain": [
       "  0%|          | 0/32 [00:00<?, ?it/s]"
      ]
     },
     "metadata": {},
     "output_type": "display_data"
    },
    {
     "name": "stdout",
     "output_type": "stream",
     "text": [
      "Sun Jul 17 20:20:08 2022 Fold 0 Epoch 18, lr: 0.0000542, train loss: 0.0669, valid loss: 0.1120, train_acc: 0.9817, valid_acc: 0.9702.\n",
      "Sun Jul 17 20:20:08 2022 Epoch: 19\n"
     ]
    },
    {
     "data": {
      "application/vnd.jupyter.widget-view+json": {
       "model_id": "d0065aa38c9e44428c6efc8a7a3674a2",
       "version_major": 2,
       "version_minor": 0
      },
      "text/plain": [
       "  0%|          | 0/64 [00:00<?, ?it/s]"
      ]
     },
     "metadata": {},
     "output_type": "display_data"
    },
    {
     "data": {
      "application/vnd.jupyter.widget-view+json": {
       "model_id": "8942ad66cd2e440bb40d08438fe76274",
       "version_major": 2,
       "version_minor": 0
      },
      "text/plain": [
       "  0%|          | 0/32 [00:00<?, ?it/s]"
      ]
     },
     "metadata": {},
     "output_type": "display_data"
    },
    {
     "name": "stdout",
     "output_type": "stream",
     "text": [
      "Sun Jul 17 20:20:30 2022 Fold 0 Epoch 19, lr: 0.0000244, train loss: 0.0673, valid loss: 0.1076, train_acc: 0.9817, valid_acc: 0.9722.\n",
      "Sun Jul 17 20:20:30 2022 Epoch: 20\n"
     ]
    },
    {
     "data": {
      "application/vnd.jupyter.widget-view+json": {
       "model_id": "15411139ef114b319abbcb2c0b358837",
       "version_major": 2,
       "version_minor": 0
      },
      "text/plain": [
       "  0%|          | 0/64 [00:00<?, ?it/s]"
      ]
     },
     "metadata": {},
     "output_type": "display_data"
    },
    {
     "data": {
      "application/vnd.jupyter.widget-view+json": {
       "model_id": "40dd5d17b5dd424094edda77e9b7ce82",
       "version_major": 2,
       "version_minor": 0
      },
      "text/plain": [
       "  0%|          | 0/32 [00:00<?, ?it/s]"
      ]
     },
     "metadata": {},
     "output_type": "display_data"
    },
    {
     "name": "stdout",
     "output_type": "stream",
     "text": [
      "Sun Jul 17 20:20:52 2022 Fold 0 Epoch 20, lr: 0.0000061, train loss: 0.0679, valid loss: 0.1125, train_acc: 0.9809, valid_acc: 0.9692.\n"
     ]
    },
    {
     "data": {
      "application/vnd.jupyter.widget-view+json": {
       "model_id": "391ce5e62929424b95a413f86612d1ae",
       "version_major": 2,
       "version_minor": 0
      },
      "text/plain": [
       "  0%|          | 0/32 [00:00<?, ?it/s]"
      ]
     },
     "metadata": {},
     "output_type": "display_data"
    },
    {
     "name": "stdout",
     "output_type": "stream",
     "text": [
      "test loss 0.0994637895055348 score 0.9741084513922814\n"
     ]
    }
   ],
   "source": [
    "part_2 = model.part_2_cnn('efficientnet_b3')\n",
    "part_2.train_test_img_transformation()\n",
    "part_2.load_data()\n",
    "part_2.build_model()"
   ]
  },
  {
   "cell_type": "code",
   "execution_count": 2,
   "id": "0e14627a-85d5-4f98-84e3-bcaa57e38467",
   "metadata": {},
   "outputs": [
    {
     "name": "stdout",
     "output_type": "stream",
     "text": [
      "Sun Jul 17 20:21:56 2022 Epoch: 1\n"
     ]
    },
    {
     "data": {
      "application/vnd.jupyter.widget-view+json": {
       "model_id": "73df0830e3b2458bbe6a432f5eaf502f",
       "version_major": 2,
       "version_minor": 0
      },
      "text/plain": [
       "  0%|          | 0/64 [00:00<?, ?it/s]"
      ]
     },
     "metadata": {},
     "output_type": "display_data"
    },
    {
     "data": {
      "application/vnd.jupyter.widget-view+json": {
       "model_id": "9947c8524ece451c8fdd0465248aba79",
       "version_major": 2,
       "version_minor": 0
      },
      "text/plain": [
       "  0%|          | 0/32 [00:00<?, ?it/s]"
      ]
     },
     "metadata": {},
     "output_type": "display_data"
    },
    {
     "name": "stdout",
     "output_type": "stream",
     "text": [
      "Sun Jul 17 20:22:17 2022 Fold 0 Epoch 1, lr: 0.0003000, train loss: 3.2871, valid loss: 1.4615, train_acc: 0.3341, valid_acc: 0.7017.\n",
      "acc increased (0.000000 --> 0.701660).  Saving model ...\n",
      "Sun Jul 17 20:22:17 2022 Epoch: 2\n"
     ]
    },
    {
     "data": {
      "application/vnd.jupyter.widget-view+json": {
       "model_id": "d44478305d834257b6cf7f293682f4d1",
       "version_major": 2,
       "version_minor": 0
      },
      "text/plain": [
       "  0%|          | 0/64 [00:00<?, ?it/s]"
      ]
     },
     "metadata": {},
     "output_type": "display_data"
    },
    {
     "data": {
      "application/vnd.jupyter.widget-view+json": {
       "model_id": "cdc4d846288d4eb39e1940d676f90518",
       "version_major": 2,
       "version_minor": 0
      },
      "text/plain": [
       "  0%|          | 0/32 [00:00<?, ?it/s]"
      ]
     },
     "metadata": {},
     "output_type": "display_data"
    },
    {
     "name": "stdout",
     "output_type": "stream",
     "text": [
      "Sun Jul 17 20:22:38 2022 Fold 0 Epoch 2, lr: 0.0009000, train loss: 0.8736, valid loss: 0.4130, train_acc: 0.7794, valid_acc: 0.8862.\n",
      "acc increased (0.701660 --> 0.886230).  Saving model ...\n",
      "Sun Jul 17 20:22:39 2022 Epoch: 3\n"
     ]
    },
    {
     "data": {
      "application/vnd.jupyter.widget-view+json": {
       "model_id": "65d2184a45d64bfe98d13e334fdf422f",
       "version_major": 2,
       "version_minor": 0
      },
      "text/plain": [
       "  0%|          | 0/64 [00:00<?, ?it/s]"
      ]
     },
     "metadata": {},
     "output_type": "display_data"
    },
    {
     "data": {
      "application/vnd.jupyter.widget-view+json": {
       "model_id": "5e2c279725bf4985a1c1f432f26a02c3",
       "version_major": 2,
       "version_minor": 0
      },
      "text/plain": [
       "  0%|          | 0/32 [00:00<?, ?it/s]"
      ]
     },
     "metadata": {},
     "output_type": "display_data"
    },
    {
     "name": "stdout",
     "output_type": "stream",
     "text": [
      "Sun Jul 17 20:23:00 2022 Fold 0 Epoch 3, lr: 0.0009000, train loss: 0.4429, valid loss: 0.3827, train_acc: 0.8828, valid_acc: 0.8906.\n",
      "acc increased (0.886230 --> 0.890625).  Saving model ...\n",
      "Sun Jul 17 20:23:00 2022 Epoch: 4\n"
     ]
    },
    {
     "data": {
      "application/vnd.jupyter.widget-view+json": {
       "model_id": "5efa11d9955643ff99604f3844a2b881",
       "version_major": 2,
       "version_minor": 0
      },
      "text/plain": [
       "  0%|          | 0/64 [00:00<?, ?it/s]"
      ]
     },
     "metadata": {},
     "output_type": "display_data"
    },
    {
     "data": {
      "application/vnd.jupyter.widget-view+json": {
       "model_id": "5334ba14af4d4ed285548ddc1eb12d70",
       "version_major": 2,
       "version_minor": 0
      },
      "text/plain": [
       "  0%|          | 0/32 [00:00<?, ?it/s]"
      ]
     },
     "metadata": {},
     "output_type": "display_data"
    },
    {
     "name": "stdout",
     "output_type": "stream",
     "text": [
      "Sun Jul 17 20:23:22 2022 Fold 0 Epoch 4, lr: 0.0008756, train loss: 0.3627, valid loss: 0.3277, train_acc: 0.8991, valid_acc: 0.9131.\n",
      "acc increased (0.890625 --> 0.913086).  Saving model ...\n",
      "Sun Jul 17 20:23:22 2022 Epoch: 5\n"
     ]
    },
    {
     "data": {
      "application/vnd.jupyter.widget-view+json": {
       "model_id": "adb4365755194f19acb8fd380be7c75d",
       "version_major": 2,
       "version_minor": 0
      },
      "text/plain": [
       "  0%|          | 0/64 [00:00<?, ?it/s]"
      ]
     },
     "metadata": {},
     "output_type": "display_data"
    },
    {
     "data": {
      "application/vnd.jupyter.widget-view+json": {
       "model_id": "55a4b0e5ee384804956461858eed6f88",
       "version_major": 2,
       "version_minor": 0
      },
      "text/plain": [
       "  0%|          | 0/32 [00:00<?, ?it/s]"
      ]
     },
     "metadata": {},
     "output_type": "display_data"
    },
    {
     "name": "stdout",
     "output_type": "stream",
     "text": [
      "Sun Jul 17 20:23:44 2022 Fold 0 Epoch 5, lr: 0.0008458, train loss: 0.2775, valid loss: 0.2114, train_acc: 0.9228, valid_acc: 0.9424.\n",
      "acc increased (0.913086 --> 0.942383).  Saving model ...\n",
      "Sun Jul 17 20:23:44 2022 Epoch: 6\n"
     ]
    },
    {
     "data": {
      "application/vnd.jupyter.widget-view+json": {
       "model_id": "489cca0b15d442bdb73a8b473d7b39cc",
       "version_major": 2,
       "version_minor": 0
      },
      "text/plain": [
       "  0%|          | 0/64 [00:00<?, ?it/s]"
      ]
     },
     "metadata": {},
     "output_type": "display_data"
    },
    {
     "data": {
      "application/vnd.jupyter.widget-view+json": {
       "model_id": "62d5afde2ed04914ae1fcebeae94525e",
       "version_major": 2,
       "version_minor": 0
      },
      "text/plain": [
       "  0%|          | 0/32 [00:00<?, ?it/s]"
      ]
     },
     "metadata": {},
     "output_type": "display_data"
    },
    {
     "name": "stdout",
     "output_type": "stream",
     "text": [
      "Sun Jul 17 20:24:05 2022 Fold 0 Epoch 6, lr: 0.0008051, train loss: 0.2460, valid loss: 0.2639, train_acc: 0.9336, valid_acc: 0.9277.\n",
      "Sun Jul 17 20:24:05 2022 Epoch: 7\n"
     ]
    },
    {
     "data": {
      "application/vnd.jupyter.widget-view+json": {
       "model_id": "be30c81bd01a48babd0899074b077a7b",
       "version_major": 2,
       "version_minor": 0
      },
      "text/plain": [
       "  0%|          | 0/64 [00:00<?, ?it/s]"
      ]
     },
     "metadata": {},
     "output_type": "display_data"
    },
    {
     "data": {
      "application/vnd.jupyter.widget-view+json": {
       "model_id": "505f625e12de49e3ab26ca59388a2f1c",
       "version_major": 2,
       "version_minor": 0
      },
      "text/plain": [
       "  0%|          | 0/32 [00:00<?, ?it/s]"
      ]
     },
     "metadata": {},
     "output_type": "display_data"
    },
    {
     "name": "stdout",
     "output_type": "stream",
     "text": [
      "Sun Jul 17 20:24:27 2022 Fold 0 Epoch 7, lr: 0.0007548, train loss: 0.2118, valid loss: 0.2122, train_acc: 0.9409, valid_acc: 0.9409.\n",
      "Sun Jul 17 20:24:27 2022 Epoch: 8\n"
     ]
    },
    {
     "data": {
      "application/vnd.jupyter.widget-view+json": {
       "model_id": "40f1ff025e4a496b9e81d19d88da1ae4",
       "version_major": 2,
       "version_minor": 0
      },
      "text/plain": [
       "  0%|          | 0/64 [00:00<?, ?it/s]"
      ]
     },
     "metadata": {},
     "output_type": "display_data"
    },
    {
     "data": {
      "application/vnd.jupyter.widget-view+json": {
       "model_id": "6ca21fed43dc48b09223266ae138f127",
       "version_major": 2,
       "version_minor": 0
      },
      "text/plain": [
       "  0%|          | 0/32 [00:00<?, ?it/s]"
      ]
     },
     "metadata": {},
     "output_type": "display_data"
    },
    {
     "name": "stdout",
     "output_type": "stream",
     "text": [
      "Sun Jul 17 20:24:48 2022 Fold 0 Epoch 8, lr: 0.0006961, train loss: 0.2078, valid loss: 0.1972, train_acc: 0.9438, valid_acc: 0.9487.\n",
      "acc increased (0.942383 --> 0.948730).  Saving model ...\n",
      "Sun Jul 17 20:24:48 2022 Epoch: 9\n"
     ]
    },
    {
     "data": {
      "application/vnd.jupyter.widget-view+json": {
       "model_id": "51ba7a15f6e04a40b49758fe30962da7",
       "version_major": 2,
       "version_minor": 0
      },
      "text/plain": [
       "  0%|          | 0/64 [00:00<?, ?it/s]"
      ]
     },
     "metadata": {},
     "output_type": "display_data"
    },
    {
     "data": {
      "application/vnd.jupyter.widget-view+json": {
       "model_id": "ebcedaca130042bb8e6e1544663003b0",
       "version_major": 2,
       "version_minor": 0
      },
      "text/plain": [
       "  0%|          | 0/32 [00:00<?, ?it/s]"
      ]
     },
     "metadata": {},
     "output_type": "display_data"
    },
    {
     "name": "stdout",
     "output_type": "stream",
     "text": [
      "Sun Jul 17 20:25:10 2022 Fold 0 Epoch 9, lr: 0.0006308, train loss: 0.1757, valid loss: 0.1587, train_acc: 0.9538, valid_acc: 0.9512.\n",
      "acc increased (0.948730 --> 0.951172).  Saving model ...\n",
      "Sun Jul 17 20:25:10 2022 Epoch: 10\n"
     ]
    },
    {
     "data": {
      "application/vnd.jupyter.widget-view+json": {
       "model_id": "f420812b845c43378e0efcda3a4ecfe4",
       "version_major": 2,
       "version_minor": 0
      },
      "text/plain": [
       "  0%|          | 0/64 [00:00<?, ?it/s]"
      ]
     },
     "metadata": {},
     "output_type": "display_data"
    },
    {
     "data": {
      "application/vnd.jupyter.widget-view+json": {
       "model_id": "537d69c2c9344e6f8f0b05daadf4f418",
       "version_major": 2,
       "version_minor": 0
      },
      "text/plain": [
       "  0%|          | 0/32 [00:00<?, ?it/s]"
      ]
     },
     "metadata": {},
     "output_type": "display_data"
    },
    {
     "name": "stdout",
     "output_type": "stream",
     "text": [
      "Sun Jul 17 20:25:31 2022 Fold 0 Epoch 10, lr: 0.0005605, train loss: 0.1310, valid loss: 0.1459, train_acc: 0.9629, valid_acc: 0.9595.\n",
      "acc increased (0.951172 --> 0.959473).  Saving model ...\n",
      "Sun Jul 17 20:25:31 2022 Epoch: 11\n"
     ]
    },
    {
     "data": {
      "application/vnd.jupyter.widget-view+json": {
       "model_id": "bbc7ddb1a63249bca71774a126beccf1",
       "version_major": 2,
       "version_minor": 0
      },
      "text/plain": [
       "  0%|          | 0/64 [00:00<?, ?it/s]"
      ]
     },
     "metadata": {},
     "output_type": "display_data"
    },
    {
     "data": {
      "application/vnd.jupyter.widget-view+json": {
       "model_id": "ecf1514e9413491e885c3d4526d3643f",
       "version_major": 2,
       "version_minor": 0
      },
      "text/plain": [
       "  0%|          | 0/32 [00:00<?, ?it/s]"
      ]
     },
     "metadata": {},
     "output_type": "display_data"
    },
    {
     "name": "stdout",
     "output_type": "stream",
     "text": [
      "Sun Jul 17 20:25:53 2022 Fold 0 Epoch 11, lr: 0.0004872, train loss: 0.1319, valid loss: 0.1455, train_acc: 0.9619, valid_acc: 0.9556.\n",
      "Sun Jul 17 20:25:53 2022 Epoch: 12\n"
     ]
    },
    {
     "data": {
      "application/vnd.jupyter.widget-view+json": {
       "model_id": "963ac793e74448288a3271000e45ceb7",
       "version_major": 2,
       "version_minor": 0
      },
      "text/plain": [
       "  0%|          | 0/64 [00:00<?, ?it/s]"
      ]
     },
     "metadata": {},
     "output_type": "display_data"
    },
    {
     "data": {
      "application/vnd.jupyter.widget-view+json": {
       "model_id": "ae5ac8718c16465494e967bae056867d",
       "version_major": 2,
       "version_minor": 0
      },
      "text/plain": [
       "  0%|          | 0/32 [00:00<?, ?it/s]"
      ]
     },
     "metadata": {},
     "output_type": "display_data"
    },
    {
     "name": "stdout",
     "output_type": "stream",
     "text": [
      "Sun Jul 17 20:26:14 2022 Fold 0 Epoch 12, lr: 0.0004128, train loss: 0.1416, valid loss: 0.1186, train_acc: 0.9626, valid_acc: 0.9668.\n",
      "acc increased (0.959473 --> 0.966797).  Saving model ...\n",
      "Sun Jul 17 20:26:14 2022 Epoch: 13\n"
     ]
    },
    {
     "data": {
      "application/vnd.jupyter.widget-view+json": {
       "model_id": "ae68d85d055e4160ba1d4c82df3b3189",
       "version_major": 2,
       "version_minor": 0
      },
      "text/plain": [
       "  0%|          | 0/64 [00:00<?, ?it/s]"
      ]
     },
     "metadata": {},
     "output_type": "display_data"
    },
    {
     "data": {
      "application/vnd.jupyter.widget-view+json": {
       "model_id": "1149f8686cfe444282c86df0497c6c90",
       "version_major": 2,
       "version_minor": 0
      },
      "text/plain": [
       "  0%|          | 0/32 [00:00<?, ?it/s]"
      ]
     },
     "metadata": {},
     "output_type": "display_data"
    },
    {
     "name": "stdout",
     "output_type": "stream",
     "text": [
      "Sun Jul 17 20:26:36 2022 Fold 0 Epoch 13, lr: 0.0003395, train loss: 0.1131, valid loss: 0.1325, train_acc: 0.9700, valid_acc: 0.9639.\n",
      "Sun Jul 17 20:26:36 2022 Epoch: 14\n"
     ]
    },
    {
     "data": {
      "application/vnd.jupyter.widget-view+json": {
       "model_id": "67539eea045b43b19e0485ee5aba623b",
       "version_major": 2,
       "version_minor": 0
      },
      "text/plain": [
       "  0%|          | 0/64 [00:00<?, ?it/s]"
      ]
     },
     "metadata": {},
     "output_type": "display_data"
    },
    {
     "data": {
      "application/vnd.jupyter.widget-view+json": {
       "model_id": "55760ebd17a34f6c9f33fdcd7965d95d",
       "version_major": 2,
       "version_minor": 0
      },
      "text/plain": [
       "  0%|          | 0/32 [00:00<?, ?it/s]"
      ]
     },
     "metadata": {},
     "output_type": "display_data"
    },
    {
     "name": "stdout",
     "output_type": "stream",
     "text": [
      "Sun Jul 17 20:26:57 2022 Fold 0 Epoch 14, lr: 0.0002692, train loss: 0.0945, valid loss: 0.1054, train_acc: 0.9780, valid_acc: 0.9692.\n",
      "acc increased (0.966797 --> 0.969238).  Saving model ...\n",
      "Sun Jul 17 20:26:57 2022 Epoch: 15\n"
     ]
    },
    {
     "data": {
      "application/vnd.jupyter.widget-view+json": {
       "model_id": "3b0d9f2e2068454e9f9418050d94bbc2",
       "version_major": 2,
       "version_minor": 0
      },
      "text/plain": [
       "  0%|          | 0/64 [00:00<?, ?it/s]"
      ]
     },
     "metadata": {},
     "output_type": "display_data"
    },
    {
     "data": {
      "application/vnd.jupyter.widget-view+json": {
       "model_id": "4727caff04344de1bd68ac1f076391f2",
       "version_major": 2,
       "version_minor": 0
      },
      "text/plain": [
       "  0%|          | 0/32 [00:00<?, ?it/s]"
      ]
     },
     "metadata": {},
     "output_type": "display_data"
    },
    {
     "name": "stdout",
     "output_type": "stream",
     "text": [
      "Sun Jul 17 20:27:19 2022 Fold 0 Epoch 15, lr: 0.0002039, train loss: 0.0811, valid loss: 0.1021, train_acc: 0.9785, valid_acc: 0.9717.\n",
      "acc increased (0.969238 --> 0.971680).  Saving model ...\n",
      "Sun Jul 17 20:27:19 2022 Epoch: 16\n"
     ]
    },
    {
     "data": {
      "application/vnd.jupyter.widget-view+json": {
       "model_id": "8f39daa25aae42be91ced2011606a7c6",
       "version_major": 2,
       "version_minor": 0
      },
      "text/plain": [
       "  0%|          | 0/64 [00:00<?, ?it/s]"
      ]
     },
     "metadata": {},
     "output_type": "display_data"
    },
    {
     "data": {
      "application/vnd.jupyter.widget-view+json": {
       "model_id": "d27dfcef537b4513a83ecc99394b45da",
       "version_major": 2,
       "version_minor": 0
      },
      "text/plain": [
       "  0%|          | 0/32 [00:00<?, ?it/s]"
      ]
     },
     "metadata": {},
     "output_type": "display_data"
    },
    {
     "name": "stdout",
     "output_type": "stream",
     "text": [
      "Sun Jul 17 20:27:40 2022 Fold 0 Epoch 16, lr: 0.0001452, train loss: 0.0846, valid loss: 0.0993, train_acc: 0.9761, valid_acc: 0.9731.\n",
      "acc increased (0.971680 --> 0.973145).  Saving model ...\n",
      "Sun Jul 17 20:27:41 2022 Epoch: 17\n"
     ]
    },
    {
     "data": {
      "application/vnd.jupyter.widget-view+json": {
       "model_id": "7c358211f44043aeb8048812f5bf1d92",
       "version_major": 2,
       "version_minor": 0
      },
      "text/plain": [
       "  0%|          | 0/64 [00:00<?, ?it/s]"
      ]
     },
     "metadata": {},
     "output_type": "display_data"
    },
    {
     "data": {
      "application/vnd.jupyter.widget-view+json": {
       "model_id": "917a16da93b54a14909b1198d8eb2dde",
       "version_major": 2,
       "version_minor": 0
      },
      "text/plain": [
       "  0%|          | 0/32 [00:00<?, ?it/s]"
      ]
     },
     "metadata": {},
     "output_type": "display_data"
    },
    {
     "name": "stdout",
     "output_type": "stream",
     "text": [
      "Sun Jul 17 20:28:02 2022 Fold 0 Epoch 17, lr: 0.0000949, train loss: 0.0710, valid loss: 0.0988, train_acc: 0.9822, valid_acc: 0.9746.\n",
      "acc increased (0.973145 --> 0.974609).  Saving model ...\n",
      "Sun Jul 17 20:28:02 2022 Epoch: 18\n"
     ]
    },
    {
     "data": {
      "application/vnd.jupyter.widget-view+json": {
       "model_id": "17f99d53a0d74612b615b1663f083a78",
       "version_major": 2,
       "version_minor": 0
      },
      "text/plain": [
       "  0%|          | 0/64 [00:00<?, ?it/s]"
      ]
     },
     "metadata": {},
     "output_type": "display_data"
    },
    {
     "data": {
      "application/vnd.jupyter.widget-view+json": {
       "model_id": "ef3a1edb328b4a17801bc78330015b64",
       "version_major": 2,
       "version_minor": 0
      },
      "text/plain": [
       "  0%|          | 0/32 [00:00<?, ?it/s]"
      ]
     },
     "metadata": {},
     "output_type": "display_data"
    },
    {
     "name": "stdout",
     "output_type": "stream",
     "text": [
      "Sun Jul 17 20:28:23 2022 Fold 0 Epoch 18, lr: 0.0000542, train loss: 0.0724, valid loss: 0.0962, train_acc: 0.9807, valid_acc: 0.9766.\n",
      "acc increased (0.974609 --> 0.976562).  Saving model ...\n",
      "Sun Jul 17 20:28:24 2022 Epoch: 19\n"
     ]
    },
    {
     "data": {
      "application/vnd.jupyter.widget-view+json": {
       "model_id": "9460f7444d7e4ab7b5e7a6c6c2056940",
       "version_major": 2,
       "version_minor": 0
      },
      "text/plain": [
       "  0%|          | 0/64 [00:00<?, ?it/s]"
      ]
     },
     "metadata": {},
     "output_type": "display_data"
    },
    {
     "data": {
      "application/vnd.jupyter.widget-view+json": {
       "model_id": "68262e8a254446f6893f6cb1477dc57e",
       "version_major": 2,
       "version_minor": 0
      },
      "text/plain": [
       "  0%|          | 0/32 [00:00<?, ?it/s]"
      ]
     },
     "metadata": {},
     "output_type": "display_data"
    },
    {
     "name": "stdout",
     "output_type": "stream",
     "text": [
      "Sun Jul 17 20:28:45 2022 Fold 0 Epoch 19, lr: 0.0000244, train loss: 0.0798, valid loss: 0.0967, train_acc: 0.9790, valid_acc: 0.9766.\n",
      "Sun Jul 17 20:28:45 2022 Epoch: 20\n"
     ]
    },
    {
     "data": {
      "application/vnd.jupyter.widget-view+json": {
       "model_id": "ccbf56e40c06476c871cc03ed8f62f2b",
       "version_major": 2,
       "version_minor": 0
      },
      "text/plain": [
       "  0%|          | 0/64 [00:00<?, ?it/s]"
      ]
     },
     "metadata": {},
     "output_type": "display_data"
    },
    {
     "data": {
      "application/vnd.jupyter.widget-view+json": {
       "model_id": "702c13ebfcbb49e7a561533dab2ecdf1",
       "version_major": 2,
       "version_minor": 0
      },
      "text/plain": [
       "  0%|          | 0/32 [00:00<?, ?it/s]"
      ]
     },
     "metadata": {},
     "output_type": "display_data"
    },
    {
     "name": "stdout",
     "output_type": "stream",
     "text": [
      "Sun Jul 17 20:29:07 2022 Fold 0 Epoch 20, lr: 0.0000061, train loss: 0.0735, valid loss: 0.0964, train_acc: 0.9805, valid_acc: 0.9771.\n",
      "acc increased (0.976562 --> 0.977051).  Saving model ...\n"
     ]
    },
    {
     "data": {
      "application/vnd.jupyter.widget-view+json": {
       "model_id": "19ada709b40546f3b79fb99aa586776a",
       "version_major": 2,
       "version_minor": 0
      },
      "text/plain": [
       "  0%|          | 0/32 [00:00<?, ?it/s]"
      ]
     },
     "metadata": {},
     "output_type": "display_data"
    },
    {
     "name": "stdout",
     "output_type": "stream",
     "text": [
      "test loss 0.09692683385219425 score 0.9745969711773327\n"
     ]
    }
   ],
   "source": [
    "part_2 = model.part_2_cnn('tf_efficientnet_b1_ns')\n",
    "part_2.train_test_img_transformation()\n",
    "part_2.load_data()\n",
    "part_2.build_model()"
   ]
  },
  {
   "cell_type": "code",
   "execution_count": 2,
   "id": "fff5d8f5-fd10-4318-a210-df25156ddba1",
   "metadata": {},
   "outputs": [
    {
     "name": "stdout",
     "output_type": "stream",
     "text": [
      "Sun Jul 17 20:32:50 2022 Epoch: 1\n"
     ]
    },
    {
     "data": {
      "application/vnd.jupyter.widget-view+json": {
       "model_id": "abf587a27bd14bbc8776f8ab58da7898",
       "version_major": 2,
       "version_minor": 0
      },
      "text/plain": [
       "  0%|          | 0/64 [00:00<?, ?it/s]"
      ]
     },
     "metadata": {},
     "output_type": "display_data"
    },
    {
     "data": {
      "application/vnd.jupyter.widget-view+json": {
       "model_id": "3204638dfdf74ec69538767543c9df1d",
       "version_major": 2,
       "version_minor": 0
      },
      "text/plain": [
       "  0%|          | 0/32 [00:00<?, ?it/s]"
      ]
     },
     "metadata": {},
     "output_type": "display_data"
    },
    {
     "name": "stdout",
     "output_type": "stream",
     "text": [
      "Sun Jul 17 20:33:14 2022 Fold 0 Epoch 1, lr: 0.0003000, train loss: 2.7113, valid loss: 0.6999, train_acc: 0.4304, valid_acc: 0.8398.\n",
      "acc increased (0.000000 --> 0.839844).  Saving model ...\n",
      "Sun Jul 17 20:33:15 2022 Epoch: 2\n"
     ]
    },
    {
     "data": {
      "application/vnd.jupyter.widget-view+json": {
       "model_id": "be80658e77e2441d8a823e1427507825",
       "version_major": 2,
       "version_minor": 0
      },
      "text/plain": [
       "  0%|          | 0/64 [00:00<?, ?it/s]"
      ]
     },
     "metadata": {},
     "output_type": "display_data"
    },
    {
     "data": {
      "application/vnd.jupyter.widget-view+json": {
       "model_id": "086a20d522ab4c5488eef495e1ea4c38",
       "version_major": 2,
       "version_minor": 0
      },
      "text/plain": [
       "  0%|          | 0/32 [00:00<?, ?it/s]"
      ]
     },
     "metadata": {},
     "output_type": "display_data"
    },
    {
     "name": "stdout",
     "output_type": "stream",
     "text": [
      "Sun Jul 17 20:33:39 2022 Fold 0 Epoch 2, lr: 0.0009000, train loss: 0.7070, valid loss: 0.5501, train_acc: 0.8166, valid_acc: 0.8491.\n",
      "acc increased (0.839844 --> 0.849121).  Saving model ...\n",
      "Sun Jul 17 20:33:39 2022 Epoch: 3\n"
     ]
    },
    {
     "data": {
      "application/vnd.jupyter.widget-view+json": {
       "model_id": "505aefa36f224fd4963ec2b8f0faaeba",
       "version_major": 2,
       "version_minor": 0
      },
      "text/plain": [
       "  0%|          | 0/64 [00:00<?, ?it/s]"
      ]
     },
     "metadata": {},
     "output_type": "display_data"
    },
    {
     "data": {
      "application/vnd.jupyter.widget-view+json": {
       "model_id": "c36ec34e65474750ae13e90289ad3b61",
       "version_major": 2,
       "version_minor": 0
      },
      "text/plain": [
       "  0%|          | 0/32 [00:00<?, ?it/s]"
      ]
     },
     "metadata": {},
     "output_type": "display_data"
    },
    {
     "name": "stdout",
     "output_type": "stream",
     "text": [
      "Sun Jul 17 20:34:04 2022 Fold 0 Epoch 3, lr: 0.0009000, train loss: 0.4459, valid loss: 0.3535, train_acc: 0.8779, valid_acc: 0.9009.\n",
      "acc increased (0.849121 --> 0.900879).  Saving model ...\n",
      "Sun Jul 17 20:34:04 2022 Epoch: 4\n"
     ]
    },
    {
     "data": {
      "application/vnd.jupyter.widget-view+json": {
       "model_id": "ba8ad0e43840427d91efdb3623df752a",
       "version_major": 2,
       "version_minor": 0
      },
      "text/plain": [
       "  0%|          | 0/64 [00:00<?, ?it/s]"
      ]
     },
     "metadata": {},
     "output_type": "display_data"
    },
    {
     "data": {
      "application/vnd.jupyter.widget-view+json": {
       "model_id": "a6d88067625a456eb6f48c7e85ca306d",
       "version_major": 2,
       "version_minor": 0
      },
      "text/plain": [
       "  0%|          | 0/32 [00:00<?, ?it/s]"
      ]
     },
     "metadata": {},
     "output_type": "display_data"
    },
    {
     "name": "stdout",
     "output_type": "stream",
     "text": [
      "Sun Jul 17 20:34:28 2022 Fold 0 Epoch 4, lr: 0.0008756, train loss: 0.3697, valid loss: 0.3603, train_acc: 0.8967, valid_acc: 0.9072.\n",
      "acc increased (0.900879 --> 0.907227).  Saving model ...\n",
      "Sun Jul 17 20:34:28 2022 Epoch: 5\n"
     ]
    },
    {
     "data": {
      "application/vnd.jupyter.widget-view+json": {
       "model_id": "ece620a8fc3144299417b7533b2184c1",
       "version_major": 2,
       "version_minor": 0
      },
      "text/plain": [
       "  0%|          | 0/64 [00:00<?, ?it/s]"
      ]
     },
     "metadata": {},
     "output_type": "display_data"
    },
    {
     "data": {
      "application/vnd.jupyter.widget-view+json": {
       "model_id": "883c6311f0724c3eb66ec01a27dd395d",
       "version_major": 2,
       "version_minor": 0
      },
      "text/plain": [
       "  0%|          | 0/32 [00:00<?, ?it/s]"
      ]
     },
     "metadata": {},
     "output_type": "display_data"
    },
    {
     "name": "stdout",
     "output_type": "stream",
     "text": [
      "Sun Jul 17 20:34:53 2022 Fold 0 Epoch 5, lr: 0.0008458, train loss: 0.3016, valid loss: 0.2849, train_acc: 0.9165, valid_acc: 0.9243.\n",
      "acc increased (0.907227 --> 0.924316).  Saving model ...\n",
      "Sun Jul 17 20:34:53 2022 Epoch: 6\n"
     ]
    },
    {
     "data": {
      "application/vnd.jupyter.widget-view+json": {
       "model_id": "417cdcdec25344c0abb49c8d4f6b6e72",
       "version_major": 2,
       "version_minor": 0
      },
      "text/plain": [
       "  0%|          | 0/64 [00:00<?, ?it/s]"
      ]
     },
     "metadata": {},
     "output_type": "display_data"
    },
    {
     "data": {
      "application/vnd.jupyter.widget-view+json": {
       "model_id": "4cb0fba7fc58445f875c72f45e00e884",
       "version_major": 2,
       "version_minor": 0
      },
      "text/plain": [
       "  0%|          | 0/32 [00:00<?, ?it/s]"
      ]
     },
     "metadata": {},
     "output_type": "display_data"
    },
    {
     "name": "stdout",
     "output_type": "stream",
     "text": [
      "Sun Jul 17 20:35:17 2022 Fold 0 Epoch 6, lr: 0.0008051, train loss: 0.2495, valid loss: 0.2241, train_acc: 0.9331, valid_acc: 0.9370.\n",
      "acc increased (0.924316 --> 0.937012).  Saving model ...\n",
      "Sun Jul 17 20:35:17 2022 Epoch: 7\n"
     ]
    },
    {
     "data": {
      "application/vnd.jupyter.widget-view+json": {
       "model_id": "9e10dc8b826c42268a87a1cbf3c39ef2",
       "version_major": 2,
       "version_minor": 0
      },
      "text/plain": [
       "  0%|          | 0/64 [00:00<?, ?it/s]"
      ]
     },
     "metadata": {},
     "output_type": "display_data"
    },
    {
     "data": {
      "application/vnd.jupyter.widget-view+json": {
       "model_id": "6a85a96f392142739f72089a4e67af50",
       "version_major": 2,
       "version_minor": 0
      },
      "text/plain": [
       "  0%|          | 0/32 [00:00<?, ?it/s]"
      ]
     },
     "metadata": {},
     "output_type": "display_data"
    },
    {
     "name": "stdout",
     "output_type": "stream",
     "text": [
      "Sun Jul 17 20:35:41 2022 Fold 0 Epoch 7, lr: 0.0007548, train loss: 0.2331, valid loss: 0.1910, train_acc: 0.9353, valid_acc: 0.9468.\n",
      "acc increased (0.937012 --> 0.946777).  Saving model ...\n",
      "Sun Jul 17 20:35:42 2022 Epoch: 8\n"
     ]
    },
    {
     "data": {
      "application/vnd.jupyter.widget-view+json": {
       "model_id": "fa5a3500c4134231b55129956d1e8d89",
       "version_major": 2,
       "version_minor": 0
      },
      "text/plain": [
       "  0%|          | 0/64 [00:00<?, ?it/s]"
      ]
     },
     "metadata": {},
     "output_type": "display_data"
    },
    {
     "data": {
      "application/vnd.jupyter.widget-view+json": {
       "model_id": "7d508c1cdfa247cf8a49cb1da6dbcfd9",
       "version_major": 2,
       "version_minor": 0
      },
      "text/plain": [
       "  0%|          | 0/32 [00:00<?, ?it/s]"
      ]
     },
     "metadata": {},
     "output_type": "display_data"
    },
    {
     "name": "stdout",
     "output_type": "stream",
     "text": [
      "Sun Jul 17 20:36:06 2022 Fold 0 Epoch 8, lr: 0.0006961, train loss: 0.1885, valid loss: 0.2053, train_acc: 0.9492, valid_acc: 0.9448.\n",
      "Sun Jul 17 20:36:06 2022 Epoch: 9\n"
     ]
    },
    {
     "data": {
      "application/vnd.jupyter.widget-view+json": {
       "model_id": "5af8d186ef2b4bc58347be165a9387e5",
       "version_major": 2,
       "version_minor": 0
      },
      "text/plain": [
       "  0%|          | 0/64 [00:00<?, ?it/s]"
      ]
     },
     "metadata": {},
     "output_type": "display_data"
    },
    {
     "data": {
      "application/vnd.jupyter.widget-view+json": {
       "model_id": "b1539d6fb04f4e7da4ad90050a1e87c8",
       "version_major": 2,
       "version_minor": 0
      },
      "text/plain": [
       "  0%|          | 0/32 [00:00<?, ?it/s]"
      ]
     },
     "metadata": {},
     "output_type": "display_data"
    },
    {
     "name": "stdout",
     "output_type": "stream",
     "text": [
      "Sun Jul 17 20:36:30 2022 Fold 0 Epoch 9, lr: 0.0006308, train loss: 0.1672, valid loss: 0.1463, train_acc: 0.9553, valid_acc: 0.9585.\n",
      "acc increased (0.946777 --> 0.958496).  Saving model ...\n",
      "Sun Jul 17 20:36:30 2022 Epoch: 10\n"
     ]
    },
    {
     "data": {
      "application/vnd.jupyter.widget-view+json": {
       "model_id": "d123e3b6e48749d1b438f44a4c06e9cd",
       "version_major": 2,
       "version_minor": 0
      },
      "text/plain": [
       "  0%|          | 0/64 [00:00<?, ?it/s]"
      ]
     },
     "metadata": {},
     "output_type": "display_data"
    },
    {
     "data": {
      "application/vnd.jupyter.widget-view+json": {
       "model_id": "d6f190a815594bf591408b701e5cadd2",
       "version_major": 2,
       "version_minor": 0
      },
      "text/plain": [
       "  0%|          | 0/32 [00:00<?, ?it/s]"
      ]
     },
     "metadata": {},
     "output_type": "display_data"
    },
    {
     "name": "stdout",
     "output_type": "stream",
     "text": [
      "Sun Jul 17 20:36:54 2022 Fold 0 Epoch 10, lr: 0.0005605, train loss: 0.1584, valid loss: 0.1521, train_acc: 0.9568, valid_acc: 0.9585.\n",
      "Sun Jul 17 20:36:54 2022 Epoch: 11\n"
     ]
    },
    {
     "data": {
      "application/vnd.jupyter.widget-view+json": {
       "model_id": "15eb8997b9b34c2f9020b05fa35fefed",
       "version_major": 2,
       "version_minor": 0
      },
      "text/plain": [
       "  0%|          | 0/64 [00:00<?, ?it/s]"
      ]
     },
     "metadata": {},
     "output_type": "display_data"
    },
    {
     "data": {
      "application/vnd.jupyter.widget-view+json": {
       "model_id": "5fd1e71c25e643b4b3bce43ad132d761",
       "version_major": 2,
       "version_minor": 0
      },
      "text/plain": [
       "  0%|          | 0/32 [00:00<?, ?it/s]"
      ]
     },
     "metadata": {},
     "output_type": "display_data"
    },
    {
     "name": "stdout",
     "output_type": "stream",
     "text": [
      "Sun Jul 17 20:37:19 2022 Fold 0 Epoch 11, lr: 0.0004872, train loss: 0.1198, valid loss: 0.1229, train_acc: 0.9670, valid_acc: 0.9644.\n",
      "acc increased (0.958496 --> 0.964355).  Saving model ...\n",
      "Sun Jul 17 20:37:19 2022 Epoch: 12\n"
     ]
    },
    {
     "data": {
      "application/vnd.jupyter.widget-view+json": {
       "model_id": "e55171b1b4b1462bba1448f8c87b4145",
       "version_major": 2,
       "version_minor": 0
      },
      "text/plain": [
       "  0%|          | 0/64 [00:00<?, ?it/s]"
      ]
     },
     "metadata": {},
     "output_type": "display_data"
    },
    {
     "data": {
      "application/vnd.jupyter.widget-view+json": {
       "model_id": "5961ff6e6a1e42948e200a3f351eb248",
       "version_major": 2,
       "version_minor": 0
      },
      "text/plain": [
       "  0%|          | 0/32 [00:00<?, ?it/s]"
      ]
     },
     "metadata": {},
     "output_type": "display_data"
    },
    {
     "name": "stdout",
     "output_type": "stream",
     "text": [
      "Sun Jul 17 20:37:43 2022 Fold 0 Epoch 12, lr: 0.0004128, train loss: 0.1097, valid loss: 0.1007, train_acc: 0.9692, valid_acc: 0.9722.\n",
      "acc increased (0.964355 --> 0.972168).  Saving model ...\n",
      "Sun Jul 17 20:37:44 2022 Epoch: 13\n"
     ]
    },
    {
     "data": {
      "application/vnd.jupyter.widget-view+json": {
       "model_id": "7c38e74f339849189b50e4628898ff66",
       "version_major": 2,
       "version_minor": 0
      },
      "text/plain": [
       "  0%|          | 0/64 [00:00<?, ?it/s]"
      ]
     },
     "metadata": {},
     "output_type": "display_data"
    },
    {
     "data": {
      "application/vnd.jupyter.widget-view+json": {
       "model_id": "0fd0bf6d2feb487bac556a86ad901239",
       "version_major": 2,
       "version_minor": 0
      },
      "text/plain": [
       "  0%|          | 0/32 [00:00<?, ?it/s]"
      ]
     },
     "metadata": {},
     "output_type": "display_data"
    },
    {
     "name": "stdout",
     "output_type": "stream",
     "text": [
      "Sun Jul 17 20:38:08 2022 Fold 0 Epoch 13, lr: 0.0003395, train loss: 0.1017, valid loss: 0.1225, train_acc: 0.9704, valid_acc: 0.9678.\n",
      "Sun Jul 17 20:38:08 2022 Epoch: 14\n"
     ]
    },
    {
     "data": {
      "application/vnd.jupyter.widget-view+json": {
       "model_id": "f8dc98c23a1a463ca17f7af71d932c07",
       "version_major": 2,
       "version_minor": 0
      },
      "text/plain": [
       "  0%|          | 0/64 [00:00<?, ?it/s]"
      ]
     },
     "metadata": {},
     "output_type": "display_data"
    },
    {
     "data": {
      "application/vnd.jupyter.widget-view+json": {
       "model_id": "420be6aac14d4099b1b18e7d8da32d1d",
       "version_major": 2,
       "version_minor": 0
      },
      "text/plain": [
       "  0%|          | 0/32 [00:00<?, ?it/s]"
      ]
     },
     "metadata": {},
     "output_type": "display_data"
    },
    {
     "name": "stdout",
     "output_type": "stream",
     "text": [
      "Sun Jul 17 20:38:32 2022 Fold 0 Epoch 14, lr: 0.0002692, train loss: 0.0838, valid loss: 0.1003, train_acc: 0.9778, valid_acc: 0.9751.\n",
      "acc increased (0.972168 --> 0.975098).  Saving model ...\n",
      "Sun Jul 17 20:38:33 2022 Epoch: 15\n"
     ]
    },
    {
     "data": {
      "application/vnd.jupyter.widget-view+json": {
       "model_id": "aacea5f6cf2847bc98c5c7743fd96c4d",
       "version_major": 2,
       "version_minor": 0
      },
      "text/plain": [
       "  0%|          | 0/64 [00:00<?, ?it/s]"
      ]
     },
     "metadata": {},
     "output_type": "display_data"
    },
    {
     "data": {
      "application/vnd.jupyter.widget-view+json": {
       "model_id": "7bb3e92dc2f8458a9159472fa615f12f",
       "version_major": 2,
       "version_minor": 0
      },
      "text/plain": [
       "  0%|          | 0/32 [00:00<?, ?it/s]"
      ]
     },
     "metadata": {},
     "output_type": "display_data"
    },
    {
     "name": "stdout",
     "output_type": "stream",
     "text": [
      "Sun Jul 17 20:38:57 2022 Fold 0 Epoch 15, lr: 0.0002039, train loss: 0.0729, valid loss: 0.1026, train_acc: 0.9805, valid_acc: 0.9746.\n",
      "Sun Jul 17 20:38:57 2022 Epoch: 16\n"
     ]
    },
    {
     "data": {
      "application/vnd.jupyter.widget-view+json": {
       "model_id": "54be779a234b49c395329aa14a988b57",
       "version_major": 2,
       "version_minor": 0
      },
      "text/plain": [
       "  0%|          | 0/64 [00:00<?, ?it/s]"
      ]
     },
     "metadata": {},
     "output_type": "display_data"
    },
    {
     "data": {
      "application/vnd.jupyter.widget-view+json": {
       "model_id": "1859d10dd9a24e0f8848d056790225a9",
       "version_major": 2,
       "version_minor": 0
      },
      "text/plain": [
       "  0%|          | 0/32 [00:00<?, ?it/s]"
      ]
     },
     "metadata": {},
     "output_type": "display_data"
    },
    {
     "name": "stdout",
     "output_type": "stream",
     "text": [
      "Sun Jul 17 20:39:21 2022 Fold 0 Epoch 16, lr: 0.0001452, train loss: 0.0771, valid loss: 0.0951, train_acc: 0.9802, valid_acc: 0.9751.\n",
      "Sun Jul 17 20:39:21 2022 Epoch: 17\n"
     ]
    },
    {
     "data": {
      "application/vnd.jupyter.widget-view+json": {
       "model_id": "6b7ee709fb064a7db8c249496c84b982",
       "version_major": 2,
       "version_minor": 0
      },
      "text/plain": [
       "  0%|          | 0/64 [00:00<?, ?it/s]"
      ]
     },
     "metadata": {},
     "output_type": "display_data"
    },
    {
     "data": {
      "application/vnd.jupyter.widget-view+json": {
       "model_id": "e0a25f9f24b240a29090336537cafdcf",
       "version_major": 2,
       "version_minor": 0
      },
      "text/plain": [
       "  0%|          | 0/32 [00:00<?, ?it/s]"
      ]
     },
     "metadata": {},
     "output_type": "display_data"
    },
    {
     "name": "stdout",
     "output_type": "stream",
     "text": [
      "Sun Jul 17 20:39:46 2022 Fold 0 Epoch 17, lr: 0.0000949, train loss: 0.0594, valid loss: 0.0903, train_acc: 0.9836, valid_acc: 0.9771.\n",
      "acc increased (0.975098 --> 0.977051).  Saving model ...\n",
      "Sun Jul 17 20:39:46 2022 Epoch: 18\n"
     ]
    },
    {
     "data": {
      "application/vnd.jupyter.widget-view+json": {
       "model_id": "087d4185a67a4871b36fba3c92bf1b09",
       "version_major": 2,
       "version_minor": 0
      },
      "text/plain": [
       "  0%|          | 0/64 [00:00<?, ?it/s]"
      ]
     },
     "metadata": {},
     "output_type": "display_data"
    },
    {
     "data": {
      "application/vnd.jupyter.widget-view+json": {
       "model_id": "2d95baddc31a442d932703ebc459de63",
       "version_major": 2,
       "version_minor": 0
      },
      "text/plain": [
       "  0%|          | 0/32 [00:00<?, ?it/s]"
      ]
     },
     "metadata": {},
     "output_type": "display_data"
    },
    {
     "name": "stdout",
     "output_type": "stream",
     "text": [
      "Sun Jul 17 20:40:10 2022 Fold 0 Epoch 18, lr: 0.0000542, train loss: 0.0560, valid loss: 0.0881, train_acc: 0.9853, valid_acc: 0.9790.\n",
      "acc increased (0.977051 --> 0.979004).  Saving model ...\n",
      "Sun Jul 17 20:40:10 2022 Epoch: 19\n"
     ]
    },
    {
     "data": {
      "application/vnd.jupyter.widget-view+json": {
       "model_id": "8d3cb6e79589432ca429f8c5838ba958",
       "version_major": 2,
       "version_minor": 0
      },
      "text/plain": [
       "  0%|          | 0/64 [00:00<?, ?it/s]"
      ]
     },
     "metadata": {},
     "output_type": "display_data"
    },
    {
     "data": {
      "application/vnd.jupyter.widget-view+json": {
       "model_id": "2fb6f87c509e4d9aa9e968027d2cbeb5",
       "version_major": 2,
       "version_minor": 0
      },
      "text/plain": [
       "  0%|          | 0/32 [00:00<?, ?it/s]"
      ]
     },
     "metadata": {},
     "output_type": "display_data"
    },
    {
     "name": "stdout",
     "output_type": "stream",
     "text": [
      "Sun Jul 17 20:40:34 2022 Fold 0 Epoch 19, lr: 0.0000244, train loss: 0.0566, valid loss: 0.0916, train_acc: 0.9841, valid_acc: 0.9785.\n",
      "Sun Jul 17 20:40:34 2022 Epoch: 20\n"
     ]
    },
    {
     "data": {
      "application/vnd.jupyter.widget-view+json": {
       "model_id": "f6e411356bee4eb48ba1dd05694b922a",
       "version_major": 2,
       "version_minor": 0
      },
      "text/plain": [
       "  0%|          | 0/64 [00:00<?, ?it/s]"
      ]
     },
     "metadata": {},
     "output_type": "display_data"
    },
    {
     "data": {
      "application/vnd.jupyter.widget-view+json": {
       "model_id": "f640600ee5414805bad6ff5f3475731f",
       "version_major": 2,
       "version_minor": 0
      },
      "text/plain": [
       "  0%|          | 0/32 [00:00<?, ?it/s]"
      ]
     },
     "metadata": {},
     "output_type": "display_data"
    },
    {
     "name": "stdout",
     "output_type": "stream",
     "text": [
      "Sun Jul 17 20:40:59 2022 Fold 0 Epoch 20, lr: 0.0000061, train loss: 0.0547, valid loss: 0.0845, train_acc: 0.9856, valid_acc: 0.9800.\n",
      "acc increased (0.979004 --> 0.979980).  Saving model ...\n"
     ]
    },
    {
     "data": {
      "application/vnd.jupyter.widget-view+json": {
       "model_id": "b813ea600dd544f999463408f4f22a81",
       "version_major": 2,
       "version_minor": 0
      },
      "text/plain": [
       "  0%|          | 0/32 [00:00<?, ?it/s]"
      ]
     },
     "metadata": {},
     "output_type": "display_data"
    },
    {
     "name": "stdout",
     "output_type": "stream",
     "text": [
      "test loss 0.06565333904291037 score 0.9814362481680508\n"
     ]
    }
   ],
   "source": [
    "part_2 = model.part_2_cnn('tf_efficientnet_b4_ns')\n",
    "part_2.train_test_img_transformation()\n",
    "part_2.load_data()\n",
    "part_2.build_model()"
   ]
  },
  {
   "cell_type": "code",
   "execution_count": 4,
   "id": "841c0179-9d59-4a33-a8ee-7490fbd54837",
   "metadata": {},
   "outputs": [
    {
     "data": {
      "text/html": [
       "<div>\n",
       "<style scoped>\n",
       "    .dataframe tbody tr th:only-of-type {\n",
       "        vertical-align: middle;\n",
       "    }\n",
       "\n",
       "    .dataframe tbody tr th {\n",
       "        vertical-align: top;\n",
       "    }\n",
       "\n",
       "    .dataframe thead th {\n",
       "        text-align: right;\n",
       "    }\n",
       "</style>\n",
       "<table border=\"1\" class=\"dataframe\">\n",
       "  <thead>\n",
       "    <tr style=\"text-align: right;\">\n",
       "      <th></th>\n",
       "      <th>Unnamed: 0</th>\n",
       "      <th>Epoch</th>\n",
       "      <th>lr</th>\n",
       "      <th>train_loss</th>\n",
       "      <th>valid_loss</th>\n",
       "      <th>train_acc</th>\n",
       "      <th>valid_acc</th>\n",
       "      <th>test_loss</th>\n",
       "      <th>score</th>\n",
       "    </tr>\n",
       "  </thead>\n",
       "  <tbody>\n",
       "    <tr>\n",
       "      <th>0</th>\n",
       "      <td>0</td>\n",
       "      <td>1.0</td>\n",
       "      <td>0.000300</td>\n",
       "      <td>4.446512</td>\n",
       "      <td>4.168815</td>\n",
       "      <td>0.046165</td>\n",
       "      <td>0.066406</td>\n",
       "      <td>0.129086</td>\n",
       "      <td>0.969223</td>\n",
       "    </tr>\n",
       "    <tr>\n",
       "      <th>1</th>\n",
       "      <td>1</td>\n",
       "      <td>2.0</td>\n",
       "      <td>0.000900</td>\n",
       "      <td>2.637910</td>\n",
       "      <td>1.321173</td>\n",
       "      <td>0.394480</td>\n",
       "      <td>0.629395</td>\n",
       "      <td>0.129086</td>\n",
       "      <td>0.969223</td>\n",
       "    </tr>\n",
       "    <tr>\n",
       "      <th>2</th>\n",
       "      <td>2</td>\n",
       "      <td>3.0</td>\n",
       "      <td>0.000900</td>\n",
       "      <td>1.051585</td>\n",
       "      <td>0.676064</td>\n",
       "      <td>0.714949</td>\n",
       "      <td>0.817871</td>\n",
       "      <td>0.129086</td>\n",
       "      <td>0.969223</td>\n",
       "    </tr>\n",
       "    <tr>\n",
       "      <th>3</th>\n",
       "      <td>3</td>\n",
       "      <td>4.0</td>\n",
       "      <td>0.000876</td>\n",
       "      <td>0.634676</td>\n",
       "      <td>0.554396</td>\n",
       "      <td>0.824621</td>\n",
       "      <td>0.836914</td>\n",
       "      <td>0.129086</td>\n",
       "      <td>0.969223</td>\n",
       "    </tr>\n",
       "    <tr>\n",
       "      <th>4</th>\n",
       "      <td>4</td>\n",
       "      <td>5.0</td>\n",
       "      <td>0.000846</td>\n",
       "      <td>0.470172</td>\n",
       "      <td>0.358487</td>\n",
       "      <td>0.873473</td>\n",
       "      <td>0.901855</td>\n",
       "      <td>0.129086</td>\n",
       "      <td>0.969223</td>\n",
       "    </tr>\n",
       "    <tr>\n",
       "      <th>5</th>\n",
       "      <td>5</td>\n",
       "      <td>6.0</td>\n",
       "      <td>0.000805</td>\n",
       "      <td>0.419471</td>\n",
       "      <td>0.310298</td>\n",
       "      <td>0.885442</td>\n",
       "      <td>0.911621</td>\n",
       "      <td>0.129086</td>\n",
       "      <td>0.969223</td>\n",
       "    </tr>\n",
       "    <tr>\n",
       "      <th>6</th>\n",
       "      <td>6</td>\n",
       "      <td>7.0</td>\n",
       "      <td>0.000755</td>\n",
       "      <td>0.302722</td>\n",
       "      <td>0.350229</td>\n",
       "      <td>0.914265</td>\n",
       "      <td>0.903809</td>\n",
       "      <td>0.129086</td>\n",
       "      <td>0.969223</td>\n",
       "    </tr>\n",
       "    <tr>\n",
       "      <th>7</th>\n",
       "      <td>7</td>\n",
       "      <td>8.0</td>\n",
       "      <td>0.000696</td>\n",
       "      <td>0.285328</td>\n",
       "      <td>0.379534</td>\n",
       "      <td>0.922081</td>\n",
       "      <td>0.895996</td>\n",
       "      <td>0.129086</td>\n",
       "      <td>0.969223</td>\n",
       "    </tr>\n",
       "    <tr>\n",
       "      <th>8</th>\n",
       "      <td>8</td>\n",
       "      <td>9.0</td>\n",
       "      <td>0.000631</td>\n",
       "      <td>0.246095</td>\n",
       "      <td>0.239913</td>\n",
       "      <td>0.936981</td>\n",
       "      <td>0.933105</td>\n",
       "      <td>0.129086</td>\n",
       "      <td>0.969223</td>\n",
       "    </tr>\n",
       "    <tr>\n",
       "      <th>9</th>\n",
       "      <td>9</td>\n",
       "      <td>10.0</td>\n",
       "      <td>0.000560</td>\n",
       "      <td>0.217142</td>\n",
       "      <td>0.219463</td>\n",
       "      <td>0.944553</td>\n",
       "      <td>0.937012</td>\n",
       "      <td>0.129086</td>\n",
       "      <td>0.969223</td>\n",
       "    </tr>\n",
       "    <tr>\n",
       "      <th>10</th>\n",
       "      <td>10</td>\n",
       "      <td>11.0</td>\n",
       "      <td>0.000487</td>\n",
       "      <td>0.213199</td>\n",
       "      <td>0.221599</td>\n",
       "      <td>0.941378</td>\n",
       "      <td>0.946777</td>\n",
       "      <td>0.129086</td>\n",
       "      <td>0.969223</td>\n",
       "    </tr>\n",
       "    <tr>\n",
       "      <th>11</th>\n",
       "      <td>11</td>\n",
       "      <td>12.0</td>\n",
       "      <td>0.000413</td>\n",
       "      <td>0.178378</td>\n",
       "      <td>0.195149</td>\n",
       "      <td>0.950415</td>\n",
       "      <td>0.941406</td>\n",
       "      <td>0.129086</td>\n",
       "      <td>0.969223</td>\n",
       "    </tr>\n",
       "    <tr>\n",
       "      <th>12</th>\n",
       "      <td>12</td>\n",
       "      <td>13.0</td>\n",
       "      <td>0.000340</td>\n",
       "      <td>0.168866</td>\n",
       "      <td>0.209478</td>\n",
       "      <td>0.957010</td>\n",
       "      <td>0.940918</td>\n",
       "      <td>0.129086</td>\n",
       "      <td>0.969223</td>\n",
       "    </tr>\n",
       "    <tr>\n",
       "      <th>13</th>\n",
       "      <td>13</td>\n",
       "      <td>14.0</td>\n",
       "      <td>0.000269</td>\n",
       "      <td>0.136405</td>\n",
       "      <td>0.184081</td>\n",
       "      <td>0.964094</td>\n",
       "      <td>0.951172</td>\n",
       "      <td>0.129086</td>\n",
       "      <td>0.969223</td>\n",
       "    </tr>\n",
       "    <tr>\n",
       "      <th>14</th>\n",
       "      <td>14</td>\n",
       "      <td>15.0</td>\n",
       "      <td>0.000204</td>\n",
       "      <td>0.154795</td>\n",
       "      <td>0.193473</td>\n",
       "      <td>0.958964</td>\n",
       "      <td>0.950195</td>\n",
       "      <td>0.129086</td>\n",
       "      <td>0.969223</td>\n",
       "    </tr>\n",
       "    <tr>\n",
       "      <th>15</th>\n",
       "      <td>15</td>\n",
       "      <td>16.0</td>\n",
       "      <td>0.000145</td>\n",
       "      <td>0.128338</td>\n",
       "      <td>0.173177</td>\n",
       "      <td>0.965315</td>\n",
       "      <td>0.952148</td>\n",
       "      <td>0.129086</td>\n",
       "      <td>0.969223</td>\n",
       "    </tr>\n",
       "    <tr>\n",
       "      <th>16</th>\n",
       "      <td>16</td>\n",
       "      <td>17.0</td>\n",
       "      <td>0.000095</td>\n",
       "      <td>0.121389</td>\n",
       "      <td>0.168333</td>\n",
       "      <td>0.966048</td>\n",
       "      <td>0.957520</td>\n",
       "      <td>0.129086</td>\n",
       "      <td>0.969223</td>\n",
       "    </tr>\n",
       "    <tr>\n",
       "      <th>17</th>\n",
       "      <td>17</td>\n",
       "      <td>18.0</td>\n",
       "      <td>0.000054</td>\n",
       "      <td>0.090514</td>\n",
       "      <td>0.171303</td>\n",
       "      <td>0.974353</td>\n",
       "      <td>0.954590</td>\n",
       "      <td>0.129086</td>\n",
       "      <td>0.969223</td>\n",
       "    </tr>\n",
       "    <tr>\n",
       "      <th>18</th>\n",
       "      <td>18</td>\n",
       "      <td>19.0</td>\n",
       "      <td>0.000024</td>\n",
       "      <td>0.102783</td>\n",
       "      <td>0.159873</td>\n",
       "      <td>0.971666</td>\n",
       "      <td>0.957031</td>\n",
       "      <td>0.129086</td>\n",
       "      <td>0.969223</td>\n",
       "    </tr>\n",
       "    <tr>\n",
       "      <th>19</th>\n",
       "      <td>19</td>\n",
       "      <td>20.0</td>\n",
       "      <td>0.000006</td>\n",
       "      <td>0.108453</td>\n",
       "      <td>0.165432</td>\n",
       "      <td>0.972154</td>\n",
       "      <td>0.955566</td>\n",
       "      <td>0.129086</td>\n",
       "      <td>0.969223</td>\n",
       "    </tr>\n",
       "  </tbody>\n",
       "</table>\n",
       "</div>"
      ],
      "text/plain": [
       "    Unnamed: 0  Epoch        lr  train_loss  valid_loss  train_acc  valid_acc  \\\n",
       "0            0    1.0  0.000300    4.446512    4.168815   0.046165   0.066406   \n",
       "1            1    2.0  0.000900    2.637910    1.321173   0.394480   0.629395   \n",
       "2            2    3.0  0.000900    1.051585    0.676064   0.714949   0.817871   \n",
       "3            3    4.0  0.000876    0.634676    0.554396   0.824621   0.836914   \n",
       "4            4    5.0  0.000846    0.470172    0.358487   0.873473   0.901855   \n",
       "5            5    6.0  0.000805    0.419471    0.310298   0.885442   0.911621   \n",
       "6            6    7.0  0.000755    0.302722    0.350229   0.914265   0.903809   \n",
       "7            7    8.0  0.000696    0.285328    0.379534   0.922081   0.895996   \n",
       "8            8    9.0  0.000631    0.246095    0.239913   0.936981   0.933105   \n",
       "9            9   10.0  0.000560    0.217142    0.219463   0.944553   0.937012   \n",
       "10          10   11.0  0.000487    0.213199    0.221599   0.941378   0.946777   \n",
       "11          11   12.0  0.000413    0.178378    0.195149   0.950415   0.941406   \n",
       "12          12   13.0  0.000340    0.168866    0.209478   0.957010   0.940918   \n",
       "13          13   14.0  0.000269    0.136405    0.184081   0.964094   0.951172   \n",
       "14          14   15.0  0.000204    0.154795    0.193473   0.958964   0.950195   \n",
       "15          15   16.0  0.000145    0.128338    0.173177   0.965315   0.952148   \n",
       "16          16   17.0  0.000095    0.121389    0.168333   0.966048   0.957520   \n",
       "17          17   18.0  0.000054    0.090514    0.171303   0.974353   0.954590   \n",
       "18          18   19.0  0.000024    0.102783    0.159873   0.971666   0.957031   \n",
       "19          19   20.0  0.000006    0.108453    0.165432   0.972154   0.955566   \n",
       "\n",
       "    test_loss     score  \n",
       "0    0.129086  0.969223  \n",
       "1    0.129086  0.969223  \n",
       "2    0.129086  0.969223  \n",
       "3    0.129086  0.969223  \n",
       "4    0.129086  0.969223  \n",
       "5    0.129086  0.969223  \n",
       "6    0.129086  0.969223  \n",
       "7    0.129086  0.969223  \n",
       "8    0.129086  0.969223  \n",
       "9    0.129086  0.969223  \n",
       "10   0.129086  0.969223  \n",
       "11   0.129086  0.969223  \n",
       "12   0.129086  0.969223  \n",
       "13   0.129086  0.969223  \n",
       "14   0.129086  0.969223  \n",
       "15   0.129086  0.969223  \n",
       "16   0.129086  0.969223  \n",
       "17   0.129086  0.969223  \n",
       "18   0.129086  0.969223  \n",
       "19   0.129086  0.969223  "
      ]
     },
     "execution_count": 4,
     "metadata": {},
     "output_type": "execute_result"
    }
   ],
   "source": [
    "res_resnet101"
   ]
  },
  {
   "cell_type": "code",
   "execution_count": 3,
   "id": "4fc74e7a-826b-40fd-be6a-007f1b6dd5b5",
   "metadata": {},
   "outputs": [],
   "source": [
    "# read result files\n",
    "import pandas as pd\n",
    "res_resnet101 = pd.read_csv('results/res_train_resnet101_df.csv')\n",
    "res_efficientnet_b1_ns = pd.read_csv('results/res_train_tf_efficientnet_b1_ns_df.csv')\n",
    "res_efficientnet_b3 = pd.read_csv('results/res_train_efficientnet_b3_df.csv')\n",
    "res_efficientnet_b4_ns = pd.read_csv('results/res_train_tf_efficientnet_b4_ns_df.csv')"
   ]
  },
  {
   "cell_type": "code",
   "execution_count": 5,
   "id": "bd510027-9ebe-4e4b-bd66-6b43c1476bc8",
   "metadata": {},
   "outputs": [],
   "source": [
    "def print_results_charts(epoch_train_loss,epoch_valid_loss,epoch_train_acc,epoch_valid_acc):\n",
    "    plt.plot(range(len(epoch_train_loss)), epoch_train_loss, label='Train')\n",
    "    plt.plot(range(len(epoch_valid_loss)), epoch_valid_loss, label='Valid')\n",
    "    plt.ylabel('Loss')\n",
    "    plt.xlabel('Epoch')\n",
    "    plt.legend()\n",
    "    plt.show()\n",
    "    plt.plot(range(len(epoch_train_acc)), epoch_train_acc,label='Train')\n",
    "    plt.plot(range(len(epoch_valid_acc)), epoch_valid_acc,label='Valid')\n",
    "    plt.ylabel('Accuracy')\n",
    "    plt.xlabel('Epochs')\n",
    "    plt.legend(loc='lower right')\n",
    "    plt.show()"
   ]
  },
  {
   "cell_type": "code",
   "execution_count": 3,
   "id": "af55b5ad-be62-4ce6-8d42-2d9c0221e794",
   "metadata": {},
   "outputs": [
    {
     "data": {
      "image/png": "[encoded data removed]",
      "text/plain": [
       "<Figure size 432x288 with 1 Axes>"
      ]
     },
     "metadata": {
      "needs_background": "light"
     },
     "output_type": "display_data"
    },
    {
     "data": {
      "image/png": "[encoded data removed]",
      "text/plain": [
       "<Figure size 432x288 with 1 Axes>"
      ]
     },
     "metadata": {
      "needs_background": "light"
     },
     "output_type": "display_data"
    }
   ],
   "source": [
    "from matplotlib import pyplot as plt\n",
    "print_results_charts(epoch_train_loss=res_resnet101['train_loss'],\n",
    "                     epoch_valid_loss=res_resnet101['valid_loss'],\n",
    "                     epoch_train_acc=res_resnet101['train_acc'],\n",
    "                     epoch_valid_acc=res_resnet101['valid_acc'])"
   ]
  },
  {
   "cell_type": "code",
   "execution_count": 7,
   "id": "574a1f6f-1f6f-4915-a22d-aa8f4adc7d60",
   "metadata": {},
   "outputs": [
    {
     "data": {
      "image/png": "[encoded data removed]",
      "text/plain": [
       "<Figure size 432x288 with 1 Axes>"
      ]
     },
     "metadata": {
      "needs_background": "light"
     },
     "output_type": "display_data"
    },
    {
     "data": {
      "image/png": "[encoded data removed]",
      "text/plain": [
       "<Figure size 432x288 with 1 Axes>"
      ]
     },
     "metadata": {
      "needs_background": "light"
     },
     "output_type": "display_data"
    }
   ],
   "source": [
    "print_results_charts(epoch_train_loss=res_efficientnet_b1_ns['train_loss'],\n",
    "                     epoch_valid_loss=res_efficientnet_b1_ns['valid_loss'],\n",
    "                     epoch_train_acc=res_efficientnet_b1_ns['train_acc'],\n",
    "                     epoch_valid_acc=res_efficientnet_b1_ns['valid_acc'])"
   ]
  },
  {
   "cell_type": "code",
   "execution_count": 8,
   "id": "b7cd1e65-7c2f-4dce-8234-0422ddd0f7c9",
   "metadata": {},
   "outputs": [
    {
     "data": {
      "image/png": "[encoded data removed]",
      "text/plain": [
       "<Figure size 432x288 with 1 Axes>"
      ]
     },
     "metadata": {
      "needs_background": "light"
     },
     "output_type": "display_data"
    },
    {
     "data": {
      "image/png": "[encoded data removed]",
      "text/plain": [
       "<Figure size 432x288 with 1 Axes>"
      ]
     },
     "metadata": {
      "needs_background": "light"
     },
     "output_type": "display_data"
    }
   ],
   "source": [
    "print_results_charts(epoch_train_loss=res_efficientnet_b3['train_loss'],\n",
    "                     epoch_valid_loss=res_efficientnet_b3['valid_loss'],\n",
    "                     epoch_train_acc=res_efficientnet_b3['train_acc'],\n",
    "                     epoch_valid_acc=res_efficientnet_b3['valid_acc'])"
   ]
  },
  {
   "cell_type": "code",
   "execution_count": 9,
   "id": "494ac683-2a07-42b6-bee0-a89a5a4e0267",
   "metadata": {},
   "outputs": [
    {
     "data": {
      "image/png": "[encoded data removed]",
      "text/plain": [
       "<Figure size 432x288 with 1 Axes>"
      ]
     },
     "metadata": {
      "needs_background": "light"
     },
     "output_type": "display_data"
    },
    {
     "data": {
      "image/png": "[encoded data removed]",
      "text/plain": [
       "<Figure size 432x288 with 1 Axes>"
      ]
     },
     "metadata": {
      "needs_background": "light"
     },
     "output_type": "display_data"
    }
   ],
   "source": [
    "print_results_charts(epoch_train_loss=res_efficientnet_b4_ns['train_loss'],\n",
    "                     epoch_valid_loss=res_efficientnet_b4_ns['valid_loss'],\n",
    "                     epoch_train_acc=res_efficientnet_b4_ns['train_acc'],\n",
    "                     epoch_valid_acc=res_efficientnet_b4_ns['valid_acc'])"
   ]
  },
  {
   "cell_type": "code",
   "execution_count": null,
   "id": "f67d5874-2eb9-46fb-8e54-3a109e68a9af",
   "metadata": {},
   "outputs": [],
   "source": []
  }
 ],
 "metadata": {
  "kernelspec": {
   "display_name": "eeg",
   "language": "python",
   "name": "eeg"
  },
  "language_info": {
   "codemirror_mode": {
    "name": "ipython",
    "version": 3
   },
   "file_extension": ".py",
   "mimetype": "text/x-python",
   "name": "python",
   "nbconvert_exporter": "python",
   "pygments_lexer": "ipython3",
   "version": "3.9.1"
  }
 },
 "nbformat": 4,
 "nbformat_minor": 5
}
