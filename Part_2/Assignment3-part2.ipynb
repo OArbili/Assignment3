{
 "cells": [
  {
   "cell_type": "code",
   "execution_count": 1,
   "id": "c4bfaead-963b-4a3e-9463-30bf8e61b5e4",
   "metadata": {},
   "outputs": [],
   "source": [
    "import glob\n",
    "import cv2\n",
    "import random\n",
    "import warnings\n",
    "import PIL.Image\n",
    "import subprocess\n",
    "import seaborn as sns\n",
    "from PIL import Image\n",
    "\n",
    "import matplotlib.pyplot as plt\n",
    "\n",
    "import preprocess\n",
    "import model\n",
    "import config\n",
    "\n",
    "import importlib\n",
    "\n",
    "importlib.reload(preprocess)\n",
    "importlib.reload(model)\n",
    "importlib.reload(config)\n",
    "\n",
    "%matplotlib inline\n",
    "warnings.simplefilter('ignore')"
   ]
  },
  {
   "cell_type": "code",
   "execution_count": 2,
   "id": "412e3dc4-07c6-409a-8343-15d87b765c5e",
   "metadata": {},
   "outputs": [
    {
     "name": "stdout",
     "output_type": "stream",
     "text": [
      "Sat Jul 16 18:44:38 2022 Epoch: 1\n"
     ]
    },
    {
     "data": {
      "application/vnd.jupyter.widget-view+json": {
       "model_id": "0442057ebfdf4ad0b185b09f4506dd90",
       "version_major": 2,
       "version_minor": 0
      },
      "text/plain": [
       "  0%|          | 0/512 [00:00<?, ?it/s]"
      ]
     },
     "metadata": {},
     "output_type": "display_data"
    },
    {
     "data": {
      "application/vnd.jupyter.widget-view+json": {
       "model_id": "e84bb7c3e97849b4b9dc599c43f2e899",
       "version_major": 2,
       "version_minor": 0
      },
      "text/plain": [
       "  0%|          | 0/256 [00:00<?, ?it/s]"
      ]
     },
     "metadata": {},
     "output_type": "display_data"
    },
    {
     "name": "stdout",
     "output_type": "stream",
     "text": [
      "Sat Jul 16 18:46:17 2022 Fold 0 Epoch 1, lr: 0.0003000, train loss: 4.0763, valid loss: 2.7593, acc: 0.3530.\n",
      "acc increased (0.000000 --> 0.353027).  Saving model ...\n",
      "Sat Jul 16 18:46:19 2022 Epoch: 2\n"
     ]
    },
    {
     "data": {
      "application/vnd.jupyter.widget-view+json": {
       "model_id": "101e564925374b77933b8f7037bbe6e7",
       "version_major": 2,
       "version_minor": 0
      },
      "text/plain": [
       "  0%|          | 0/512 [00:00<?, ?it/s]"
      ]
     },
     "metadata": {},
     "output_type": "display_data"
    },
    {
     "data": {
      "application/vnd.jupyter.widget-view+json": {
       "model_id": "1f25af3ad89a4ee1a8b729f1caff3629",
       "version_major": 2,
       "version_minor": 0
      },
      "text/plain": [
       "  0%|          | 0/256 [00:00<?, ?it/s]"
      ]
     },
     "metadata": {},
     "output_type": "display_data"
    },
    {
     "name": "stdout",
     "output_type": "stream",
     "text": [
      "Sat Jul 16 18:47:59 2022 Fold 0 Epoch 2, lr: 0.0009000, train loss: 2.0481, valid loss: 1.0614, acc: 0.6929.\n",
      "acc increased (0.353027 --> 0.692871).  Saving model ...\n",
      "Sat Jul 16 18:48:01 2022 Epoch: 3\n"
     ]
    },
    {
     "data": {
      "application/vnd.jupyter.widget-view+json": {
       "model_id": "14b912c7ae4d4a90b8585a0382234f4e",
       "version_major": 2,
       "version_minor": 0
      },
      "text/plain": [
       "  0%|          | 0/512 [00:00<?, ?it/s]"
      ]
     },
     "metadata": {},
     "output_type": "display_data"
    },
    {
     "data": {
      "application/vnd.jupyter.widget-view+json": {
       "model_id": "3fda6d977ce246d590d92d18b04641a7",
       "version_major": 2,
       "version_minor": 0
      },
      "text/plain": [
       "  0%|          | 0/256 [00:00<?, ?it/s]"
      ]
     },
     "metadata": {},
     "output_type": "display_data"
    },
    {
     "name": "stdout",
     "output_type": "stream",
     "text": [
      "Sat Jul 16 18:49:42 2022 Fold 0 Epoch 3, lr: 0.0009000, train loss: 1.1254, valid loss: 0.5687, acc: 0.8364.\n",
      "acc increased (0.692871 --> 0.836426).  Saving model ...\n",
      "Sat Jul 16 18:49:44 2022 Epoch: 4\n"
     ]
    },
    {
     "data": {
      "application/vnd.jupyter.widget-view+json": {
       "model_id": "f57c18dd2b3e4a9d87a89f837634c150",
       "version_major": 2,
       "version_minor": 0
      },
      "text/plain": [
       "  0%|          | 0/512 [00:00<?, ?it/s]"
      ]
     },
     "metadata": {},
     "output_type": "display_data"
    },
    {
     "data": {
      "application/vnd.jupyter.widget-view+json": {
       "model_id": "16ba19ea12914ff89ea3db915b668e56",
       "version_major": 2,
       "version_minor": 0
      },
      "text/plain": [
       "  0%|          | 0/256 [00:00<?, ?it/s]"
      ]
     },
     "metadata": {},
     "output_type": "display_data"
    },
    {
     "name": "stdout",
     "output_type": "stream",
     "text": [
      "Sat Jul 16 18:51:27 2022 Fold 0 Epoch 4, lr: 0.0008756, train loss: 0.7705, valid loss: 0.4830, acc: 0.8657.\n",
      "acc increased (0.836426 --> 0.865723).  Saving model ...\n",
      "Sat Jul 16 18:51:29 2022 Epoch: 5\n"
     ]
    },
    {
     "data": {
      "application/vnd.jupyter.widget-view+json": {
       "model_id": "dbd1e97751c646e3992cc81a9a031432",
       "version_major": 2,
       "version_minor": 0
      },
      "text/plain": [
       "  0%|          | 0/512 [00:00<?, ?it/s]"
      ]
     },
     "metadata": {},
     "output_type": "display_data"
    },
    {
     "data": {
      "application/vnd.jupyter.widget-view+json": {
       "model_id": "1b0bd0f099eb48a5900cc393774918b7",
       "version_major": 2,
       "version_minor": 0
      },
      "text/plain": [
       "  0%|          | 0/256 [00:00<?, ?it/s]"
      ]
     },
     "metadata": {},
     "output_type": "display_data"
    },
    {
     "name": "stdout",
     "output_type": "stream",
     "text": [
      "Sat Jul 16 18:53:11 2022 Fold 0 Epoch 5, lr: 0.0008458, train loss: 0.6017, valid loss: 0.4521, acc: 0.8779.\n",
      "acc increased (0.865723 --> 0.877930).  Saving model ...\n",
      "Sat Jul 16 18:53:13 2022 Epoch: 6\n"
     ]
    },
    {
     "data": {
      "application/vnd.jupyter.widget-view+json": {
       "model_id": "5bc9d2d52cf642b3a7085048ad20eea9",
       "version_major": 2,
       "version_minor": 0
      },
      "text/plain": [
       "  0%|          | 0/512 [00:00<?, ?it/s]"
      ]
     },
     "metadata": {},
     "output_type": "display_data"
    },
    {
     "data": {
      "application/vnd.jupyter.widget-view+json": {
       "model_id": "8c6cb404bedd41fba6a64aedeceafdec",
       "version_major": 2,
       "version_minor": 0
      },
      "text/plain": [
       "  0%|          | 0/256 [00:00<?, ?it/s]"
      ]
     },
     "metadata": {},
     "output_type": "display_data"
    },
    {
     "name": "stdout",
     "output_type": "stream",
     "text": [
      "Sat Jul 16 18:54:56 2022 Fold 0 Epoch 6, lr: 0.0008051, train loss: 0.5540, valid loss: 0.4957, acc: 0.8745.\n",
      "Sat Jul 16 18:54:56 2022 Epoch: 7\n"
     ]
    },
    {
     "data": {
      "application/vnd.jupyter.widget-view+json": {
       "model_id": "a95c02a75a644296a7c486b81071f8e0",
       "version_major": 2,
       "version_minor": 0
      },
      "text/plain": [
       "  0%|          | 0/512 [00:00<?, ?it/s]"
      ]
     },
     "metadata": {},
     "output_type": "display_data"
    },
    {
     "data": {
      "application/vnd.jupyter.widget-view+json": {
       "model_id": "2fadc00ca62f4df1af69ac297f78b890",
       "version_major": 2,
       "version_minor": 0
      },
      "text/plain": [
       "  0%|          | 0/256 [00:00<?, ?it/s]"
      ]
     },
     "metadata": {},
     "output_type": "display_data"
    },
    {
     "name": "stdout",
     "output_type": "stream",
     "text": [
      "Sat Jul 16 18:56:38 2022 Fold 0 Epoch 7, lr: 0.0007548, train loss: 0.4342, valid loss: 0.2533, acc: 0.9277.\n",
      "acc increased (0.877930 --> 0.927734).  Saving model ...\n",
      "Sat Jul 16 18:56:40 2022 Epoch: 8\n"
     ]
    },
    {
     "data": {
      "application/vnd.jupyter.widget-view+json": {
       "model_id": "7c856556fe1049c8aaf576df70a194e4",
       "version_major": 2,
       "version_minor": 0
      },
      "text/plain": [
       "  0%|          | 0/512 [00:00<?, ?it/s]"
      ]
     },
     "metadata": {},
     "output_type": "display_data"
    },
    {
     "data": {
      "application/vnd.jupyter.widget-view+json": {
       "model_id": "6e2451f1c7db4a2e8fd06e5af308e5c2",
       "version_major": 2,
       "version_minor": 0
      },
      "text/plain": [
       "  0%|          | 0/256 [00:00<?, ?it/s]"
      ]
     },
     "metadata": {},
     "output_type": "display_data"
    },
    {
     "name": "stdout",
     "output_type": "stream",
     "text": [
      "Sat Jul 16 18:58:23 2022 Fold 0 Epoch 8, lr: 0.0006961, train loss: 0.3504, valid loss: 0.4081, acc: 0.8994.\n",
      "Sat Jul 16 18:58:23 2022 Epoch: 9\n"
     ]
    },
    {
     "data": {
      "application/vnd.jupyter.widget-view+json": {
       "model_id": "98e4448b1d2a442f994294a5e286afe5",
       "version_major": 2,
       "version_minor": 0
      },
      "text/plain": [
       "  0%|          | 0/512 [00:00<?, ?it/s]"
      ]
     },
     "metadata": {},
     "output_type": "display_data"
    },
    {
     "data": {
      "application/vnd.jupyter.widget-view+json": {
       "model_id": "13942a28bf504692aa77b197bcf09656",
       "version_major": 2,
       "version_minor": 0
      },
      "text/plain": [
       "  0%|          | 0/256 [00:00<?, ?it/s]"
      ]
     },
     "metadata": {},
     "output_type": "display_data"
    },
    {
     "name": "stdout",
     "output_type": "stream",
     "text": [
      "Sat Jul 16 19:00:06 2022 Fold 0 Epoch 9, lr: 0.0006308, train loss: 0.3433, valid loss: 0.3699, acc: 0.9072.\n",
      "Sat Jul 16 19:00:06 2022 Epoch: 10\n"
     ]
    },
    {
     "data": {
      "application/vnd.jupyter.widget-view+json": {
       "model_id": "70056597b3ef4c4a927932eeab30b2d6",
       "version_major": 2,
       "version_minor": 0
      },
      "text/plain": [
       "  0%|          | 0/512 [00:00<?, ?it/s]"
      ]
     },
     "metadata": {},
     "output_type": "display_data"
    },
    {
     "data": {
      "application/vnd.jupyter.widget-view+json": {
       "model_id": "c1aeda61979947d1af97f9578a901145",
       "version_major": 2,
       "version_minor": 0
      },
      "text/plain": [
       "  0%|          | 0/256 [00:00<?, ?it/s]"
      ]
     },
     "metadata": {},
     "output_type": "display_data"
    },
    {
     "name": "stdout",
     "output_type": "stream",
     "text": [
      "Sat Jul 16 19:01:46 2022 Fold 0 Epoch 10, lr: 0.0005605, train loss: 0.2977, valid loss: 0.2536, acc: 0.9341.\n",
      "acc increased (0.927734 --> 0.934082).  Saving model ...\n",
      "Sat Jul 16 19:01:48 2022 Epoch: 11\n"
     ]
    },
    {
     "data": {
      "application/vnd.jupyter.widget-view+json": {
       "model_id": "bbe9a5062201488b9a4b2fca397cab29",
       "version_major": 2,
       "version_minor": 0
      },
      "text/plain": [
       "  0%|          | 0/512 [00:00<?, ?it/s]"
      ]
     },
     "metadata": {},
     "output_type": "display_data"
    },
    {
     "data": {
      "application/vnd.jupyter.widget-view+json": {
       "model_id": "882b355ddbe74bd48b2253a9a9dd89ad",
       "version_major": 2,
       "version_minor": 0
      },
      "text/plain": [
       "  0%|          | 0/256 [00:00<?, ?it/s]"
      ]
     },
     "metadata": {},
     "output_type": "display_data"
    },
    {
     "name": "stdout",
     "output_type": "stream",
     "text": [
      "Sat Jul 16 19:03:30 2022 Fold 0 Epoch 11, lr: 0.0004872, train loss: 0.2764, valid loss: 0.2227, acc: 0.9438.\n",
      "acc increased (0.934082 --> 0.943848).  Saving model ...\n",
      "Sat Jul 16 19:03:32 2022 Epoch: 12\n"
     ]
    },
    {
     "data": {
      "application/vnd.jupyter.widget-view+json": {
       "model_id": "6e5f3eb643c84eda9a857669d65f8cec",
       "version_major": 2,
       "version_minor": 0
      },
      "text/plain": [
       "  0%|          | 0/512 [00:00<?, ?it/s]"
      ]
     },
     "metadata": {},
     "output_type": "display_data"
    },
    {
     "data": {
      "application/vnd.jupyter.widget-view+json": {
       "model_id": "026bab43f2c54dca875c63eba801c2cd",
       "version_major": 2,
       "version_minor": 0
      },
      "text/plain": [
       "  0%|          | 0/256 [00:00<?, ?it/s]"
      ]
     },
     "metadata": {},
     "output_type": "display_data"
    },
    {
     "name": "stdout",
     "output_type": "stream",
     "text": [
      "Sat Jul 16 19:05:15 2022 Fold 0 Epoch 12, lr: 0.0004128, train loss: 0.1818, valid loss: 0.2170, acc: 0.9448.\n",
      "acc increased (0.943848 --> 0.944824).  Saving model ...\n",
      "Sat Jul 16 19:05:17 2022 Epoch: 13\n"
     ]
    },
    {
     "data": {
      "application/vnd.jupyter.widget-view+json": {
       "model_id": "954e3bf81e584060a5f4952740f4c5f9",
       "version_major": 2,
       "version_minor": 0
      },
      "text/plain": [
       "  0%|          | 0/512 [00:00<?, ?it/s]"
      ]
     },
     "metadata": {},
     "output_type": "display_data"
    },
    {
     "data": {
      "application/vnd.jupyter.widget-view+json": {
       "model_id": "6fa1daad3b754e659514206c79fa274b",
       "version_major": 2,
       "version_minor": 0
      },
      "text/plain": [
       "  0%|          | 0/256 [00:00<?, ?it/s]"
      ]
     },
     "metadata": {},
     "output_type": "display_data"
    },
    {
     "name": "stdout",
     "output_type": "stream",
     "text": [
      "Sat Jul 16 19:06:59 2022 Fold 0 Epoch 13, lr: 0.0003395, train loss: 0.2036, valid loss: 0.2005, acc: 0.9492.\n",
      "acc increased (0.944824 --> 0.949219).  Saving model ...\n",
      "Sat Jul 16 19:07:01 2022 Epoch: 14\n"
     ]
    },
    {
     "data": {
      "application/vnd.jupyter.widget-view+json": {
       "model_id": "eceb5bdfa9c9488390290a6e64622980",
       "version_major": 2,
       "version_minor": 0
      },
      "text/plain": [
       "  0%|          | 0/512 [00:00<?, ?it/s]"
      ]
     },
     "metadata": {},
     "output_type": "display_data"
    },
    {
     "data": {
      "application/vnd.jupyter.widget-view+json": {
       "model_id": "86471cf3130a420ab09a472dadcc9b59",
       "version_major": 2,
       "version_minor": 0
      },
      "text/plain": [
       "  0%|          | 0/256 [00:00<?, ?it/s]"
      ]
     },
     "metadata": {},
     "output_type": "display_data"
    },
    {
     "name": "stdout",
     "output_type": "stream",
     "text": [
      "Sat Jul 16 19:08:43 2022 Fold 0 Epoch 14, lr: 0.0002692, train loss: 0.1645, valid loss: 0.2171, acc: 0.9478.\n",
      "Sat Jul 16 19:08:43 2022 Epoch: 15\n"
     ]
    },
    {
     "data": {
      "application/vnd.jupyter.widget-view+json": {
       "model_id": "5960915131854f3381e7c3db32205ccd",
       "version_major": 2,
       "version_minor": 0
      },
      "text/plain": [
       "  0%|          | 0/512 [00:00<?, ?it/s]"
      ]
     },
     "metadata": {},
     "output_type": "display_data"
    },
    {
     "data": {
      "application/vnd.jupyter.widget-view+json": {
       "model_id": "d5a0eb5113ed45f99958d7b931534ab3",
       "version_major": 2,
       "version_minor": 0
      },
      "text/plain": [
       "  0%|          | 0/256 [00:00<?, ?it/s]"
      ]
     },
     "metadata": {},
     "output_type": "display_data"
    },
    {
     "name": "stdout",
     "output_type": "stream",
     "text": [
      "Sat Jul 16 19:10:27 2022 Fold 0 Epoch 15, lr: 0.0002039, train loss: 0.1545, valid loss: 0.1685, acc: 0.9570.\n",
      "acc increased (0.949219 --> 0.957031).  Saving model ...\n",
      "Sat Jul 16 19:10:29 2022 Epoch: 16\n"
     ]
    },
    {
     "data": {
      "application/vnd.jupyter.widget-view+json": {
       "model_id": "ef44dfa4cd9a4bcfac9f6c7f9221b8f5",
       "version_major": 2,
       "version_minor": 0
      },
      "text/plain": [
       "  0%|          | 0/512 [00:00<?, ?it/s]"
      ]
     },
     "metadata": {},
     "output_type": "display_data"
    },
    {
     "data": {
      "application/vnd.jupyter.widget-view+json": {
       "model_id": "6631f58771b24576b009e738ad496536",
       "version_major": 2,
       "version_minor": 0
      },
      "text/plain": [
       "  0%|          | 0/256 [00:00<?, ?it/s]"
      ]
     },
     "metadata": {},
     "output_type": "display_data"
    },
    {
     "name": "stdout",
     "output_type": "stream",
     "text": [
      "Sat Jul 16 19:12:11 2022 Fold 0 Epoch 16, lr: 0.0001452, train loss: 0.1365, valid loss: 0.1474, acc: 0.9624.\n",
      "acc increased (0.957031 --> 0.962402).  Saving model ...\n",
      "Sat Jul 16 19:12:13 2022 Epoch: 17\n"
     ]
    },
    {
     "data": {
      "application/vnd.jupyter.widget-view+json": {
       "model_id": "88be84da6fe8421486e651d449dc0347",
       "version_major": 2,
       "version_minor": 0
      },
      "text/plain": [
       "  0%|          | 0/512 [00:00<?, ?it/s]"
      ]
     },
     "metadata": {},
     "output_type": "display_data"
    },
    {
     "data": {
      "application/vnd.jupyter.widget-view+json": {
       "model_id": "6a5a195b3ae54883b87b7ffa4d92f18d",
       "version_major": 2,
       "version_minor": 0
      },
      "text/plain": [
       "  0%|          | 0/256 [00:00<?, ?it/s]"
      ]
     },
     "metadata": {},
     "output_type": "display_data"
    },
    {
     "name": "stdout",
     "output_type": "stream",
     "text": [
      "Sat Jul 16 19:13:55 2022 Fold 0 Epoch 17, lr: 0.0000949, train loss: 0.1302, valid loss: 0.1510, acc: 0.9604.\n",
      "Sat Jul 16 19:13:55 2022 Epoch: 18\n"
     ]
    },
    {
     "data": {
      "application/vnd.jupyter.widget-view+json": {
       "model_id": "8ed77f127b214d44b7031b351a1637c4",
       "version_major": 2,
       "version_minor": 0
      },
      "text/plain": [
       "  0%|          | 0/512 [00:00<?, ?it/s]"
      ]
     },
     "metadata": {},
     "output_type": "display_data"
    },
    {
     "data": {
      "application/vnd.jupyter.widget-view+json": {
       "model_id": "fcdfc03d79f744aaad55dec20e8f4371",
       "version_major": 2,
       "version_minor": 0
      },
      "text/plain": [
       "  0%|          | 0/256 [00:00<?, ?it/s]"
      ]
     },
     "metadata": {},
     "output_type": "display_data"
    },
    {
     "name": "stdout",
     "output_type": "stream",
     "text": [
      "Sat Jul 16 19:15:39 2022 Fold 0 Epoch 18, lr: 0.0000542, train loss: 0.1092, valid loss: 0.1388, acc: 0.9658.\n",
      "acc increased (0.962402 --> 0.965820).  Saving model ...\n",
      "Sat Jul 16 19:15:40 2022 Epoch: 19\n"
     ]
    },
    {
     "data": {
      "application/vnd.jupyter.widget-view+json": {
       "model_id": "f1e05908d2c24cb1bd1ab8f8249267f1",
       "version_major": 2,
       "version_minor": 0
      },
      "text/plain": [
       "  0%|          | 0/512 [00:00<?, ?it/s]"
      ]
     },
     "metadata": {},
     "output_type": "display_data"
    },
    {
     "data": {
      "application/vnd.jupyter.widget-view+json": {
       "model_id": "deffc73c3ff74186a589cd776d49f2d7",
       "version_major": 2,
       "version_minor": 0
      },
      "text/plain": [
       "  0%|          | 0/256 [00:00<?, ?it/s]"
      ]
     },
     "metadata": {},
     "output_type": "display_data"
    },
    {
     "name": "stdout",
     "output_type": "stream",
     "text": [
      "Sat Jul 16 19:17:24 2022 Fold 0 Epoch 19, lr: 0.0000244, train loss: 0.1076, valid loss: 0.1352, acc: 0.9634.\n",
      "Sat Jul 16 19:17:24 2022 Epoch: 20\n"
     ]
    },
    {
     "data": {
      "application/vnd.jupyter.widget-view+json": {
       "model_id": "540a5a2bbed74a11bccd13d4a74ef1ef",
       "version_major": 2,
       "version_minor": 0
      },
      "text/plain": [
       "  0%|          | 0/512 [00:00<?, ?it/s]"
      ]
     },
     "metadata": {},
     "output_type": "display_data"
    },
    {
     "data": {
      "application/vnd.jupyter.widget-view+json": {
       "model_id": "20b5cb507f52477ba2fb5ffb3cd857db",
       "version_major": 2,
       "version_minor": 0
      },
      "text/plain": [
       "  0%|          | 0/256 [00:00<?, ?it/s]"
      ]
     },
     "metadata": {},
     "output_type": "display_data"
    },
    {
     "name": "stdout",
     "output_type": "stream",
     "text": [
      "Sat Jul 16 19:19:07 2022 Fold 0 Epoch 20, lr: 0.0000061, train loss: 0.1124, valid loss: 0.1428, acc: 0.9609.\n"
     ]
    },
    {
     "data": {
      "application/vnd.jupyter.widget-view+json": {
       "model_id": "87ef39e12f5245a581dbfae0a70fe22d",
       "version_major": 2,
       "version_minor": 0
      },
      "text/plain": [
       "  0%|          | 0/256 [00:00<?, ?it/s]"
      ]
     },
     "metadata": {},
     "output_type": "display_data"
    },
    {
     "name": "stdout",
     "output_type": "stream",
     "text": [
      "test loss 0.1170708362917594 score 0.9716658524670249\n"
     ]
    }
   ],
   "source": [
    "part_2 = model.part_2_cnn('resnet101')\n",
    "part_2.train_test_img_transformation()\n",
    "part_2.load_data()\n",
    "part_2.build_model()"
   ]
  },
  {
   "cell_type": "code",
   "execution_count": 3,
   "id": "0e14627a-85d5-4f98-84e3-bcaa57e38467",
   "metadata": {},
   "outputs": [
    {
     "name": "stdout",
     "output_type": "stream",
     "text": [
      "Sat Jul 16 19:22:09 2022 Epoch: 1\n"
     ]
    },
    {
     "data": {
      "application/vnd.jupyter.widget-view+json": {
       "model_id": "e2913c122d604687a402caf6820aba38",
       "version_major": 2,
       "version_minor": 0
      },
      "text/plain": [
       "  0%|          | 0/512 [00:00<?, ?it/s]"
      ]
     },
     "metadata": {},
     "output_type": "display_data"
    },
    {
     "data": {
      "application/vnd.jupyter.widget-view+json": {
       "model_id": "8b4f0d698f2349938242b059f436f634",
       "version_major": 2,
       "version_minor": 0
      },
      "text/plain": [
       "  0%|          | 0/256 [00:00<?, ?it/s]"
      ]
     },
     "metadata": {},
     "output_type": "display_data"
    },
    {
     "name": "stdout",
     "output_type": "stream",
     "text": [
      "Sat Jul 16 19:23:42 2022 Fold 0 Epoch 1, lr: 0.0003000, train loss: 2.1066, valid loss: 0.4092, acc: 0.8896.\n",
      "acc increased (0.000000 --> 0.889648).  Saving model ...\n",
      "Sat Jul 16 19:23:42 2022 Epoch: 2\n"
     ]
    },
    {
     "data": {
      "application/vnd.jupyter.widget-view+json": {
       "model_id": "bfbc0cac013541c0b30cec17d1c4c4e9",
       "version_major": 2,
       "version_minor": 0
      },
      "text/plain": [
       "  0%|          | 0/512 [00:00<?, ?it/s]"
      ]
     },
     "metadata": {},
     "output_type": "display_data"
    },
    {
     "data": {
      "application/vnd.jupyter.widget-view+json": {
       "model_id": "f85b42415bff40c1bd9bec1e9d1590bb",
       "version_major": 2,
       "version_minor": 0
      },
      "text/plain": [
       "  0%|          | 0/256 [00:00<?, ?it/s]"
      ]
     },
     "metadata": {},
     "output_type": "display_data"
    },
    {
     "name": "stdout",
     "output_type": "stream",
     "text": [
      "Sat Jul 16 19:25:17 2022 Fold 0 Epoch 2, lr: 0.0009000, train loss: 1.1501, valid loss: 0.4875, acc: 0.8760.\n",
      "Sat Jul 16 19:25:17 2022 Epoch: 3\n"
     ]
    },
    {
     "data": {
      "application/vnd.jupyter.widget-view+json": {
       "model_id": "9cb21e59f6664963950508cb133cb8a6",
       "version_major": 2,
       "version_minor": 0
      },
      "text/plain": [
       "  0%|          | 0/512 [00:00<?, ?it/s]"
      ]
     },
     "metadata": {},
     "output_type": "display_data"
    },
    {
     "data": {
      "application/vnd.jupyter.widget-view+json": {
       "model_id": "1d2d0289e68e42aaaa74a15f842d1515",
       "version_major": 2,
       "version_minor": 0
      },
      "text/plain": [
       "  0%|          | 0/256 [00:00<?, ?it/s]"
      ]
     },
     "metadata": {},
     "output_type": "display_data"
    },
    {
     "name": "stdout",
     "output_type": "stream",
     "text": [
      "Sat Jul 16 19:26:52 2022 Fold 0 Epoch 3, lr: 0.0009000, train loss: 0.6951, valid loss: 0.4863, acc: 0.8643.\n",
      "Sat Jul 16 19:26:52 2022 Epoch: 4\n"
     ]
    },
    {
     "data": {
      "application/vnd.jupyter.widget-view+json": {
       "model_id": "3aa55d783d9a46569f70d4d47c19ba4b",
       "version_major": 2,
       "version_minor": 0
      },
      "text/plain": [
       "  0%|          | 0/512 [00:00<?, ?it/s]"
      ]
     },
     "metadata": {},
     "output_type": "display_data"
    },
    {
     "data": {
      "application/vnd.jupyter.widget-view+json": {
       "model_id": "eb5e93a9791744e99c42adc5a8dd42c7",
       "version_major": 2,
       "version_minor": 0
      },
      "text/plain": [
       "  0%|          | 0/256 [00:00<?, ?it/s]"
      ]
     },
     "metadata": {},
     "output_type": "display_data"
    },
    {
     "name": "stdout",
     "output_type": "stream",
     "text": [
      "Sat Jul 16 19:28:26 2022 Fold 0 Epoch 4, lr: 0.0008756, train loss: 0.5470, valid loss: 0.3310, acc: 0.9121.\n",
      "acc increased (0.889648 --> 0.912109).  Saving model ...\n",
      "Sat Jul 16 19:28:26 2022 Epoch: 5\n"
     ]
    },
    {
     "data": {
      "application/vnd.jupyter.widget-view+json": {
       "model_id": "d7238e0df7234ad0bff8388732726384",
       "version_major": 2,
       "version_minor": 0
      },
      "text/plain": [
       "  0%|          | 0/512 [00:00<?, ?it/s]"
      ]
     },
     "metadata": {},
     "output_type": "display_data"
    },
    {
     "data": {
      "application/vnd.jupyter.widget-view+json": {
       "model_id": "431aa3ed64dc41c3a03d7a7a7c832545",
       "version_major": 2,
       "version_minor": 0
      },
      "text/plain": [
       "  0%|          | 0/256 [00:00<?, ?it/s]"
      ]
     },
     "metadata": {},
     "output_type": "display_data"
    },
    {
     "name": "stdout",
     "output_type": "stream",
     "text": [
      "Sat Jul 16 19:30:01 2022 Fold 0 Epoch 5, lr: 0.0008458, train loss: 0.5076, valid loss: 0.2606, acc: 0.9248.\n",
      "acc increased (0.912109 --> 0.924805).  Saving model ...\n",
      "Sat Jul 16 19:30:02 2022 Epoch: 6\n"
     ]
    },
    {
     "data": {
      "application/vnd.jupyter.widget-view+json": {
       "model_id": "7718af87b9a04049b621930f4d11e781",
       "version_major": 2,
       "version_minor": 0
      },
      "text/plain": [
       "  0%|          | 0/512 [00:00<?, ?it/s]"
      ]
     },
     "metadata": {},
     "output_type": "display_data"
    },
    {
     "data": {
      "application/vnd.jupyter.widget-view+json": {
       "model_id": "41009ab1ccc74ab1a90e0889d7284153",
       "version_major": 2,
       "version_minor": 0
      },
      "text/plain": [
       "  0%|          | 0/256 [00:00<?, ?it/s]"
      ]
     },
     "metadata": {},
     "output_type": "display_data"
    },
    {
     "name": "stdout",
     "output_type": "stream",
     "text": [
      "Sat Jul 16 19:31:36 2022 Fold 0 Epoch 6, lr: 0.0008051, train loss: 0.3907, valid loss: 0.2424, acc: 0.9312.\n",
      "acc increased (0.924805 --> 0.931152).  Saving model ...\n",
      "Sat Jul 16 19:31:37 2022 Epoch: 7\n"
     ]
    },
    {
     "data": {
      "application/vnd.jupyter.widget-view+json": {
       "model_id": "dbd23ca6b21e469fbaebfbea15854d23",
       "version_major": 2,
       "version_minor": 0
      },
      "text/plain": [
       "  0%|          | 0/512 [00:00<?, ?it/s]"
      ]
     },
     "metadata": {},
     "output_type": "display_data"
    },
    {
     "data": {
      "application/vnd.jupyter.widget-view+json": {
       "model_id": "6057afed4d104d12836691d064118295",
       "version_major": 2,
       "version_minor": 0
      },
      "text/plain": [
       "  0%|          | 0/256 [00:00<?, ?it/s]"
      ]
     },
     "metadata": {},
     "output_type": "display_data"
    },
    {
     "name": "stdout",
     "output_type": "stream",
     "text": [
      "Sat Jul 16 19:33:11 2022 Fold 0 Epoch 7, lr: 0.0007548, train loss: 0.3828, valid loss: 0.2772, acc: 0.9219.\n",
      "Sat Jul 16 19:33:11 2022 Epoch: 8\n"
     ]
    },
    {
     "data": {
      "application/vnd.jupyter.widget-view+json": {
       "model_id": "f753ad6d46bc44b29acfb1e7eadcf3a2",
       "version_major": 2,
       "version_minor": 0
      },
      "text/plain": [
       "  0%|          | 0/512 [00:00<?, ?it/s]"
      ]
     },
     "metadata": {},
     "output_type": "display_data"
    },
    {
     "data": {
      "application/vnd.jupyter.widget-view+json": {
       "model_id": "51f5f4285bea4cc78c5cdc92210c8081",
       "version_major": 2,
       "version_minor": 0
      },
      "text/plain": [
       "  0%|          | 0/256 [00:00<?, ?it/s]"
      ]
     },
     "metadata": {},
     "output_type": "display_data"
    },
    {
     "name": "stdout",
     "output_type": "stream",
     "text": [
      "Sat Jul 16 19:34:46 2022 Fold 0 Epoch 8, lr: 0.0006961, train loss: 0.3202, valid loss: 0.2191, acc: 0.9429.\n",
      "acc increased (0.931152 --> 0.942871).  Saving model ...\n",
      "Sat Jul 16 19:34:46 2022 Epoch: 9\n"
     ]
    },
    {
     "data": {
      "application/vnd.jupyter.widget-view+json": {
       "model_id": "a61f9eb793ba48dfb56be18591e022e4",
       "version_major": 2,
       "version_minor": 0
      },
      "text/plain": [
       "  0%|          | 0/512 [00:00<?, ?it/s]"
      ]
     },
     "metadata": {},
     "output_type": "display_data"
    },
    {
     "data": {
      "application/vnd.jupyter.widget-view+json": {
       "model_id": "2384a3299e794c3895f29235167bf8d8",
       "version_major": 2,
       "version_minor": 0
      },
      "text/plain": [
       "  0%|          | 0/256 [00:00<?, ?it/s]"
      ]
     },
     "metadata": {},
     "output_type": "display_data"
    },
    {
     "name": "stdout",
     "output_type": "stream",
     "text": [
      "Sat Jul 16 19:36:21 2022 Fold 0 Epoch 9, lr: 0.0006308, train loss: 0.2668, valid loss: 0.1944, acc: 0.9502.\n",
      "acc increased (0.942871 --> 0.950195).  Saving model ...\n",
      "Sat Jul 16 19:36:21 2022 Epoch: 10\n"
     ]
    },
    {
     "data": {
      "application/vnd.jupyter.widget-view+json": {
       "model_id": "a3f7ed4c68ab401c93aee46b434b66e1",
       "version_major": 2,
       "version_minor": 0
      },
      "text/plain": [
       "  0%|          | 0/512 [00:00<?, ?it/s]"
      ]
     },
     "metadata": {},
     "output_type": "display_data"
    },
    {
     "data": {
      "application/vnd.jupyter.widget-view+json": {
       "model_id": "d4f9cd3347dd4337a6ea392b149c8f78",
       "version_major": 2,
       "version_minor": 0
      },
      "text/plain": [
       "  0%|          | 0/256 [00:00<?, ?it/s]"
      ]
     },
     "metadata": {},
     "output_type": "display_data"
    },
    {
     "name": "stdout",
     "output_type": "stream",
     "text": [
      "Sat Jul 16 19:37:56 2022 Fold 0 Epoch 10, lr: 0.0005605, train loss: 0.2524, valid loss: 0.2827, acc: 0.9326.\n",
      "Sat Jul 16 19:37:56 2022 Epoch: 11\n"
     ]
    },
    {
     "data": {
      "application/vnd.jupyter.widget-view+json": {
       "model_id": "3a2ab73224d34cfe8b90e433d5b44403",
       "version_major": 2,
       "version_minor": 0
      },
      "text/plain": [
       "  0%|          | 0/512 [00:00<?, ?it/s]"
      ]
     },
     "metadata": {},
     "output_type": "display_data"
    },
    {
     "data": {
      "application/vnd.jupyter.widget-view+json": {
       "model_id": "8e3b32b63672400c9092a0c2c5b3cdff",
       "version_major": 2,
       "version_minor": 0
      },
      "text/plain": [
       "  0%|          | 0/256 [00:00<?, ?it/s]"
      ]
     },
     "metadata": {},
     "output_type": "display_data"
    },
    {
     "name": "stdout",
     "output_type": "stream",
     "text": [
      "Sat Jul 16 19:39:31 2022 Fold 0 Epoch 11, lr: 0.0004872, train loss: 0.2067, valid loss: 0.1515, acc: 0.9575.\n",
      "acc increased (0.950195 --> 0.957520).  Saving model ...\n",
      "Sat Jul 16 19:39:31 2022 Epoch: 12\n"
     ]
    },
    {
     "data": {
      "application/vnd.jupyter.widget-view+json": {
       "model_id": "df59bdcce64041de90a56e91aea5db0a",
       "version_major": 2,
       "version_minor": 0
      },
      "text/plain": [
       "  0%|          | 0/512 [00:00<?, ?it/s]"
      ]
     },
     "metadata": {},
     "output_type": "display_data"
    },
    {
     "data": {
      "application/vnd.jupyter.widget-view+json": {
       "model_id": "787c470018c2404bb97d9dbaaaecb0af",
       "version_major": 2,
       "version_minor": 0
      },
      "text/plain": [
       "  0%|          | 0/256 [00:00<?, ?it/s]"
      ]
     },
     "metadata": {},
     "output_type": "display_data"
    },
    {
     "name": "stdout",
     "output_type": "stream",
     "text": [
      "Sat Jul 16 19:41:06 2022 Fold 0 Epoch 12, lr: 0.0004128, train loss: 0.1831, valid loss: 0.1561, acc: 0.9556.\n",
      "Sat Jul 16 19:41:06 2022 Epoch: 13\n"
     ]
    },
    {
     "data": {
      "application/vnd.jupyter.widget-view+json": {
       "model_id": "4d998822ea4e420dbb08f54842ade140",
       "version_major": 2,
       "version_minor": 0
      },
      "text/plain": [
       "  0%|          | 0/512 [00:00<?, ?it/s]"
      ]
     },
     "metadata": {},
     "output_type": "display_data"
    },
    {
     "data": {
      "application/vnd.jupyter.widget-view+json": {
       "model_id": "381581a9b14d4fbbbd900e3a21184a88",
       "version_major": 2,
       "version_minor": 0
      },
      "text/plain": [
       "  0%|          | 0/256 [00:00<?, ?it/s]"
      ]
     },
     "metadata": {},
     "output_type": "display_data"
    },
    {
     "name": "stdout",
     "output_type": "stream",
     "text": [
      "Sat Jul 16 19:42:41 2022 Fold 0 Epoch 13, lr: 0.0003395, train loss: 0.1740, valid loss: 0.1344, acc: 0.9653.\n",
      "acc increased (0.957520 --> 0.965332).  Saving model ...\n",
      "Sat Jul 16 19:42:41 2022 Epoch: 14\n"
     ]
    },
    {
     "data": {
      "application/vnd.jupyter.widget-view+json": {
       "model_id": "986990e02eb743208f25564674e8e4c3",
       "version_major": 2,
       "version_minor": 0
      },
      "text/plain": [
       "  0%|          | 0/512 [00:00<?, ?it/s]"
      ]
     },
     "metadata": {},
     "output_type": "display_data"
    },
    {
     "data": {
      "application/vnd.jupyter.widget-view+json": {
       "model_id": "74daa75a1e134467a66eea437247ac78",
       "version_major": 2,
       "version_minor": 0
      },
      "text/plain": [
       "  0%|          | 0/256 [00:00<?, ?it/s]"
      ]
     },
     "metadata": {},
     "output_type": "display_data"
    },
    {
     "name": "stdout",
     "output_type": "stream",
     "text": [
      "Sat Jul 16 19:44:17 2022 Fold 0 Epoch 14, lr: 0.0002692, train loss: 0.1491, valid loss: 0.1059, acc: 0.9736.\n",
      "acc increased (0.965332 --> 0.973633).  Saving model ...\n",
      "Sat Jul 16 19:44:17 2022 Epoch: 15\n"
     ]
    },
    {
     "data": {
      "application/vnd.jupyter.widget-view+json": {
       "model_id": "8fd04dafa4a94e0788a55d190b48ee81",
       "version_major": 2,
       "version_minor": 0
      },
      "text/plain": [
       "  0%|          | 0/512 [00:00<?, ?it/s]"
      ]
     },
     "metadata": {},
     "output_type": "display_data"
    },
    {
     "data": {
      "application/vnd.jupyter.widget-view+json": {
       "model_id": "2dbe74ef3c8e4bf3b62561d5b2aa9553",
       "version_major": 2,
       "version_minor": 0
      },
      "text/plain": [
       "  0%|          | 0/256 [00:00<?, ?it/s]"
      ]
     },
     "metadata": {},
     "output_type": "display_data"
    },
    {
     "name": "stdout",
     "output_type": "stream",
     "text": [
      "Sat Jul 16 19:45:52 2022 Fold 0 Epoch 15, lr: 0.0002039, train loss: 0.1249, valid loss: 0.0982, acc: 0.9761.\n",
      "acc increased (0.973633 --> 0.976074).  Saving model ...\n",
      "Sat Jul 16 19:45:52 2022 Epoch: 16\n"
     ]
    },
    {
     "data": {
      "application/vnd.jupyter.widget-view+json": {
       "model_id": "26aaab7440204fd9b52f4c28a63faa8d",
       "version_major": 2,
       "version_minor": 0
      },
      "text/plain": [
       "  0%|          | 0/512 [00:00<?, ?it/s]"
      ]
     },
     "metadata": {},
     "output_type": "display_data"
    },
    {
     "data": {
      "application/vnd.jupyter.widget-view+json": {
       "model_id": "da46fd82b14a4324b1d8ae9054b4d1a6",
       "version_major": 2,
       "version_minor": 0
      },
      "text/plain": [
       "  0%|          | 0/256 [00:00<?, ?it/s]"
      ]
     },
     "metadata": {},
     "output_type": "display_data"
    },
    {
     "name": "stdout",
     "output_type": "stream",
     "text": [
      "Sat Jul 16 19:47:27 2022 Fold 0 Epoch 16, lr: 0.0001452, train loss: 0.1164, valid loss: 0.0930, acc: 0.9775.\n",
      "acc increased (0.976074 --> 0.977539).  Saving model ...\n",
      "Sat Jul 16 19:47:28 2022 Epoch: 17\n"
     ]
    },
    {
     "data": {
      "application/vnd.jupyter.widget-view+json": {
       "model_id": "c7025e7908f14a8db6aa3d021b8ca3ef",
       "version_major": 2,
       "version_minor": 0
      },
      "text/plain": [
       "  0%|          | 0/512 [00:00<?, ?it/s]"
      ]
     },
     "metadata": {},
     "output_type": "display_data"
    },
    {
     "data": {
      "application/vnd.jupyter.widget-view+json": {
       "model_id": "2709b34c4a7f4b06b4b6f2903ef95423",
       "version_major": 2,
       "version_minor": 0
      },
      "text/plain": [
       "  0%|          | 0/256 [00:00<?, ?it/s]"
      ]
     },
     "metadata": {},
     "output_type": "display_data"
    },
    {
     "name": "stdout",
     "output_type": "stream",
     "text": [
      "Sat Jul 16 19:49:02 2022 Fold 0 Epoch 17, lr: 0.0000949, train loss: 0.1075, valid loss: 0.0780, acc: 0.9805.\n",
      "acc increased (0.977539 --> 0.980469).  Saving model ...\n",
      "Sat Jul 16 19:49:03 2022 Epoch: 18\n"
     ]
    },
    {
     "data": {
      "application/vnd.jupyter.widget-view+json": {
       "model_id": "a2a749bd41bc4569aa2738e667541907",
       "version_major": 2,
       "version_minor": 0
      },
      "text/plain": [
       "  0%|          | 0/512 [00:00<?, ?it/s]"
      ]
     },
     "metadata": {},
     "output_type": "display_data"
    },
    {
     "data": {
      "application/vnd.jupyter.widget-view+json": {
       "model_id": "0018b9a5fcac4a1db58021db50882670",
       "version_major": 2,
       "version_minor": 0
      },
      "text/plain": [
       "  0%|          | 0/256 [00:00<?, ?it/s]"
      ]
     },
     "metadata": {},
     "output_type": "display_data"
    },
    {
     "name": "stdout",
     "output_type": "stream",
     "text": [
      "Sat Jul 16 19:50:37 2022 Fold 0 Epoch 18, lr: 0.0000542, train loss: 0.0768, valid loss: 0.0776, acc: 0.9800.\n",
      "Sat Jul 16 19:50:37 2022 Epoch: 19\n"
     ]
    },
    {
     "data": {
      "application/vnd.jupyter.widget-view+json": {
       "model_id": "5836ee0c4032477ebc9892a3c31f8103",
       "version_major": 2,
       "version_minor": 0
      },
      "text/plain": [
       "  0%|          | 0/512 [00:00<?, ?it/s]"
      ]
     },
     "metadata": {},
     "output_type": "display_data"
    },
    {
     "data": {
      "application/vnd.jupyter.widget-view+json": {
       "model_id": "4d72d7adae08462ba9fd1e11d6c58a78",
       "version_major": 2,
       "version_minor": 0
      },
      "text/plain": [
       "  0%|          | 0/256 [00:00<?, ?it/s]"
      ]
     },
     "metadata": {},
     "output_type": "display_data"
    },
    {
     "name": "stdout",
     "output_type": "stream",
     "text": [
      "Sat Jul 16 19:52:11 2022 Fold 0 Epoch 19, lr: 0.0000244, train loss: 0.0829, valid loss: 0.0703, acc: 0.9829.\n",
      "acc increased (0.980469 --> 0.982910).  Saving model ...\n",
      "Sat Jul 16 19:52:11 2022 Epoch: 20\n"
     ]
    },
    {
     "data": {
      "application/vnd.jupyter.widget-view+json": {
       "model_id": "ded03dabe7754533a16d8907bb5c768c",
       "version_major": 2,
       "version_minor": 0
      },
      "text/plain": [
       "  0%|          | 0/512 [00:00<?, ?it/s]"
      ]
     },
     "metadata": {},
     "output_type": "display_data"
    },
    {
     "data": {
      "application/vnd.jupyter.widget-view+json": {
       "model_id": "79ea77db5e644830a3a0901b0ff0c199",
       "version_major": 2,
       "version_minor": 0
      },
      "text/plain": [
       "  0%|          | 0/256 [00:00<?, ?it/s]"
      ]
     },
     "metadata": {},
     "output_type": "display_data"
    },
    {
     "name": "stdout",
     "output_type": "stream",
     "text": [
      "Sat Jul 16 19:53:47 2022 Fold 0 Epoch 20, lr: 0.0000061, train loss: 0.0767, valid loss: 0.0748, acc: 0.9805.\n"
     ]
    },
    {
     "data": {
      "application/vnd.jupyter.widget-view+json": {
       "model_id": "df8398731a784b4189f5c39722d9319f",
       "version_major": 2,
       "version_minor": 0
      },
      "text/plain": [
       "  0%|          | 0/256 [00:00<?, ?it/s]"
      ]
     },
     "metadata": {},
     "output_type": "display_data"
    },
    {
     "name": "stdout",
     "output_type": "stream",
     "text": [
      "test loss 0.09116637926475946 score 0.9794821690278456\n"
     ]
    }
   ],
   "source": [
    "part_2 = model.part_2_cnn('tf_efficientnet_b1_ns')\n",
    "part_2.train_test_img_transformation()\n",
    "part_2.load_data()\n",
    "part_2.build_model()"
   ]
  },
  {
   "cell_type": "code",
   "execution_count": 4,
   "id": "fff5d8f5-fd10-4318-a210-df25156ddba1",
   "metadata": {},
   "outputs": [
    {
     "name": "stderr",
     "output_type": "stream",
     "text": [
      "Downloading: \"https://github.com/rwightman/pytorch-image-models/releases/download/v0.1-weights/tf_efficientnet_b4_ns-d6313a46.pth\" to /home/arbili/.cache/torch/hub/checkpoints/tf_efficientnet_b4_ns-d6313a46.pth\n"
     ]
    },
    {
     "name": "stdout",
     "output_type": "stream",
     "text": [
      "Sat Jul 16 19:54:07 2022 Epoch: 1\n"
     ]
    },
    {
     "data": {
      "application/vnd.jupyter.widget-view+json": {
       "model_id": "b975979ab6bc4ace85c89a9d18c62420",
       "version_major": 2,
       "version_minor": 0
      },
      "text/plain": [
       "  0%|          | 0/512 [00:00<?, ?it/s]"
      ]
     },
     "metadata": {},
     "output_type": "display_data"
    },
    {
     "data": {
      "application/vnd.jupyter.widget-view+json": {
       "model_id": "ec13f2c6d9aa4bfea43f783ab51ecb20",
       "version_major": 2,
       "version_minor": 0
      },
      "text/plain": [
       "  0%|          | 0/256 [00:00<?, ?it/s]"
      ]
     },
     "metadata": {},
     "output_type": "display_data"
    },
    {
     "name": "stdout",
     "output_type": "stream",
     "text": [
      "Sat Jul 16 19:56:37 2022 Fold 0 Epoch 1, lr: 0.0003000, train loss: 1.7562, valid loss: 0.4382, acc: 0.8887.\n",
      "acc increased (0.000000 --> 0.888672).  Saving model ...\n",
      "Sat Jul 16 19:56:38 2022 Epoch: 2\n"
     ]
    },
    {
     "data": {
      "application/vnd.jupyter.widget-view+json": {
       "model_id": "9b13edf5535a486d8cedd17c72f2769f",
       "version_major": 2,
       "version_minor": 0
      },
      "text/plain": [
       "  0%|          | 0/512 [00:00<?, ?it/s]"
      ]
     },
     "metadata": {},
     "output_type": "display_data"
    },
    {
     "data": {
      "application/vnd.jupyter.widget-view+json": {
       "model_id": "59f614a0be194c95974dd13ee8b19122",
       "version_major": 2,
       "version_minor": 0
      },
      "text/plain": [
       "  0%|          | 0/256 [00:00<?, ?it/s]"
      ]
     },
     "metadata": {},
     "output_type": "display_data"
    },
    {
     "name": "stdout",
     "output_type": "stream",
     "text": [
      "Sat Jul 16 19:59:08 2022 Fold 0 Epoch 2, lr: 0.0009000, train loss: 1.4409, valid loss: 0.8303, acc: 0.7852.\n",
      "Sat Jul 16 19:59:08 2022 Epoch: 3\n"
     ]
    },
    {
     "data": {
      "application/vnd.jupyter.widget-view+json": {
       "model_id": "d0a6eacd1f544151a5f210868c1b204d",
       "version_major": 2,
       "version_minor": 0
      },
      "text/plain": [
       "  0%|          | 0/512 [00:00<?, ?it/s]"
      ]
     },
     "metadata": {},
     "output_type": "display_data"
    },
    {
     "data": {
      "application/vnd.jupyter.widget-view+json": {
       "model_id": "b6e5d07794c04759a438c4c7dfe70919",
       "version_major": 2,
       "version_minor": 0
      },
      "text/plain": [
       "  0%|          | 0/256 [00:00<?, ?it/s]"
      ]
     },
     "metadata": {},
     "output_type": "display_data"
    },
    {
     "name": "stdout",
     "output_type": "stream",
     "text": [
      "Sat Jul 16 20:01:38 2022 Fold 0 Epoch 3, lr: 0.0009000, train loss: 0.8806, valid loss: 1.6738, acc: 0.7939.\n",
      "Sat Jul 16 20:01:38 2022 Epoch: 4\n"
     ]
    },
    {
     "data": {
      "application/vnd.jupyter.widget-view+json": {
       "model_id": "862cc3c368f845d89aa3424676333a65",
       "version_major": 2,
       "version_minor": 0
      },
      "text/plain": [
       "  0%|          | 0/512 [00:00<?, ?it/s]"
      ]
     },
     "metadata": {},
     "output_type": "display_data"
    },
    {
     "data": {
      "application/vnd.jupyter.widget-view+json": {
       "model_id": "1b840bb4a3024576a93b82b211cc4afb",
       "version_major": 2,
       "version_minor": 0
      },
      "text/plain": [
       "  0%|          | 0/256 [00:00<?, ?it/s]"
      ]
     },
     "metadata": {},
     "output_type": "display_data"
    },
    {
     "name": "stdout",
     "output_type": "stream",
     "text": [
      "Sat Jul 16 20:04:08 2022 Fold 0 Epoch 4, lr: 0.0008756, train loss: 0.7415, valid loss: 2.0783, acc: 0.8052.\n",
      "Sat Jul 16 20:04:08 2022 Epoch: 5\n"
     ]
    },
    {
     "data": {
      "application/vnd.jupyter.widget-view+json": {
       "model_id": "f2d5f03361d04d63bb04d439c96954f6",
       "version_major": 2,
       "version_minor": 0
      },
      "text/plain": [
       "  0%|          | 0/512 [00:00<?, ?it/s]"
      ]
     },
     "metadata": {},
     "output_type": "display_data"
    },
    {
     "data": {
      "application/vnd.jupyter.widget-view+json": {
       "model_id": "7f503e8bf3244897adebec754098ac15",
       "version_major": 2,
       "version_minor": 0
      },
      "text/plain": [
       "  0%|          | 0/256 [00:00<?, ?it/s]"
      ]
     },
     "metadata": {},
     "output_type": "display_data"
    },
    {
     "name": "stdout",
     "output_type": "stream",
     "text": [
      "Sat Jul 16 20:06:39 2022 Fold 0 Epoch 5, lr: 0.0008458, train loss: 0.6319, valid loss: 0.6316, acc: 0.8584.\n",
      "Sat Jul 16 20:06:39 2022 Epoch: 6\n"
     ]
    },
    {
     "data": {
      "application/vnd.jupyter.widget-view+json": {
       "model_id": "a22e799603374712aea2a7a94d64c782",
       "version_major": 2,
       "version_minor": 0
      },
      "text/plain": [
       "  0%|          | 0/512 [00:00<?, ?it/s]"
      ]
     },
     "metadata": {},
     "output_type": "display_data"
    },
    {
     "data": {
      "application/vnd.jupyter.widget-view+json": {
       "model_id": "b16fe1a178b14119ab43c5fd876bb6d7",
       "version_major": 2,
       "version_minor": 0
      },
      "text/plain": [
       "  0%|          | 0/256 [00:00<?, ?it/s]"
      ]
     },
     "metadata": {},
     "output_type": "display_data"
    },
    {
     "name": "stdout",
     "output_type": "stream",
     "text": [
      "Sat Jul 16 20:09:09 2022 Fold 0 Epoch 6, lr: 0.0008051, train loss: 0.5240, valid loss: 0.6616, acc: 0.8540.\n",
      "Sat Jul 16 20:09:09 2022 Epoch: 7\n"
     ]
    },
    {
     "data": {
      "application/vnd.jupyter.widget-view+json": {
       "model_id": "406e209d1dd24e118d7083de0533018d",
       "version_major": 2,
       "version_minor": 0
      },
      "text/plain": [
       "  0%|          | 0/512 [00:00<?, ?it/s]"
      ]
     },
     "metadata": {},
     "output_type": "display_data"
    },
    {
     "data": {
      "application/vnd.jupyter.widget-view+json": {
       "model_id": "c57e981ef22a4ae8bff5148dca7ba25f",
       "version_major": 2,
       "version_minor": 0
      },
      "text/plain": [
       "  0%|          | 0/256 [00:00<?, ?it/s]"
      ]
     },
     "metadata": {},
     "output_type": "display_data"
    },
    {
     "name": "stdout",
     "output_type": "stream",
     "text": [
      "Sat Jul 16 20:11:39 2022 Fold 0 Epoch 7, lr: 0.0007548, train loss: 0.5009, valid loss: 0.3823, acc: 0.9072.\n",
      "acc increased (0.888672 --> 0.907227).  Saving model ...\n",
      "Sat Jul 16 20:11:40 2022 Epoch: 8\n"
     ]
    },
    {
     "data": {
      "application/vnd.jupyter.widget-view+json": {
       "model_id": "c30d41aeb06444408eb0fb968b334e3d",
       "version_major": 2,
       "version_minor": 0
      },
      "text/plain": [
       "  0%|          | 0/512 [00:00<?, ?it/s]"
      ]
     },
     "metadata": {},
     "output_type": "display_data"
    },
    {
     "data": {
      "application/vnd.jupyter.widget-view+json": {
       "model_id": "ccf413cfa4ab42c2bdc54ec8590e25c3",
       "version_major": 2,
       "version_minor": 0
      },
      "text/plain": [
       "  0%|          | 0/256 [00:00<?, ?it/s]"
      ]
     },
     "metadata": {},
     "output_type": "display_data"
    },
    {
     "name": "stdout",
     "output_type": "stream",
     "text": [
      "Sat Jul 16 20:14:11 2022 Fold 0 Epoch 8, lr: 0.0006961, train loss: 0.3863, valid loss: 0.3696, acc: 0.9014.\n",
      "Sat Jul 16 20:14:11 2022 Epoch: 9\n"
     ]
    },
    {
     "data": {
      "application/vnd.jupyter.widget-view+json": {
       "model_id": "7ee2f6bdc80043faaa080019268e78e7",
       "version_major": 2,
       "version_minor": 0
      },
      "text/plain": [
       "  0%|          | 0/512 [00:00<?, ?it/s]"
      ]
     },
     "metadata": {},
     "output_type": "display_data"
    },
    {
     "data": {
      "application/vnd.jupyter.widget-view+json": {
       "model_id": "f2c585b8b780430d8918de365af5b699",
       "version_major": 2,
       "version_minor": 0
      },
      "text/plain": [
       "  0%|          | 0/256 [00:00<?, ?it/s]"
      ]
     },
     "metadata": {},
     "output_type": "display_data"
    },
    {
     "name": "stdout",
     "output_type": "stream",
     "text": [
      "Sat Jul 16 20:16:41 2022 Fold 0 Epoch 9, lr: 0.0006308, train loss: 0.3458, valid loss: 0.4632, acc: 0.8916.\n",
      "Sat Jul 16 20:16:41 2022 Epoch: 10\n"
     ]
    },
    {
     "data": {
      "application/vnd.jupyter.widget-view+json": {
       "model_id": "f787486003724522bb28b56555786be1",
       "version_major": 2,
       "version_minor": 0
      },
      "text/plain": [
       "  0%|          | 0/512 [00:00<?, ?it/s]"
      ]
     },
     "metadata": {},
     "output_type": "display_data"
    },
    {
     "data": {
      "application/vnd.jupyter.widget-view+json": {
       "model_id": "993e5020e45240a8b218f59b71c21b8b",
       "version_major": 2,
       "version_minor": 0
      },
      "text/plain": [
       "  0%|          | 0/256 [00:00<?, ?it/s]"
      ]
     },
     "metadata": {},
     "output_type": "display_data"
    },
    {
     "name": "stdout",
     "output_type": "stream",
     "text": [
      "Sat Jul 16 20:19:12 2022 Fold 0 Epoch 10, lr: 0.0005605, train loss: 0.3178, valid loss: 0.5063, acc: 0.9067.\n",
      "Sat Jul 16 20:19:12 2022 Epoch: 11\n"
     ]
    },
    {
     "data": {
      "application/vnd.jupyter.widget-view+json": {
       "model_id": "ea194b5ee58e4cd48273f7c53ddf1a41",
       "version_major": 2,
       "version_minor": 0
      },
      "text/plain": [
       "  0%|          | 0/512 [00:00<?, ?it/s]"
      ]
     },
     "metadata": {},
     "output_type": "display_data"
    },
    {
     "data": {
      "application/vnd.jupyter.widget-view+json": {
       "model_id": "2083f81af50440bcb7465db342e4474d",
       "version_major": 2,
       "version_minor": 0
      },
      "text/plain": [
       "  0%|          | 0/256 [00:00<?, ?it/s]"
      ]
     },
     "metadata": {},
     "output_type": "display_data"
    },
    {
     "name": "stdout",
     "output_type": "stream",
     "text": [
      "Sat Jul 16 20:21:41 2022 Fold 0 Epoch 11, lr: 0.0004872, train loss: 0.2399, valid loss: 0.2851, acc: 0.9321.\n",
      "acc increased (0.907227 --> 0.932129).  Saving model ...\n",
      "Sat Jul 16 20:21:42 2022 Epoch: 12\n"
     ]
    },
    {
     "data": {
      "application/vnd.jupyter.widget-view+json": {
       "model_id": "cc964f2b10f84bee83e2ec4991d0d8a2",
       "version_major": 2,
       "version_minor": 0
      },
      "text/plain": [
       "  0%|          | 0/512 [00:00<?, ?it/s]"
      ]
     },
     "metadata": {},
     "output_type": "display_data"
    },
    {
     "data": {
      "application/vnd.jupyter.widget-view+json": {
       "model_id": "9200359ea6674d428be9da2832f35cbe",
       "version_major": 2,
       "version_minor": 0
      },
      "text/plain": [
       "  0%|          | 0/256 [00:00<?, ?it/s]"
      ]
     },
     "metadata": {},
     "output_type": "display_data"
    },
    {
     "name": "stdout",
     "output_type": "stream",
     "text": [
      "Sat Jul 16 20:24:13 2022 Fold 0 Epoch 12, lr: 0.0004128, train loss: 0.2155, valid loss: 0.3171, acc: 0.9297.\n",
      "Sat Jul 16 20:24:13 2022 Epoch: 13\n"
     ]
    },
    {
     "data": {
      "application/vnd.jupyter.widget-view+json": {
       "model_id": "6d200f9b45e04365b2046f90331d9db7",
       "version_major": 2,
       "version_minor": 0
      },
      "text/plain": [
       "  0%|          | 0/512 [00:00<?, ?it/s]"
      ]
     },
     "metadata": {},
     "output_type": "display_data"
    },
    {
     "data": {
      "application/vnd.jupyter.widget-view+json": {
       "model_id": "b75c8192c13749bebacc6b4da1cce57d",
       "version_major": 2,
       "version_minor": 0
      },
      "text/plain": [
       "  0%|          | 0/256 [00:00<?, ?it/s]"
      ]
     },
     "metadata": {},
     "output_type": "display_data"
    },
    {
     "name": "stdout",
     "output_type": "stream",
     "text": [
      "Sat Jul 16 20:26:43 2022 Fold 0 Epoch 13, lr: 0.0003395, train loss: 0.1945, valid loss: 0.1649, acc: 0.9541.\n",
      "acc increased (0.932129 --> 0.954102).  Saving model ...\n",
      "Sat Jul 16 20:26:44 2022 Epoch: 14\n"
     ]
    },
    {
     "data": {
      "application/vnd.jupyter.widget-view+json": {
       "model_id": "1ff3cde07b2e41a1b8d55182a7d39d4e",
       "version_major": 2,
       "version_minor": 0
      },
      "text/plain": [
       "  0%|          | 0/512 [00:00<?, ?it/s]"
      ]
     },
     "metadata": {},
     "output_type": "display_data"
    },
    {
     "data": {
      "application/vnd.jupyter.widget-view+json": {
       "model_id": "e29ba2d048e7464db955cca1c3bd4ae4",
       "version_major": 2,
       "version_minor": 0
      },
      "text/plain": [
       "  0%|          | 0/256 [00:00<?, ?it/s]"
      ]
     },
     "metadata": {},
     "output_type": "display_data"
    },
    {
     "name": "stdout",
     "output_type": "stream",
     "text": [
      "Sat Jul 16 20:29:14 2022 Fold 0 Epoch 14, lr: 0.0002692, train loss: 0.1527, valid loss: 0.2156, acc: 0.9463.\n",
      "Sat Jul 16 20:29:14 2022 Epoch: 15\n"
     ]
    },
    {
     "data": {
      "application/vnd.jupyter.widget-view+json": {
       "model_id": "13633592fd1545188f5a2310878d19c3",
       "version_major": 2,
       "version_minor": 0
      },
      "text/plain": [
       "  0%|          | 0/512 [00:00<?, ?it/s]"
      ]
     },
     "metadata": {},
     "output_type": "display_data"
    },
    {
     "data": {
      "application/vnd.jupyter.widget-view+json": {
       "model_id": "b524bfee06484acc8348864ba5f8c8ea",
       "version_major": 2,
       "version_minor": 0
      },
      "text/plain": [
       "  0%|          | 0/256 [00:00<?, ?it/s]"
      ]
     },
     "metadata": {},
     "output_type": "display_data"
    },
    {
     "name": "stdout",
     "output_type": "stream",
     "text": [
      "Sat Jul 16 20:31:45 2022 Fold 0 Epoch 15, lr: 0.0002039, train loss: 0.1622, valid loss: 0.2382, acc: 0.9512.\n",
      "Sat Jul 16 20:31:45 2022 Epoch: 16\n"
     ]
    },
    {
     "data": {
      "application/vnd.jupyter.widget-view+json": {
       "model_id": "56d65b1035914d0da661643ffc5a5991",
       "version_major": 2,
       "version_minor": 0
      },
      "text/plain": [
       "  0%|          | 0/512 [00:00<?, ?it/s]"
      ]
     },
     "metadata": {},
     "output_type": "display_data"
    },
    {
     "data": {
      "application/vnd.jupyter.widget-view+json": {
       "model_id": "0d08cf398f5e4aa89a99f76ce447285c",
       "version_major": 2,
       "version_minor": 0
      },
      "text/plain": [
       "  0%|          | 0/256 [00:00<?, ?it/s]"
      ]
     },
     "metadata": {},
     "output_type": "display_data"
    },
    {
     "name": "stdout",
     "output_type": "stream",
     "text": [
      "Sat Jul 16 20:34:16 2022 Fold 0 Epoch 16, lr: 0.0001452, train loss: 0.1307, valid loss: 0.2721, acc: 0.9458.\n",
      "Sat Jul 16 20:34:16 2022 Epoch: 17\n"
     ]
    },
    {
     "data": {
      "application/vnd.jupyter.widget-view+json": {
       "model_id": "56cd4e4be68f4fdda3dee65f15384b7d",
       "version_major": 2,
       "version_minor": 0
      },
      "text/plain": [
       "  0%|          | 0/512 [00:00<?, ?it/s]"
      ]
     },
     "metadata": {},
     "output_type": "display_data"
    },
    {
     "data": {
      "application/vnd.jupyter.widget-view+json": {
       "model_id": "54a3ef2a2d274c77a8ef6f0cfd566752",
       "version_major": 2,
       "version_minor": 0
      },
      "text/plain": [
       "  0%|          | 0/256 [00:00<?, ?it/s]"
      ]
     },
     "metadata": {},
     "output_type": "display_data"
    },
    {
     "name": "stdout",
     "output_type": "stream",
     "text": [
      "Sat Jul 16 20:36:47 2022 Fold 0 Epoch 17, lr: 0.0000949, train loss: 0.1017, valid loss: 0.1896, acc: 0.9580.\n",
      "acc increased (0.954102 --> 0.958008).  Saving model ...\n",
      "Sat Jul 16 20:36:48 2022 Epoch: 18\n"
     ]
    },
    {
     "data": {
      "application/vnd.jupyter.widget-view+json": {
       "model_id": "2706ecafa9f7437b8072bc66cb4a3a88",
       "version_major": 2,
       "version_minor": 0
      },
      "text/plain": [
       "  0%|          | 0/512 [00:00<?, ?it/s]"
      ]
     },
     "metadata": {},
     "output_type": "display_data"
    },
    {
     "data": {
      "application/vnd.jupyter.widget-view+json": {
       "model_id": "90735cef456b4054b28cdc6e5189d5d9",
       "version_major": 2,
       "version_minor": 0
      },
      "text/plain": [
       "  0%|          | 0/256 [00:00<?, ?it/s]"
      ]
     },
     "metadata": {},
     "output_type": "display_data"
    },
    {
     "name": "stdout",
     "output_type": "stream",
     "text": [
      "Sat Jul 16 20:39:18 2022 Fold 0 Epoch 18, lr: 0.0000542, train loss: 0.0972, valid loss: 0.1886, acc: 0.9570.\n",
      "Sat Jul 16 20:39:18 2022 Epoch: 19\n"
     ]
    },
    {
     "data": {
      "application/vnd.jupyter.widget-view+json": {
       "model_id": "5a5a418ae5af4c1db1b381ed68caed20",
       "version_major": 2,
       "version_minor": 0
      },
      "text/plain": [
       "  0%|          | 0/512 [00:00<?, ?it/s]"
      ]
     },
     "metadata": {},
     "output_type": "display_data"
    },
    {
     "data": {
      "application/vnd.jupyter.widget-view+json": {
       "model_id": "96d39103c224456a86036ae503572e53",
       "version_major": 2,
       "version_minor": 0
      },
      "text/plain": [
       "  0%|          | 0/256 [00:00<?, ?it/s]"
      ]
     },
     "metadata": {},
     "output_type": "display_data"
    },
    {
     "name": "stdout",
     "output_type": "stream",
     "text": [
      "Sat Jul 16 20:41:49 2022 Fold 0 Epoch 19, lr: 0.0000244, train loss: 0.1020, valid loss: 0.1583, acc: 0.9624.\n",
      "acc increased (0.958008 --> 0.962402).  Saving model ...\n",
      "Sat Jul 16 20:41:50 2022 Epoch: 20\n"
     ]
    },
    {
     "data": {
      "application/vnd.jupyter.widget-view+json": {
       "model_id": "f81a8612a84643c986dbef2d8d47e4cc",
       "version_major": 2,
       "version_minor": 0
      },
      "text/plain": [
       "  0%|          | 0/512 [00:00<?, ?it/s]"
      ]
     },
     "metadata": {},
     "output_type": "display_data"
    },
    {
     "data": {
      "application/vnd.jupyter.widget-view+json": {
       "model_id": "2d2801ab642140c687154f72891ca2e4",
       "version_major": 2,
       "version_minor": 0
      },
      "text/plain": [
       "  0%|          | 0/256 [00:00<?, ?it/s]"
      ]
     },
     "metadata": {},
     "output_type": "display_data"
    },
    {
     "name": "stdout",
     "output_type": "stream",
     "text": [
      "Sat Jul 16 20:44:22 2022 Fold 0 Epoch 20, lr: 0.0000061, train loss: 0.0799, valid loss: 0.2465, acc: 0.9536.\n"
     ]
    },
    {
     "data": {
      "application/vnd.jupyter.widget-view+json": {
       "model_id": "5cf0f3dbd4e349fd92cb446febdb4ffb",
       "version_major": 2,
       "version_minor": 0
      },
      "text/plain": [
       "  0%|          | 0/256 [00:00<?, ?it/s]"
      ]
     },
     "metadata": {},
     "output_type": "display_data"
    },
    {
     "name": "stdout",
     "output_type": "stream",
     "text": [
      "test loss 0.13849450354565196 score 0.9697117733268197\n"
     ]
    }
   ],
   "source": [
    "part_2 = model.part_2_cnn('tf_efficientnet_b4_ns')\n",
    "part_2.train_test_img_transformation()\n",
    "part_2.load_data()\n",
    "part_2.build_model()"
   ]
  },
  {
   "cell_type": "code",
   "execution_count": 5,
   "id": "841c0179-9d59-4a33-a8ee-7490fbd54837",
   "metadata": {},
   "outputs": [
    {
     "name": "stdout",
     "output_type": "stream",
     "text": [
      "Sat Jul 16 20:44:34 2022 Epoch: 1\n"
     ]
    },
    {
     "data": {
      "application/vnd.jupyter.widget-view+json": {
       "model_id": "6f41db193c3d401fb0f0be114a93959f",
       "version_major": 2,
       "version_minor": 0
      },
      "text/plain": [
       "  0%|          | 0/512 [00:00<?, ?it/s]"
      ]
     },
     "metadata": {},
     "output_type": "display_data"
    },
    {
     "data": {
      "application/vnd.jupyter.widget-view+json": {
       "model_id": "bbc49c12c11b4ff0ba04b86f0e8d3611",
       "version_major": 2,
       "version_minor": 0
      },
      "text/plain": [
       "  0%|          | 0/256 [00:00<?, ?it/s]"
      ]
     },
     "metadata": {},
     "output_type": "display_data"
    },
    {
     "name": "stdout",
     "output_type": "stream",
     "text": [
      "Sat Jul 16 20:46:29 2022 Fold 0 Epoch 1, lr: 0.0003000, train loss: 1.9166, valid loss: 0.3866, acc: 0.8999.\n",
      "acc increased (0.000000 --> 0.899902).  Saving model ...\n",
      "Sat Jul 16 20:46:29 2022 Epoch: 2\n"
     ]
    },
    {
     "data": {
      "application/vnd.jupyter.widget-view+json": {
       "model_id": "029c703765a84606b31c8ae2c7c5d18c",
       "version_major": 2,
       "version_minor": 0
      },
      "text/plain": [
       "  0%|          | 0/512 [00:00<?, ?it/s]"
      ]
     },
     "metadata": {},
     "output_type": "display_data"
    },
    {
     "data": {
      "application/vnd.jupyter.widget-view+json": {
       "model_id": "1fb06cb965a54e58931d4da835a1e8d0",
       "version_major": 2,
       "version_minor": 0
      },
      "text/plain": [
       "  0%|          | 0/256 [00:00<?, ?it/s]"
      ]
     },
     "metadata": {},
     "output_type": "display_data"
    },
    {
     "name": "stdout",
     "output_type": "stream",
     "text": [
      "Sat Jul 16 20:48:24 2022 Fold 0 Epoch 2, lr: 0.0009000, train loss: 1.1005, valid loss: 0.6580, acc: 0.8203.\n",
      "Sat Jul 16 20:48:24 2022 Epoch: 3\n"
     ]
    },
    {
     "data": {
      "application/vnd.jupyter.widget-view+json": {
       "model_id": "1e2008cc2b174b4c9dae8c7b1ace340e",
       "version_major": 2,
       "version_minor": 0
      },
      "text/plain": [
       "  0%|          | 0/512 [00:00<?, ?it/s]"
      ]
     },
     "metadata": {},
     "output_type": "display_data"
    },
    {
     "data": {
      "application/vnd.jupyter.widget-view+json": {
       "model_id": "870cedd3f8cf4a208a9231a8cb35d4ef",
       "version_major": 2,
       "version_minor": 0
      },
      "text/plain": [
       "  0%|          | 0/256 [00:00<?, ?it/s]"
      ]
     },
     "metadata": {},
     "output_type": "display_data"
    },
    {
     "name": "stdout",
     "output_type": "stream",
     "text": [
      "Sat Jul 16 20:50:18 2022 Fold 0 Epoch 3, lr: 0.0009000, train loss: 0.6791, valid loss: 0.5027, acc: 0.8838.\n",
      "Sat Jul 16 20:50:18 2022 Epoch: 4\n"
     ]
    },
    {
     "data": {
      "application/vnd.jupyter.widget-view+json": {
       "model_id": "6774d1494fac43c6937a00e2aff76b77",
       "version_major": 2,
       "version_minor": 0
      },
      "text/plain": [
       "  0%|          | 0/512 [00:00<?, ?it/s]"
      ]
     },
     "metadata": {},
     "output_type": "display_data"
    },
    {
     "data": {
      "application/vnd.jupyter.widget-view+json": {
       "model_id": "f815fbe25a384893934f03197eb36669",
       "version_major": 2,
       "version_minor": 0
      },
      "text/plain": [
       "  0%|          | 0/256 [00:00<?, ?it/s]"
      ]
     },
     "metadata": {},
     "output_type": "display_data"
    },
    {
     "name": "stdout",
     "output_type": "stream",
     "text": [
      "Sat Jul 16 20:52:13 2022 Fold 0 Epoch 4, lr: 0.0008756, train loss: 0.5328, valid loss: 0.4615, acc: 0.8813.\n",
      "Sat Jul 16 20:52:13 2022 Epoch: 5\n"
     ]
    },
    {
     "data": {
      "application/vnd.jupyter.widget-view+json": {
       "model_id": "a84f3777eba047a2a08e38a4722b30a6",
       "version_major": 2,
       "version_minor": 0
      },
      "text/plain": [
       "  0%|          | 0/512 [00:00<?, ?it/s]"
      ]
     },
     "metadata": {},
     "output_type": "display_data"
    },
    {
     "data": {
      "application/vnd.jupyter.widget-view+json": {
       "model_id": "d773801c69404a17a6cbbfa41bc69786",
       "version_major": 2,
       "version_minor": 0
      },
      "text/plain": [
       "  0%|          | 0/256 [00:00<?, ?it/s]"
      ]
     },
     "metadata": {},
     "output_type": "display_data"
    },
    {
     "name": "stdout",
     "output_type": "stream",
     "text": [
      "Sat Jul 16 20:54:07 2022 Fold 0 Epoch 5, lr: 0.0008458, train loss: 0.4498, valid loss: 0.3238, acc: 0.9058.\n",
      "acc increased (0.899902 --> 0.905762).  Saving model ...\n",
      "Sat Jul 16 20:54:08 2022 Epoch: 6\n"
     ]
    },
    {
     "data": {
      "application/vnd.jupyter.widget-view+json": {
       "model_id": "f4a24bef37a94dce88ee99603818e547",
       "version_major": 2,
       "version_minor": 0
      },
      "text/plain": [
       "  0%|          | 0/512 [00:00<?, ?it/s]"
      ]
     },
     "metadata": {},
     "output_type": "display_data"
    },
    {
     "data": {
      "application/vnd.jupyter.widget-view+json": {
       "model_id": "5567475607a94013aac713655e7c82ed",
       "version_major": 2,
       "version_minor": 0
      },
      "text/plain": [
       "  0%|          | 0/256 [00:00<?, ?it/s]"
      ]
     },
     "metadata": {},
     "output_type": "display_data"
    },
    {
     "name": "stdout",
     "output_type": "stream",
     "text": [
      "Sat Jul 16 20:56:02 2022 Fold 0 Epoch 6, lr: 0.0008051, train loss: 0.4082, valid loss: 0.5255, acc: 0.8789.\n",
      "Sat Jul 16 20:56:02 2022 Epoch: 7\n"
     ]
    },
    {
     "data": {
      "application/vnd.jupyter.widget-view+json": {
       "model_id": "007a9ecc67e54e819730e10566db080c",
       "version_major": 2,
       "version_minor": 0
      },
      "text/plain": [
       "  0%|          | 0/512 [00:00<?, ?it/s]"
      ]
     },
     "metadata": {},
     "output_type": "display_data"
    },
    {
     "data": {
      "application/vnd.jupyter.widget-view+json": {
       "model_id": "0c36661673614901bd8ca3a56f262edf",
       "version_major": 2,
       "version_minor": 0
      },
      "text/plain": [
       "  0%|          | 0/256 [00:00<?, ?it/s]"
      ]
     },
     "metadata": {},
     "output_type": "display_data"
    },
    {
     "name": "stdout",
     "output_type": "stream",
     "text": [
      "Sat Jul 16 20:57:57 2022 Fold 0 Epoch 7, lr: 0.0007548, train loss: 0.3841, valid loss: 0.3397, acc: 0.9224.\n",
      "acc increased (0.905762 --> 0.922363).  Saving model ...\n",
      "Sat Jul 16 20:57:58 2022 Epoch: 8\n"
     ]
    },
    {
     "data": {
      "application/vnd.jupyter.widget-view+json": {
       "model_id": "6ba5bc6fb461414caf5e02e4b04d03ed",
       "version_major": 2,
       "version_minor": 0
      },
      "text/plain": [
       "  0%|          | 0/512 [00:00<?, ?it/s]"
      ]
     },
     "metadata": {},
     "output_type": "display_data"
    },
    {
     "data": {
      "application/vnd.jupyter.widget-view+json": {
       "model_id": "68b3f7c488a24be29b8fbb837a5350e6",
       "version_major": 2,
       "version_minor": 0
      },
      "text/plain": [
       "  0%|          | 0/256 [00:00<?, ?it/s]"
      ]
     },
     "metadata": {},
     "output_type": "display_data"
    },
    {
     "name": "stdout",
     "output_type": "stream",
     "text": [
      "Sat Jul 16 20:59:52 2022 Fold 0 Epoch 8, lr: 0.0006961, train loss: 0.3381, valid loss: 0.5790, acc: 0.9155.\n",
      "Sat Jul 16 20:59:52 2022 Epoch: 9\n"
     ]
    },
    {
     "data": {
      "application/vnd.jupyter.widget-view+json": {
       "model_id": "9b0a8666326b4d98b5dcedf0147b1c42",
       "version_major": 2,
       "version_minor": 0
      },
      "text/plain": [
       "  0%|          | 0/512 [00:00<?, ?it/s]"
      ]
     },
     "metadata": {},
     "output_type": "display_data"
    },
    {
     "data": {
      "application/vnd.jupyter.widget-view+json": {
       "model_id": "cf91a5afadbf447387e6fbf0cc896793",
       "version_major": 2,
       "version_minor": 0
      },
      "text/plain": [
       "  0%|          | 0/256 [00:00<?, ?it/s]"
      ]
     },
     "metadata": {},
     "output_type": "display_data"
    },
    {
     "name": "stdout",
     "output_type": "stream",
     "text": [
      "Sat Jul 16 21:01:46 2022 Fold 0 Epoch 9, lr: 0.0006308, train loss: 0.2885, valid loss: 0.2546, acc: 0.9229.\n",
      "acc increased (0.922363 --> 0.922852).  Saving model ...\n",
      "Sat Jul 16 21:01:47 2022 Epoch: 10\n"
     ]
    },
    {
     "data": {
      "application/vnd.jupyter.widget-view+json": {
       "model_id": "2029b573c22b41508990e6784d3ddfab",
       "version_major": 2,
       "version_minor": 0
      },
      "text/plain": [
       "  0%|          | 0/512 [00:00<?, ?it/s]"
      ]
     },
     "metadata": {},
     "output_type": "display_data"
    },
    {
     "data": {
      "application/vnd.jupyter.widget-view+json": {
       "model_id": "a76d5a8bf2db4bb099339c39a52fdf03",
       "version_major": 2,
       "version_minor": 0
      },
      "text/plain": [
       "  0%|          | 0/256 [00:00<?, ?it/s]"
      ]
     },
     "metadata": {},
     "output_type": "display_data"
    },
    {
     "name": "stdout",
     "output_type": "stream",
     "text": [
      "Sat Jul 16 21:03:40 2022 Fold 0 Epoch 10, lr: 0.0005605, train loss: 0.2542, valid loss: 0.2638, acc: 0.9302.\n",
      "acc increased (0.922852 --> 0.930176).  Saving model ...\n",
      "Sat Jul 16 21:03:41 2022 Epoch: 11\n"
     ]
    },
    {
     "data": {
      "application/vnd.jupyter.widget-view+json": {
       "model_id": "0e27b6b7958b47dda06c0fd314e64790",
       "version_major": 2,
       "version_minor": 0
      },
      "text/plain": [
       "  0%|          | 0/512 [00:00<?, ?it/s]"
      ]
     },
     "metadata": {},
     "output_type": "display_data"
    },
    {
     "data": {
      "application/vnd.jupyter.widget-view+json": {
       "model_id": "0552d8273346422f9f6abe16c860e43c",
       "version_major": 2,
       "version_minor": 0
      },
      "text/plain": [
       "  0%|          | 0/256 [00:00<?, ?it/s]"
      ]
     },
     "metadata": {},
     "output_type": "display_data"
    },
    {
     "name": "stdout",
     "output_type": "stream",
     "text": [
      "Sat Jul 16 21:05:35 2022 Fold 0 Epoch 11, lr: 0.0004872, train loss: 0.2037, valid loss: 0.1794, acc: 0.9507.\n",
      "acc increased (0.930176 --> 0.950684).  Saving model ...\n",
      "Sat Jul 16 21:05:36 2022 Epoch: 12\n"
     ]
    },
    {
     "data": {
      "application/vnd.jupyter.widget-view+json": {
       "model_id": "adcbf191c8aa41208503f04776f08dcc",
       "version_major": 2,
       "version_minor": 0
      },
      "text/plain": [
       "  0%|          | 0/512 [00:00<?, ?it/s]"
      ]
     },
     "metadata": {},
     "output_type": "display_data"
    },
    {
     "data": {
      "application/vnd.jupyter.widget-view+json": {
       "model_id": "a71cfbd5a4e341c3b6c119deda58af09",
       "version_major": 2,
       "version_minor": 0
      },
      "text/plain": [
       "  0%|          | 0/256 [00:00<?, ?it/s]"
      ]
     },
     "metadata": {},
     "output_type": "display_data"
    },
    {
     "name": "stdout",
     "output_type": "stream",
     "text": [
      "Sat Jul 16 21:07:29 2022 Fold 0 Epoch 12, lr: 0.0004128, train loss: 0.1963, valid loss: 0.1802, acc: 0.9531.\n",
      "acc increased (0.950684 --> 0.953125).  Saving model ...\n",
      "Sat Jul 16 21:07:29 2022 Epoch: 13\n"
     ]
    },
    {
     "data": {
      "application/vnd.jupyter.widget-view+json": {
       "model_id": "a04fdae2bf8042d1a7f0e288a8ac8a30",
       "version_major": 2,
       "version_minor": 0
      },
      "text/plain": [
       "  0%|          | 0/512 [00:00<?, ?it/s]"
      ]
     },
     "metadata": {},
     "output_type": "display_data"
    },
    {
     "data": {
      "application/vnd.jupyter.widget-view+json": {
       "model_id": "8cffa4af04d5467d832a4ea8dddc1a94",
       "version_major": 2,
       "version_minor": 0
      },
      "text/plain": [
       "  0%|          | 0/256 [00:00<?, ?it/s]"
      ]
     },
     "metadata": {},
     "output_type": "display_data"
    },
    {
     "name": "stdout",
     "output_type": "stream",
     "text": [
      "Sat Jul 16 21:09:24 2022 Fold 0 Epoch 13, lr: 0.0003395, train loss: 0.1747, valid loss: 0.1724, acc: 0.9536.\n",
      "acc increased (0.953125 --> 0.953613).  Saving model ...\n",
      "Sat Jul 16 21:09:24 2022 Epoch: 14\n"
     ]
    },
    {
     "data": {
      "application/vnd.jupyter.widget-view+json": {
       "model_id": "0de81877a9c449dc8c4b4dd0d1f36390",
       "version_major": 2,
       "version_minor": 0
      },
      "text/plain": [
       "  0%|          | 0/512 [00:00<?, ?it/s]"
      ]
     },
     "metadata": {},
     "output_type": "display_data"
    },
    {
     "data": {
      "application/vnd.jupyter.widget-view+json": {
       "model_id": "0884f6fa442042b38815ab259229c49d",
       "version_major": 2,
       "version_minor": 0
      },
      "text/plain": [
       "  0%|          | 0/256 [00:00<?, ?it/s]"
      ]
     },
     "metadata": {},
     "output_type": "display_data"
    },
    {
     "name": "stdout",
     "output_type": "stream",
     "text": [
      "Sat Jul 16 21:11:18 2022 Fold 0 Epoch 14, lr: 0.0002692, train loss: 0.1210, valid loss: 0.1438, acc: 0.9609.\n",
      "acc increased (0.953613 --> 0.960938).  Saving model ...\n",
      "Sat Jul 16 21:11:19 2022 Epoch: 15\n"
     ]
    },
    {
     "data": {
      "application/vnd.jupyter.widget-view+json": {
       "model_id": "3aae3c2c7ede412180cbf3e9147ffb51",
       "version_major": 2,
       "version_minor": 0
      },
      "text/plain": [
       "  0%|          | 0/512 [00:00<?, ?it/s]"
      ]
     },
     "metadata": {},
     "output_type": "display_data"
    },
    {
     "data": {
      "application/vnd.jupyter.widget-view+json": {
       "model_id": "5146fef1d6ea4b988a14d005b9f1e35c",
       "version_major": 2,
       "version_minor": 0
      },
      "text/plain": [
       "  0%|          | 0/256 [00:00<?, ?it/s]"
      ]
     },
     "metadata": {},
     "output_type": "display_data"
    },
    {
     "name": "stdout",
     "output_type": "stream",
     "text": [
      "Sat Jul 16 21:13:13 2022 Fold 0 Epoch 15, lr: 0.0002039, train loss: 0.1158, valid loss: 0.1332, acc: 0.9663.\n",
      "acc increased (0.960938 --> 0.966309).  Saving model ...\n",
      "Sat Jul 16 21:13:14 2022 Epoch: 16\n"
     ]
    },
    {
     "data": {
      "application/vnd.jupyter.widget-view+json": {
       "model_id": "800922250c7d4be2b0a1a8fee2e5bb63",
       "version_major": 2,
       "version_minor": 0
      },
      "text/plain": [
       "  0%|          | 0/512 [00:00<?, ?it/s]"
      ]
     },
     "metadata": {},
     "output_type": "display_data"
    },
    {
     "data": {
      "application/vnd.jupyter.widget-view+json": {
       "model_id": "1fa7471efe4047d6ae0d39599e812db9",
       "version_major": 2,
       "version_minor": 0
      },
      "text/plain": [
       "  0%|          | 0/256 [00:00<?, ?it/s]"
      ]
     },
     "metadata": {},
     "output_type": "display_data"
    },
    {
     "name": "stdout",
     "output_type": "stream",
     "text": [
      "Sat Jul 16 21:15:08 2022 Fold 0 Epoch 16, lr: 0.0001452, train loss: 0.1006, valid loss: 0.1293, acc: 0.9629.\n",
      "Sat Jul 16 21:15:08 2022 Epoch: 17\n"
     ]
    },
    {
     "data": {
      "application/vnd.jupyter.widget-view+json": {
       "model_id": "ca19744723b24a5cbaef78a45695d6a0",
       "version_major": 2,
       "version_minor": 0
      },
      "text/plain": [
       "  0%|          | 0/512 [00:00<?, ?it/s]"
      ]
     },
     "metadata": {},
     "output_type": "display_data"
    },
    {
     "data": {
      "application/vnd.jupyter.widget-view+json": {
       "model_id": "1b4578afceca4665be43cadca25b0ca6",
       "version_major": 2,
       "version_minor": 0
      },
      "text/plain": [
       "  0%|          | 0/256 [00:00<?, ?it/s]"
      ]
     },
     "metadata": {},
     "output_type": "display_data"
    },
    {
     "name": "stdout",
     "output_type": "stream",
     "text": [
      "Sat Jul 16 21:17:02 2022 Fold 0 Epoch 17, lr: 0.0000949, train loss: 0.1047, valid loss: 0.1092, acc: 0.9663.\n",
      "Sat Jul 16 21:17:02 2022 Epoch: 18\n"
     ]
    },
    {
     "data": {
      "application/vnd.jupyter.widget-view+json": {
       "model_id": "c909439b136c4919a8bc1114aa7b84d9",
       "version_major": 2,
       "version_minor": 0
      },
      "text/plain": [
       "  0%|          | 0/512 [00:00<?, ?it/s]"
      ]
     },
     "metadata": {},
     "output_type": "display_data"
    },
    {
     "data": {
      "application/vnd.jupyter.widget-view+json": {
       "model_id": "f020ca1e4ea942a69f06f0531e5b8586",
       "version_major": 2,
       "version_minor": 0
      },
      "text/plain": [
       "  0%|          | 0/256 [00:00<?, ?it/s]"
      ]
     },
     "metadata": {},
     "output_type": "display_data"
    },
    {
     "name": "stdout",
     "output_type": "stream",
     "text": [
      "Sat Jul 16 21:18:56 2022 Fold 0 Epoch 18, lr: 0.0000542, train loss: 0.0747, valid loss: 0.0988, acc: 0.9736.\n",
      "acc increased (0.966309 --> 0.973633).  Saving model ...\n",
      "Sat Jul 16 21:18:57 2022 Epoch: 19\n"
     ]
    },
    {
     "data": {
      "application/vnd.jupyter.widget-view+json": {
       "model_id": "ce05024ee56446bea56d427a49bc61c6",
       "version_major": 2,
       "version_minor": 0
      },
      "text/plain": [
       "  0%|          | 0/512 [00:00<?, ?it/s]"
      ]
     },
     "metadata": {},
     "output_type": "display_data"
    },
    {
     "data": {
      "application/vnd.jupyter.widget-view+json": {
       "model_id": "9853e88e68204308b3e4578ea094b322",
       "version_major": 2,
       "version_minor": 0
      },
      "text/plain": [
       "  0%|          | 0/256 [00:00<?, ?it/s]"
      ]
     },
     "metadata": {},
     "output_type": "display_data"
    },
    {
     "name": "stdout",
     "output_type": "stream",
     "text": [
      "Sat Jul 16 21:20:51 2022 Fold 0 Epoch 19, lr: 0.0000244, train loss: 0.0780, valid loss: 0.1066, acc: 0.9702.\n",
      "Sat Jul 16 21:20:51 2022 Epoch: 20\n"
     ]
    },
    {
     "data": {
      "application/vnd.jupyter.widget-view+json": {
       "model_id": "dccd342ab95e441bac1a6d8ba9fc0f74",
       "version_major": 2,
       "version_minor": 0
      },
      "text/plain": [
       "  0%|          | 0/512 [00:00<?, ?it/s]"
      ]
     },
     "metadata": {},
     "output_type": "display_data"
    },
    {
     "data": {
      "application/vnd.jupyter.widget-view+json": {
       "model_id": "7f40d2c5ece24c37926d03523fd61799",
       "version_major": 2,
       "version_minor": 0
      },
      "text/plain": [
       "  0%|          | 0/256 [00:00<?, ?it/s]"
      ]
     },
     "metadata": {},
     "output_type": "display_data"
    },
    {
     "name": "stdout",
     "output_type": "stream",
     "text": [
      "Sat Jul 16 21:22:45 2022 Fold 0 Epoch 20, lr: 0.0000061, train loss: 0.0760, valid loss: 0.1014, acc: 0.9731.\n"
     ]
    },
    {
     "data": {
      "application/vnd.jupyter.widget-view+json": {
       "model_id": "4c87cd8395e445f39dfe18f4cb76a654",
       "version_major": 2,
       "version_minor": 0
      },
      "text/plain": [
       "  0%|          | 0/256 [00:00<?, ?it/s]"
      ]
     },
     "metadata": {},
     "output_type": "display_data"
    },
    {
     "name": "stdout",
     "output_type": "stream",
     "text": [
      "test loss 0.10324543882436288 score 0.978505129457743\n"
     ]
    }
   ],
   "source": [
    "part_2 = model.part_2_cnn('efficientnet_b3')\n",
    "part_2.train_test_img_transformation()\n",
    "part_2.load_data()\n",
    "part_2.build_model()"
   ]
  },
  {
   "cell_type": "code",
   "execution_count": null,
   "id": "4fc74e7a-826b-40fd-be6a-007f1b6dd5b5",
   "metadata": {},
   "outputs": [],
   "source": []
  }
 ],
 "metadata": {
  "kernelspec": {
   "display_name": "eeg",
   "language": "python",
   "name": "eeg"
  },
  "language_info": {
   "codemirror_mode": {
    "name": "ipython",
    "version": 3
   },
   "file_extension": ".py",
   "mimetype": "text/x-python",
   "name": "python",
   "nbconvert_exporter": "python",
   "pygments_lexer": "ipython3",
   "version": "3.9.1"
  }
 },
 "nbformat": 4,
 "nbformat_minor": 5
}
